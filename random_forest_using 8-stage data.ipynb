{
 "cells": [
  {
   "cell_type": "code",
   "execution_count": 1,
   "id": "2fbdabb3-3500-44d3-b089-3795a4b5377d",
   "metadata": {},
   "outputs": [],
   "source": [
    "import numpy as np\n",
    "import pandas as pd"
   ]
  },
  {
   "cell_type": "markdown",
   "id": "d9f83ebd-0cf0-404d-9c23-a0c0aa93d73b",
   "metadata": {},
   "source": [
    "## 训练数据处理"
   ]
  },
  {
   "cell_type": "code",
   "execution_count": 2,
   "id": "31c73405-b02e-467e-ac96-91aab8f2cbab",
   "metadata": {},
   "outputs": [],
   "source": [
    "weather_data = np.load('weather_data.npz')\n",
    "vi_data = np.load('crop_data.npz')\n",
    "freq_data = np.load('crop_data_freq.npz') #每个阶段持续天数"
   ]
  },
  {
   "cell_type": "code",
   "execution_count": 3,
   "id": "509f3050-602b-46f7-8881-201aa1d4dd33",
   "metadata": {},
   "outputs": [],
   "source": [
    "weather = weather_data['arr_0']\n",
    "vi = vi_data['arr_0']\n",
    "freq = freq_data['arr_0']"
   ]
  },
  {
   "cell_type": "code",
   "execution_count": 5,
   "id": "d9d6bbf7-ef7f-44c2-bce7-bf9b7f9387cf",
   "metadata": {},
   "outputs": [
    {
     "name": "stdout",
     "output_type": "stream",
     "text": [
      "(557, 8, 9)\n",
      "(557, 8, 8, 2, 2)\n",
      "(557, 8)\n"
     ]
    }
   ],
   "source": [
    "print(weather.shape)\n",
    "#(index,stage,var)\n",
    "print(vi.shape)\n",
    "#(index,var,stage,var_y,var_x)\n",
    "print(freq.shape)"
   ]
  },
  {
   "cell_type": "code",
   "execution_count": 7,
   "id": "b55e30c7-7cbc-43c4-a66e-9cc8046dde88",
   "metadata": {},
   "outputs": [
    {
     "data": {
      "text/plain": [
       "(557, 72)"
      ]
     },
     "execution_count": 7,
     "metadata": {},
     "output_type": "execute_result"
    }
   ],
   "source": [
    "weather_2D = np.reshape(weather,(557,weather.shape[1]*weather.shape[2]))\n",
    "weather_2D.shape"
   ]
  },
  {
   "cell_type": "code",
   "execution_count": 9,
   "id": "e6823cb6-f9cf-4c91-91d7-52eeb68005c7",
   "metadata": {},
   "outputs": [
    {
     "data": {
      "text/plain": [
       "(557, 8, 8)"
      ]
     },
     "execution_count": 9,
     "metadata": {},
     "output_type": "execute_result"
    }
   ],
   "source": [
    "vi_3D = np.mean(np.mean(vi,axis=4),axis=3)\n",
    "vi_3D.shape"
   ]
  },
  {
   "cell_type": "code",
   "execution_count": 10,
   "id": "f1be53db-58bf-4611-a8f8-e27e3489a245",
   "metadata": {},
   "outputs": [
    {
     "data": {
      "text/plain": [
       "(557, 64)"
      ]
     },
     "execution_count": 10,
     "metadata": {},
     "output_type": "execute_result"
    }
   ],
   "source": [
    "vi_n8_2D = np.reshape(vi_3D,(557,vi_3D.shape[1]*vi_3D.shape[2]),order='F') #按列合并\n",
    "vi_n8_2D.shape"
   ]
  },
  {
   "cell_type": "code",
   "execution_count": 12,
   "id": "fa5195c4-6e2a-447e-8398-cd326d6eca81",
   "metadata": {},
   "outputs": [
    {
     "name": "stdout",
     "output_type": "stream",
     "text": [
      "(557, 4, 8)\n"
     ]
    },
    {
     "data": {
      "text/plain": [
       "(557, 32)"
      ]
     },
     "execution_count": 12,
     "metadata": {},
     "output_type": "execute_result"
    }
   ],
   "source": [
    "vi_n4_3D = np.delete(vi_3D,np.arange(4,8),axis=1)\n",
    "print(vi_n4_3D.shape)\n",
    "vi_n4_2D = np.reshape(vi_n4_3D,(557,vi_n4_3D.shape[1]*vi_n4_3D.shape[2]),order='F') #按列合并\n",
    "vi_n4_2D.shape"
   ]
  },
  {
   "cell_type": "code",
   "execution_count": 14,
   "id": "3e160537-395c-47f5-85e6-e22605056fe2",
   "metadata": {},
   "outputs": [
    {
     "data": {
      "text/html": [
       "<div>\n",
       "<style scoped>\n",
       "    .dataframe tbody tr th:only-of-type {\n",
       "        vertical-align: middle;\n",
       "    }\n",
       "\n",
       "    .dataframe tbody tr th {\n",
       "        vertical-align: top;\n",
       "    }\n",
       "\n",
       "    .dataframe thead th {\n",
       "        text-align: right;\n",
       "    }\n",
       "</style>\n",
       "<table border=\"1\" class=\"dataframe\">\n",
       "  <thead>\n",
       "    <tr style=\"text-align: right;\">\n",
       "      <th></th>\n",
       "      <th>District</th>\n",
       "      <th>Latitude</th>\n",
       "      <th>Longitude</th>\n",
       "      <th>Season(SA = Summer Autumn, WS = Winter Spring)</th>\n",
       "      <th>Rice Crop Intensity(D=Double, T=Triple)</th>\n",
       "      <th>Date of Harvest</th>\n",
       "      <th>Field size (ha)</th>\n",
       "      <th>Rice Yield (kg/ha)</th>\n",
       "    </tr>\n",
       "  </thead>\n",
       "  <tbody>\n",
       "    <tr>\n",
       "      <th>0</th>\n",
       "      <td>Chau_Phu</td>\n",
       "      <td>10.510542</td>\n",
       "      <td>105.248554</td>\n",
       "      <td>SA</td>\n",
       "      <td>T</td>\n",
       "      <td>15-07-2022</td>\n",
       "      <td>3.40</td>\n",
       "      <td>5500</td>\n",
       "    </tr>\n",
       "    <tr>\n",
       "      <th>1</th>\n",
       "      <td>Chau_Phu</td>\n",
       "      <td>10.509150</td>\n",
       "      <td>105.265098</td>\n",
       "      <td>SA</td>\n",
       "      <td>T</td>\n",
       "      <td>15-07-2022</td>\n",
       "      <td>2.43</td>\n",
       "      <td>6000</td>\n",
       "    </tr>\n",
       "    <tr>\n",
       "      <th>2</th>\n",
       "      <td>Chau_Phu</td>\n",
       "      <td>10.467721</td>\n",
       "      <td>105.192464</td>\n",
       "      <td>SA</td>\n",
       "      <td>D</td>\n",
       "      <td>15-07-2022</td>\n",
       "      <td>1.95</td>\n",
       "      <td>6400</td>\n",
       "    </tr>\n",
       "    <tr>\n",
       "      <th>3</th>\n",
       "      <td>Chau_Phu</td>\n",
       "      <td>10.494453</td>\n",
       "      <td>105.241281</td>\n",
       "      <td>SA</td>\n",
       "      <td>T</td>\n",
       "      <td>15-07-2022</td>\n",
       "      <td>4.30</td>\n",
       "      <td>6000</td>\n",
       "    </tr>\n",
       "    <tr>\n",
       "      <th>4</th>\n",
       "      <td>Chau_Phu</td>\n",
       "      <td>10.535058</td>\n",
       "      <td>105.252744</td>\n",
       "      <td>SA</td>\n",
       "      <td>D</td>\n",
       "      <td>14-07-2022</td>\n",
       "      <td>3.30</td>\n",
       "      <td>6400</td>\n",
       "    </tr>\n",
       "    <tr>\n",
       "      <th>...</th>\n",
       "      <td>...</td>\n",
       "      <td>...</td>\n",
       "      <td>...</td>\n",
       "      <td>...</td>\n",
       "      <td>...</td>\n",
       "      <td>...</td>\n",
       "      <td>...</td>\n",
       "      <td>...</td>\n",
       "    </tr>\n",
       "    <tr>\n",
       "      <th>552</th>\n",
       "      <td>Thoai_Son</td>\n",
       "      <td>10.364419</td>\n",
       "      <td>105.164984</td>\n",
       "      <td>WS</td>\n",
       "      <td>T</td>\n",
       "      <td>12-04-2022</td>\n",
       "      <td>7.80</td>\n",
       "      <td>6640</td>\n",
       "    </tr>\n",
       "    <tr>\n",
       "      <th>553</th>\n",
       "      <td>Thoai_Son</td>\n",
       "      <td>10.358094</td>\n",
       "      <td>105.189541</td>\n",
       "      <td>WS</td>\n",
       "      <td>T</td>\n",
       "      <td>12-04-2022</td>\n",
       "      <td>2.00</td>\n",
       "      <td>7200</td>\n",
       "    </tr>\n",
       "    <tr>\n",
       "      <th>554</th>\n",
       "      <td>Thoai_Son</td>\n",
       "      <td>10.368014</td>\n",
       "      <td>105.238516</td>\n",
       "      <td>WS</td>\n",
       "      <td>T</td>\n",
       "      <td>12-04-2022</td>\n",
       "      <td>6.20</td>\n",
       "      <td>7200</td>\n",
       "    </tr>\n",
       "    <tr>\n",
       "      <th>555</th>\n",
       "      <td>Thoai_Son</td>\n",
       "      <td>10.275419</td>\n",
       "      <td>105.234563</td>\n",
       "      <td>WS</td>\n",
       "      <td>T</td>\n",
       "      <td>20-04-2022</td>\n",
       "      <td>3.00</td>\n",
       "      <td>6400</td>\n",
       "    </tr>\n",
       "    <tr>\n",
       "      <th>556</th>\n",
       "      <td>Thoai_Son</td>\n",
       "      <td>10.304295</td>\n",
       "      <td>105.270460</td>\n",
       "      <td>WS</td>\n",
       "      <td>T</td>\n",
       "      <td>13-04-2022</td>\n",
       "      <td>2.30</td>\n",
       "      <td>7200</td>\n",
       "    </tr>\n",
       "  </tbody>\n",
       "</table>\n",
       "<p>557 rows × 8 columns</p>\n",
       "</div>"
      ],
      "text/plain": [
       "      District   Latitude   Longitude  \\\n",
       "0     Chau_Phu  10.510542  105.248554   \n",
       "1     Chau_Phu  10.509150  105.265098   \n",
       "2     Chau_Phu  10.467721  105.192464   \n",
       "3     Chau_Phu  10.494453  105.241281   \n",
       "4     Chau_Phu  10.535058  105.252744   \n",
       "..         ...        ...         ...   \n",
       "552  Thoai_Son  10.364419  105.164984   \n",
       "553  Thoai_Son  10.358094  105.189541   \n",
       "554  Thoai_Son  10.368014  105.238516   \n",
       "555  Thoai_Son  10.275419  105.234563   \n",
       "556  Thoai_Son  10.304295  105.270460   \n",
       "\n",
       "    Season(SA = Summer Autumn, WS = Winter Spring)  \\\n",
       "0                                               SA   \n",
       "1                                               SA   \n",
       "2                                               SA   \n",
       "3                                               SA   \n",
       "4                                               SA   \n",
       "..                                             ...   \n",
       "552                                             WS   \n",
       "553                                             WS   \n",
       "554                                             WS   \n",
       "555                                             WS   \n",
       "556                                             WS   \n",
       "\n",
       "    Rice Crop Intensity(D=Double, T=Triple) Date of Harvest  Field size (ha)  \\\n",
       "0                                         T      15-07-2022             3.40   \n",
       "1                                         T      15-07-2022             2.43   \n",
       "2                                         D      15-07-2022             1.95   \n",
       "3                                         T      15-07-2022             4.30   \n",
       "4                                         D      14-07-2022             3.30   \n",
       "..                                      ...             ...              ...   \n",
       "552                                       T      12-04-2022             7.80   \n",
       "553                                       T      12-04-2022             2.00   \n",
       "554                                       T      12-04-2022             6.20   \n",
       "555                                       T      20-04-2022             3.00   \n",
       "556                                       T      13-04-2022             2.30   \n",
       "\n",
       "     Rice Yield (kg/ha)  \n",
       "0                  5500  \n",
       "1                  6000  \n",
       "2                  6400  \n",
       "3                  6000  \n",
       "4                  6400  \n",
       "..                  ...  \n",
       "552                6640  \n",
       "553                7200  \n",
       "554                7200  \n",
       "555                6400  \n",
       "556                7200  \n",
       "\n",
       "[557 rows x 8 columns]"
      ]
     },
     "execution_count": 14,
     "metadata": {},
     "output_type": "execute_result"
    }
   ],
   "source": [
    "index = pd.read_csv('Crop_Yield_Data_challenge_2.csv')\n",
    "index"
   ]
  },
  {
   "cell_type": "code",
   "execution_count": 15,
   "id": "a21121a4-3bef-4ba8-985a-bfb95f1da90c",
   "metadata": {
    "tags": []
   },
   "outputs": [],
   "source": [
    "n_cycle = pd.get_dummies(index['Rice Crop Intensity(D=Double, T=Triple)'])  #生成D、T两列\n",
    "n_cycle = np.reshape(np.array(n_cycle['D']),(-1,1))   #以D=1，T=1，(-1,1)指转化为一列\n",
    "field_size = np.reshape(np.array(index['Field size (ha)']),(-1,1))"
   ]
  },
  {
   "cell_type": "code",
   "execution_count": 17,
   "id": "8828c2e7-a023-4b4f-a851-4cb6e3620f04",
   "metadata": {},
   "outputs": [
    {
     "data": {
      "text/plain": [
       "(557,)"
      ]
     },
     "execution_count": 17,
     "metadata": {},
     "output_type": "execute_result"
    }
   ],
   "source": [
    "y_train = index['Rice Yield (kg/ha)']\n",
    "y_train.shape"
   ]
  },
  {
   "cell_type": "code",
   "execution_count": 18,
   "id": "1d830d86-8bad-41fc-9efe-4970ffe06d12",
   "metadata": {},
   "outputs": [
    {
     "data": {
      "text/plain": [
       "(557, 146)"
      ]
     },
     "execution_count": 18,
     "metadata": {},
     "output_type": "execute_result"
    }
   ],
   "source": [
    "#合并预测变量\n",
    "X_train_8vi = np.concatenate((weather_2D, vi_n8_2D, freq, n_cycle, field_size),axis=1)\n",
    "X_train_8vi.shape"
   ]
  },
  {
   "cell_type": "code",
   "execution_count": 19,
   "id": "b430ef18-4975-410c-97f9-f989a2802e9b",
   "metadata": {},
   "outputs": [
    {
     "data": {
      "text/plain": [
       "(557, 114)"
      ]
     },
     "execution_count": 19,
     "metadata": {},
     "output_type": "execute_result"
    }
   ],
   "source": [
    "X_train_4vi = np.concatenate((weather_2D, vi_n4_2D, freq, n_cycle, field_size),axis=1)\n",
    "X_train_4vi.shape"
   ]
  },
  {
   "cell_type": "markdown",
   "id": "dd0211b5-0474-4f51-93bb-e24cccf069d0",
   "metadata": {},
   "source": [
    "## 开始建模"
   ]
  },
  {
   "cell_type": "code",
   "execution_count": 20,
   "id": "ec79037a-de2d-48e0-96aa-328f410227f6",
   "metadata": {},
   "outputs": [],
   "source": [
    "from sklearn.model_selection import GridSearchCV\n",
    "from sklearn.model_selection import cross_val_score\n",
    "from sklearn.ensemble import RandomForestRegressor\n",
    "from sklearn.metrics import r2_score\n",
    "import matplotlib.pyplot as plt"
   ]
  },
  {
   "cell_type": "markdown",
   "id": "48a06a5c-8d56-4c16-8505-df95cca1c9e7",
   "metadata": {},
   "source": [
    "首先使用默认模型测试效果"
   ]
  },
  {
   "cell_type": "code",
   "execution_count": 21,
   "id": "b9692af7-655a-4249-bba6-7c6c59d9c215",
   "metadata": {},
   "outputs": [],
   "source": [
    "rf0 = RandomForestRegressor(n_jobs=-1, random_state=28)"
   ]
  },
  {
   "cell_type": "code",
   "execution_count": 22,
   "id": "ce153c99-578c-4399-a6b6-d66dfc54b128",
   "metadata": {},
   "outputs": [
    {
     "data": {
      "text/plain": [
       "0.6380755727957599"
      ]
     },
     "execution_count": 22,
     "metadata": {},
     "output_type": "execute_result"
    }
   ],
   "source": [
    "cv0_8vi = cross_val_score(rf0, X_train_8vi, y_train,\n",
    "                          scoring='r2',\n",
    "                          cv=3,\n",
    "                          n_jobs=-1).mean()\n",
    "cv0_8vi"
   ]
  },
  {
   "cell_type": "code",
   "execution_count": 23,
   "id": "8583bece-95b6-446b-94d4-c68c42525fa5",
   "metadata": {},
   "outputs": [
    {
     "data": {
      "text/plain": [
       "0.6309962127879817"
      ]
     },
     "execution_count": 23,
     "metadata": {},
     "output_type": "execute_result"
    }
   ],
   "source": [
    "cv0_4vi = cross_val_score(rf0, X_train_4vi, y_train,\n",
    "                          scoring='r2',\n",
    "                          cv=3,\n",
    "                          n_jobs=-1).mean()\n",
    "cv0_4vi"
   ]
  },
  {
   "cell_type": "markdown",
   "id": "be1b5c94-efc5-4e70-916e-901edb091ea6",
   "metadata": {},
   "source": [
    "### 参数调节"
   ]
  },
  {
   "cell_type": "markdown",
   "id": "0af82292-1fd3-41fe-a305-2b761de3815b",
   "metadata": {},
   "source": [
    "#### 8个VI"
   ]
  },
  {
   "cell_type": "markdown",
   "id": "9f2a0d9d-05b1-4eb2-98fc-ce75977ce6c2",
   "metadata": {},
   "source": [
    "调节`n_estimators`参数，分为两步：先确定大致范围，再具体到个位数"
   ]
  },
  {
   "cell_type": "code",
   "execution_count": 34,
   "id": "35b792c2-c866-4521-b247-bdd22a73e767",
   "metadata": {},
   "outputs": [
    {
     "name": "stdout",
     "output_type": "stream",
     "text": [
      "0.6380755727957599 100\n"
     ]
    }
   ],
   "source": [
    "cv_score_list = []\n",
    "for i in range(50,250,10):\n",
    "    rf = RandomForestRegressor(n_estimators=i,\n",
    "                               n_jobs=-1, random_state=28)\n",
    "    cv_score = cross_val_score(rf, X_train_8vi, y_train,\n",
    "                               scoring='r2',\n",
    "                               cv=3,\n",
    "                               n_jobs=-1).mean()\n",
    "    cv_score_list.append(cv_score)\n",
    "print(max(cv_score_list),([*range(50,250,10)][cv_score_list.index(max(cv_score_list))]))"
   ]
  },
  {
   "cell_type": "code",
   "execution_count": 35,
   "id": "14c6b0ef-4a6f-4a35-822c-6306b70e23a9",
   "metadata": {},
   "outputs": [
    {
     "data": {
      "image/png": "[encoded data removed]",
      "text/plain": [
       "<Figure size 2000x500 with 1 Axes>"
      ]
     },
     "metadata": {},
     "output_type": "display_data"
    }
   ],
   "source": [
    "plt.figure(figsize=[20,5])\n",
    "plt.plot(range(50,250,10),cv_score_list)\n",
    "plt.show()"
   ]
  },
  {
   "cell_type": "code",
   "execution_count": 36,
   "id": "d300cea6-f224-48c7-bb3c-5003f6518b4c",
   "metadata": {},
   "outputs": [
    {
     "name": "stdout",
     "output_type": "stream",
     "text": [
      "0.6380755727957599 100\n"
     ]
    }
   ],
   "source": [
    "cv_score_list=[]\n",
    "for i in range(91,110):\n",
    "    rf = RandomForestRegressor(n_estimators=i,\n",
    "                               n_jobs=-1, random_state=28)\n",
    "    cv_score = cross_val_score(rf, X_train_8vi, y_train,\n",
    "                               scoring='r2',\n",
    "                               cv=3,\n",
    "                               n_jobs=-1).mean()\n",
    "    cv_score_list.append(cv_score)\n",
    "print(max(cv_score_list),([*range(91,110)][cv_score_list.index(max(cv_score_list))]))"
   ]
  },
  {
   "cell_type": "markdown",
   "id": "483c3f38-9dcb-49e0-ac9a-33235c49864c",
   "metadata": {},
   "source": [
    "调节`max_depth`参数"
   ]
  },
  {
   "cell_type": "code",
   "execution_count": 37,
   "id": "4b8072f3-d5e1-4a92-a268-76fd7fff01f8",
   "metadata": {},
   "outputs": [
    {
     "name": "stdout",
     "output_type": "stream",
     "text": [
      "0.6531335523825014 2\n"
     ]
    }
   ],
   "source": [
    "cv_score_list=[]\n",
    "for i in range(1,11):\n",
    "    rf = RandomForestRegressor(n_estimators=100,\n",
    "                               max_depth=i,\n",
    "                               n_jobs=-1, random_state=28)\n",
    "    cv_score = cross_val_score(rf, X_train_8vi, y_train,\n",
    "                               scoring='r2',\n",
    "                               cv=3,\n",
    "                               n_jobs=-1).mean()\n",
    "    cv_score_list.append(cv_score)\n",
    "print(max(cv_score_list),([*range(1,11)][cv_score_list.index(max(cv_score_list))]))"
   ]
  },
  {
   "cell_type": "markdown",
   "id": "a2b88171-5391-483c-8b65-7bcaa55b81cd",
   "metadata": {},
   "source": [
    "调节`max_features`参数"
   ]
  },
  {
   "cell_type": "code",
   "execution_count": 38,
   "id": "86478858-4cf4-4f10-9351-770d588643db",
   "metadata": {},
   "outputs": [
    {
     "name": "stdout",
     "output_type": "stream",
     "text": [
      "0.6601122380263974 10\n"
     ]
    }
   ],
   "source": [
    "cv_score_list=[]\n",
    "for i in range(1,14):\n",
    "    rf = RandomForestRegressor(n_estimators=100,\n",
    "                               max_depth=2,\n",
    "                               max_features=i,\n",
    "                               n_jobs=-1, random_state=28)\n",
    "    cv_score = cross_val_score(rf, X_train_8vi, y_train,\n",
    "                               scoring='r2',\n",
    "                               cv=3,\n",
    "                               n_jobs=-1).mean()\n",
    "    cv_score_list.append(cv_score)\n",
    "print(max(cv_score_list),([*range(1,14)][cv_score_list.index(max(cv_score_list))]))"
   ]
  },
  {
   "cell_type": "markdown",
   "id": "42373790-1042-49d1-913d-b59e5def5ddc",
   "metadata": {},
   "source": [
    "调节`min_samples_split`参数"
   ]
  },
  {
   "cell_type": "code",
   "execution_count": 39,
   "id": "2e3cdcc2-6fb7-4ddb-b827-928ac9ab3711",
   "metadata": {},
   "outputs": [
    {
     "name": "stdout",
     "output_type": "stream",
     "text": [
      "0.6601122380263975 2\n"
     ]
    }
   ],
   "source": [
    "cv_score_list=[]\n",
    "for i in range(2,22):\n",
    "    rf = RandomForestRegressor(n_estimators=100,\n",
    "                               max_depth=2,\n",
    "                               max_features=10,\n",
    "                               min_samples_split=i,\n",
    "                               n_jobs=-1, random_state=28)\n",
    "    cv_score = cross_val_score(rf, X_train_8vi, y_train,\n",
    "                               scoring='r2',\n",
    "                               cv=3,\n",
    "                               n_jobs=-1).mean()\n",
    "    cv_score_list.append(cv_score)\n",
    "print(max(cv_score_list),([*range(2,22)][cv_score_list.index(max(cv_score_list))]))"
   ]
  },
  {
   "cell_type": "markdown",
   "id": "07307668-3417-48d4-8bca-1370adc77c3b",
   "metadata": {},
   "source": [
    "调节`min_samples_leaf`参数"
   ]
  },
  {
   "cell_type": "code",
   "execution_count": 40,
   "id": "26ef2b74-9230-4c82-a830-59d2ecb373b7",
   "metadata": {},
   "outputs": [
    {
     "name": "stdout",
     "output_type": "stream",
     "text": [
      "0.6601853833469761 12\n"
     ]
    }
   ],
   "source": [
    "cv_score_list=[]\n",
    "for i in range(1,21):\n",
    "    rf = RandomForestRegressor(n_estimators=100,\n",
    "                               max_depth=2,\n",
    "                               max_features=10,\n",
    "                               min_samples_split=2,\n",
    "                               min_samples_leaf=i,\n",
    "                               n_jobs=-1, random_state=28)\n",
    "    cv_score = cross_val_score(rf, X_train_8vi, y_train,\n",
    "                               scoring='r2',\n",
    "                               cv=3,\n",
    "                               n_jobs=-1).mean()\n",
    "    cv_score_list.append(cv_score)\n",
    "print(max(cv_score_list),([*range(1,21)][cv_score_list.index(max(cv_score_list))]))"
   ]
  },
  {
   "cell_type": "markdown",
   "id": "aaefd9a3-a523-4413-a42d-fef35cdda4ba",
   "metadata": {},
   "source": [
    "组合搜索寻求进一步优化"
   ]
  },
  {
   "cell_type": "code",
   "execution_count": 41,
   "id": "db92fe55-5b51-4f07-b102-af1e6424efdf",
   "metadata": {},
   "outputs": [],
   "source": [
    "params = {'max_depth':np.arange(1,5),\n",
    "          'max_features':np.arange(8,13),\n",
    "          'min_samples_split':np.arange(1,5),\n",
    "          'min_samples_leaf':np.arange(10,15)}"
   ]
  },
  {
   "cell_type": "code",
   "execution_count": 42,
   "id": "fe5912ff-f087-4cd7-b787-43ab6772934c",
   "metadata": {},
   "outputs": [
    {
     "name": "stderr",
     "output_type": "stream",
     "text": [
      "/srv/conda/envs/notebook/lib/python3.10/site-packages/sklearn/model_selection/_validation.py:378: FitFailedWarning: \n",
      "300 fits failed out of a total of 1200.\n",
      "The score on these train-test partitions for these parameters will be set to nan.\n",
      "If these failures are not expected, you can try to debug them by setting error_score='raise'.\n",
      "\n",
      "Below are more details about the failures:\n",
      "--------------------------------------------------------------------------------\n",
      "300 fits failed with the following error:\n",
      "Traceback (most recent call last):\n",
      "  File \"/srv/conda/envs/notebook/lib/python3.10/site-packages/sklearn/model_selection/_validation.py\", line 686, in _fit_and_score\n",
      "    estimator.fit(X_train, y_train, **fit_params)\n",
      "  File \"/srv/conda/envs/notebook/lib/python3.10/site-packages/sklearn/ensemble/_forest.py\", line 476, in fit\n",
      "    trees = Parallel(\n",
      "  File \"/srv/conda/envs/notebook/lib/python3.10/site-packages/joblib/parallel.py\", line 1098, in __call__\n",
      "    self.retrieve()\n",
      "  File \"/srv/conda/envs/notebook/lib/python3.10/site-packages/joblib/parallel.py\", line 975, in retrieve\n",
      "    self._output.extend(job.get(timeout=self.timeout))\n",
      "  File \"/srv/conda/envs/notebook/lib/python3.10/multiprocessing/pool.py\", line 774, in get\n",
      "    raise self._value\n",
      "  File \"/srv/conda/envs/notebook/lib/python3.10/multiprocessing/pool.py\", line 125, in worker\n",
      "    result = (True, func(*args, **kwds))\n",
      "  File \"/srv/conda/envs/notebook/lib/python3.10/site-packages/joblib/_parallel_backends.py\", line 620, in __call__\n",
      "    return self.func(*args, **kwargs)\n",
      "  File \"/srv/conda/envs/notebook/lib/python3.10/site-packages/joblib/parallel.py\", line 288, in __call__\n",
      "    return [func(*args, **kwargs)\n",
      "  File \"/srv/conda/envs/notebook/lib/python3.10/site-packages/joblib/parallel.py\", line 288, in <listcomp>\n",
      "    return [func(*args, **kwargs)\n",
      "  File \"/srv/conda/envs/notebook/lib/python3.10/site-packages/sklearn/utils/fixes.py\", line 117, in __call__\n",
      "    return self.function(*args, **kwargs)\n",
      "  File \"/srv/conda/envs/notebook/lib/python3.10/site-packages/sklearn/ensemble/_forest.py\", line 189, in _parallel_build_trees\n",
      "    tree.fit(X, y, sample_weight=curr_sample_weight, check_input=False)\n",
      "  File \"/srv/conda/envs/notebook/lib/python3.10/site-packages/sklearn/tree/_classes.py\", line 1342, in fit\n",
      "    super().fit(\n",
      "  File \"/srv/conda/envs/notebook/lib/python3.10/site-packages/sklearn/tree/_classes.py\", line 265, in fit\n",
      "    check_scalar(\n",
      "  File \"/srv/conda/envs/notebook/lib/python3.10/site-packages/sklearn/utils/validation.py\", line 1480, in check_scalar\n",
      "    raise ValueError(\n",
      "ValueError: min_samples_split == 1, must be >= 2.\n",
      "\n",
      "  warnings.warn(some_fits_failed_message, FitFailedWarning)\n",
      "/srv/conda/envs/notebook/lib/python3.10/site-packages/sklearn/model_selection/_search.py:953: UserWarning: One or more of the test scores are non-finite: [       nan 0.65986173 0.65986173 0.65986173        nan 0.65986173\n",
      " 0.65986173 0.65986173        nan 0.65986173 0.65986173 0.65986173\n",
      "        nan 0.65986173 0.65986173 0.65986173        nan 0.65986173\n",
      " 0.65986173 0.65986173        nan 0.65931736 0.65931736 0.65931736\n",
      "        nan 0.65931736 0.65931736 0.65931736        nan 0.65931736\n",
      " 0.65931736 0.65931736        nan 0.65931736 0.65931736 0.65931736\n",
      "        nan 0.65931736 0.65931736 0.65931736        nan 0.65898907\n",
      " 0.65898907 0.65898907        nan 0.65898907 0.65898907 0.65898907\n",
      "        nan 0.65898907 0.65898907 0.65898907        nan 0.65898907\n",
      " 0.65898907 0.65898907        nan 0.65898907 0.65898907 0.65898907\n",
      "        nan 0.65918206 0.65918206 0.65918206        nan 0.65918206\n",
      " 0.65918206 0.65918206        nan 0.65918206 0.65918206 0.65918206\n",
      "        nan 0.65918206 0.65918206 0.65918206        nan 0.65918206\n",
      " 0.65918206 0.65918206        nan 0.65810796 0.65810796 0.65810796\n",
      "        nan 0.65810796 0.65810796 0.65810796        nan 0.65810796\n",
      " 0.65810796 0.65810796        nan 0.65810796 0.65810796 0.65810796\n",
      "        nan 0.65810796 0.65810796 0.65810796        nan 0.65957463\n",
      " 0.65957463 0.65957463        nan 0.65934626 0.65934626 0.65934626\n",
      "        nan 0.65879982 0.65879982 0.65879982        nan 0.65843501\n",
      " 0.65843501 0.65843501        nan 0.65862136 0.65862136 0.65862136\n",
      "        nan 0.65958478 0.65958478 0.65958478        nan 0.65969584\n",
      " 0.65969584 0.65969584        nan 0.65955082 0.65955082 0.65955082\n",
      "        nan 0.65955976 0.65955976 0.65955976        nan 0.6593249\n",
      " 0.6593249  0.6593249         nan 0.65996213 0.65996213 0.65996213\n",
      "        nan 0.66011736 0.66011736 0.66011736        nan 0.66018538\n",
      " 0.66018538 0.66018538        nan 0.6596625  0.6596625  0.6596625\n",
      "        nan 0.65901147 0.65901147 0.65901147        nan 0.65775598\n",
      " 0.65775598 0.65775598        nan 0.65809568 0.65809568 0.65809568\n",
      "        nan 0.65784924 0.65784924 0.65784924        nan 0.65796289\n",
      " 0.65796289 0.65796289        nan 0.65769902 0.65769902 0.65769902\n",
      "        nan 0.65875664 0.65875664 0.65875664        nan 0.65896131\n",
      " 0.65896131 0.65896131        nan 0.65911855 0.65911855 0.65911855\n",
      "        nan 0.6593111  0.6593111  0.6593111         nan 0.65974148\n",
      " 0.65974148 0.65974148        nan 0.65676056 0.65676056 0.65676056\n",
      "        nan 0.65668296 0.65668296 0.65668296        nan 0.65721085\n",
      " 0.65721085 0.65721085        nan 0.65697192 0.65697192 0.65697192\n",
      "        nan 0.65721602 0.65721602 0.65721602        nan 0.65573513\n",
      " 0.65573513 0.65573513        nan 0.65518579 0.65518579 0.65518579\n",
      "        nan 0.65558153 0.65558153 0.65558153        nan 0.6557049\n",
      " 0.6557049  0.6557049         nan 0.65542863 0.65542863 0.65542863\n",
      "        nan 0.65525789 0.65525789 0.65525789        nan 0.65517051\n",
      " 0.65517051 0.65517051        nan 0.65521989 0.65521989 0.65521989\n",
      "        nan 0.65566746 0.65566746 0.65566746        nan 0.6557274\n",
      " 0.6557274  0.6557274         nan 0.65625373 0.65625373 0.65625373\n",
      "        nan 0.65619494 0.65619494 0.65619494        nan 0.65652825\n",
      " 0.65652825 0.65652825        nan 0.65615147 0.65615147 0.65615147\n",
      "        nan 0.6561614  0.6561614  0.6561614         nan 0.65691527\n",
      " 0.65691527 0.65691527        nan 0.65707031 0.65707031 0.65707031\n",
      "        nan 0.65639604 0.65639604 0.65639604        nan 0.65653261\n",
      " 0.65653261 0.65653261        nan 0.65586384 0.65586384 0.65586384\n",
      "        nan 0.6531088  0.6531088  0.6531088         nan 0.65376133\n",
      " 0.65376133 0.65376133        nan 0.65403637 0.65403637 0.65403637\n",
      "        nan 0.65427033 0.65427033 0.65427033        nan 0.6539756\n",
      " 0.6539756  0.6539756         nan 0.65303258 0.65303258 0.65303258\n",
      "        nan 0.65324901 0.65324901 0.65324901        nan 0.65419577\n",
      " 0.65419577 0.65419577        nan 0.65411169 0.65411169 0.65411169\n",
      "        nan 0.65574727 0.65574727 0.65574727        nan 0.65529097\n",
      " 0.65529097 0.65529097        nan 0.65615536 0.65615536 0.65615536\n",
      "        nan 0.65550106 0.65550106 0.65550106        nan 0.65699276\n",
      " 0.65699276 0.65699276        nan 0.65704468 0.65704468 0.65704468\n",
      "        nan 0.65610854 0.65610854 0.65610854        nan 0.65640508\n",
      " 0.65640508 0.65640508        nan 0.6565886  0.6565886  0.6565886\n",
      "        nan 0.65458792 0.65458792 0.65458792        nan 0.6537817\n",
      " 0.6537817  0.6537817         nan 0.65388215 0.65388215 0.65388215\n",
      "        nan 0.6533543  0.6533543  0.6533543         nan 0.65270749\n",
      " 0.65270749 0.65270749        nan 0.65243061 0.65243061 0.65243061\n",
      "        nan 0.65279561 0.65279561 0.65279561]\n",
      "  warnings.warn(\n"
     ]
    },
    {
     "name": "stdout",
     "output_type": "stream",
     "text": [
      "best_params: {'max_depth': 2, 'max_features': 10, 'min_samples_leaf': 12, 'min_samples_split': 3}\n",
      "best_score: 0.6601853833469761\n"
     ]
    }
   ],
   "source": [
    "rf = RandomForestRegressor(n_jobs=-1, random_state=28,\n",
    "                           n_estimators=100)\n",
    "rfsearch1 = GridSearchCV(rf, params,\n",
    "                         scoring='r2',\n",
    "                         cv=3, n_jobs=-1)\n",
    "rfsearch1.fit(X_train_8vi, y_train)\n",
    "print('best_params:',rfsearch1.best_params_)\n",
    "print('best_score:', rfsearch1.best_score_)"
   ]
  },
  {
   "cell_type": "code",
   "execution_count": 43,
   "id": "084bf439-ab8e-46d7-990c-46aae41c6f96",
   "metadata": {},
   "outputs": [
    {
     "name": "stdout",
     "output_type": "stream",
     "text": [
      "0.6630582282969018 93\n"
     ]
    }
   ],
   "source": [
    "# random_state\n",
    "cv_score_list=[]\n",
    "for i in range(200):\n",
    "    rf = RandomForestRegressor(n_estimators=100,\n",
    "                               max_depth=2,\n",
    "                               max_features=10,\n",
    "                               min_samples_split=3,\n",
    "                               min_samples_leaf=12,\n",
    "                               n_jobs=-1,\n",
    "                               random_state=i)\n",
    "    cv_score = cross_val_score(rf, X_train_8vi, y_train,\n",
    "                               scoring='r2',\n",
    "                               cv=3,\n",
    "                               n_jobs=-1).mean()\n",
    "    cv_score_list.append(cv_score)\n",
    "print(max(cv_score_list),([*range(200)][cv_score_list.index(max(cv_score_list))]))"
   ]
  },
  {
   "cell_type": "code",
   "execution_count": 44,
   "id": "18e32ac2-e69a-47b3-a81c-ce6b2d323e8a",
   "metadata": {},
   "outputs": [
    {
     "data": {
      "text/html": [
       "<style>#sk-container-id-1 {color: black;background-color: white;}#sk-container-id-1 pre{padding: 0;}#sk-container-id-1 div.sk-toggleable {background-color: white;}#sk-container-id-1 label.sk-toggleable__label {cursor: pointer;display: block;width: 100%;margin-bottom: 0;padding: 0.3em;box-sizing: border-box;text-align: center;}#sk-container-id-1 label.sk-toggleable__label-arrow:before {content: \"▸\";float: left;margin-right: 0.25em;color: #696969;}#sk-container-id-1 label.sk-toggleable__label-arrow:hover:before {color: black;}#sk-container-id-1 div.sk-estimator:hover label.sk-toggleable__label-arrow:before {color: black;}#sk-container-id-1 div.sk-toggleable__content {max-height: 0;max-width: 0;overflow: hidden;text-align: left;background-color: #f0f8ff;}#sk-container-id-1 div.sk-toggleable__content pre {margin: 0.2em;color: black;border-radius: 0.25em;background-color: #f0f8ff;}#sk-container-id-1 input.sk-toggleable__control:checked~div.sk-toggleable__content {max-height: 200px;max-width: 100%;overflow: auto;}#sk-container-id-1 input.sk-toggleable__control:checked~label.sk-toggleable__label-arrow:before {content: \"▾\";}#sk-container-id-1 div.sk-estimator input.sk-toggleable__control:checked~label.sk-toggleable__label {background-color: #d4ebff;}#sk-container-id-1 div.sk-label input.sk-toggleable__control:checked~label.sk-toggleable__label {background-color: #d4ebff;}#sk-container-id-1 input.sk-hidden--visually {border: 0;clip: rect(1px 1px 1px 1px);clip: rect(1px, 1px, 1px, 1px);height: 1px;margin: -1px;overflow: hidden;padding: 0;position: absolute;width: 1px;}#sk-container-id-1 div.sk-estimator {font-family: monospace;background-color: #f0f8ff;border: 1px dotted black;border-radius: 0.25em;box-sizing: border-box;margin-bottom: 0.5em;}#sk-container-id-1 div.sk-estimator:hover {background-color: #d4ebff;}#sk-container-id-1 div.sk-parallel-item::after {content: \"\";width: 100%;border-bottom: 1px solid gray;flex-grow: 1;}#sk-container-id-1 div.sk-label:hover label.sk-toggleable__label {background-color: #d4ebff;}#sk-container-id-1 div.sk-serial::before {content: \"\";position: absolute;border-left: 1px solid gray;box-sizing: border-box;top: 0;bottom: 0;left: 50%;z-index: 0;}#sk-container-id-1 div.sk-serial {display: flex;flex-direction: column;align-items: center;background-color: white;padding-right: 0.2em;padding-left: 0.2em;position: relative;}#sk-container-id-1 div.sk-item {position: relative;z-index: 1;}#sk-container-id-1 div.sk-parallel {display: flex;align-items: stretch;justify-content: center;background-color: white;position: relative;}#sk-container-id-1 div.sk-item::before, #sk-container-id-1 div.sk-parallel-item::before {content: \"\";position: absolute;border-left: 1px solid gray;box-sizing: border-box;top: 0;bottom: 0;left: 50%;z-index: -1;}#sk-container-id-1 div.sk-parallel-item {display: flex;flex-direction: column;z-index: 1;position: relative;background-color: white;}#sk-container-id-1 div.sk-parallel-item:first-child::after {align-self: flex-end;width: 50%;}#sk-container-id-1 div.sk-parallel-item:last-child::after {align-self: flex-start;width: 50%;}#sk-container-id-1 div.sk-parallel-item:only-child::after {width: 0;}#sk-container-id-1 div.sk-dashed-wrapped {border: 1px dashed gray;margin: 0 0.4em 0.5em 0.4em;box-sizing: border-box;padding-bottom: 0.4em;background-color: white;}#sk-container-id-1 div.sk-label label {font-family: monospace;font-weight: bold;display: inline-block;line-height: 1.2em;}#sk-container-id-1 div.sk-label-container {text-align: center;}#sk-container-id-1 div.sk-container {/* jupyter's `normalize.less` sets `[hidden] { display: none; }` but bootstrap.min.css set `[hidden] { display: none !important; }` so we also need the `!important` here to be able to override the default hidden behavior on the sphinx rendered scikit-learn.org. See: https://github.com/scikit-learn/scikit-learn/issues/21755 */display: inline-block !important;position: relative;}#sk-container-id-1 div.sk-text-repr-fallback {display: none;}</style><div id=\"sk-container-id-1\" class=\"sk-top-container\"><div class=\"sk-text-repr-fallback\"><pre>RandomForestRegressor(max_depth=2, max_features=10, min_samples_leaf=12,\n",
       "                      min_samples_split=3, n_jobs=-1, random_state=93)</pre><b>In a Jupyter environment, please rerun this cell to show the HTML representation or trust the notebook. <br />On GitHub, the HTML representation is unable to render, please try loading this page with nbviewer.org.</b></div><div class=\"sk-container\" hidden><div class=\"sk-item\"><div class=\"sk-estimator sk-toggleable\"><input class=\"sk-toggleable__control sk-hidden--visually\" id=\"sk-estimator-id-1\" type=\"checkbox\" checked><label for=\"sk-estimator-id-1\" class=\"sk-toggleable__label sk-toggleable__label-arrow\">RandomForestRegressor</label><div class=\"sk-toggleable__content\"><pre>RandomForestRegressor(max_depth=2, max_features=10, min_samples_leaf=12,\n",
       "                      min_samples_split=3, n_jobs=-1, random_state=93)</pre></div></div></div></div></div>"
      ],
      "text/plain": [
       "RandomForestRegressor(max_depth=2, max_features=10, min_samples_leaf=12,\n",
       "                      min_samples_split=3, n_jobs=-1, random_state=93)"
      ]
     },
     "execution_count": 44,
     "metadata": {},
     "output_type": "execute_result"
    }
   ],
   "source": [
    "rf_best = RandomForestRegressor(n_estimators=100,\n",
    "                                max_depth=2,\n",
    "                                max_features=10,\n",
    "                                min_samples_split=3,\n",
    "                                min_samples_leaf=12,\n",
    "                                n_jobs=-1,\n",
    "                                random_state=93)\n",
    "rf_best.fit(X_train_8vi,y_train)"
   ]
  },
  {
   "cell_type": "markdown",
   "id": "d15f1aa4-b70a-41c3-8ba6-5684bed6a2fe",
   "metadata": {
    "jp-MarkdownHeadingCollapsed": true,
    "tags": []
   },
   "source": [
    "#### 4个VI"
   ]
  },
  {
   "cell_type": "code",
   "execution_count": 27,
   "id": "577df850-5a59-4a1b-b776-fc491c31eb89",
   "metadata": {},
   "outputs": [
    {
     "name": "stdout",
     "output_type": "stream",
     "text": [
      "0.6338109741890555 270\n"
     ]
    }
   ],
   "source": [
    "cv_score_list = []\n",
    "for i in range(200,300,10):\n",
    "    rf = RandomForestRegressor(n_estimators=i,\n",
    "                               n_jobs=-1, random_state=28)\n",
    "    cv_score = cross_val_score(rf, X_train_4vi, y_train,\n",
    "                               scoring='r2',\n",
    "                               cv=3,\n",
    "                               n_jobs=-1).mean()\n",
    "    cv_score_list.append(cv_score)\n",
    "print(max(cv_score_list),([*range(200,300,10)][cv_score_list.index(max(cv_score_list))]))"
   ]
  },
  {
   "cell_type": "code",
   "execution_count": 28,
   "id": "1581c7f6-a2bb-4045-91c2-9206f1b3671b",
   "metadata": {},
   "outputs": [
    {
     "data": {
      "image/png": "[encoded data removed]",
      "text/plain": [
       "<Figure size 2000x500 with 1 Axes>"
      ]
     },
     "metadata": {},
     "output_type": "display_data"
    }
   ],
   "source": [
    "plt.figure(figsize=[20,5])\n",
    "plt.plot(range(200,300,10),cv_score_list)\n",
    "plt.show()"
   ]
  },
  {
   "cell_type": "code",
   "execution_count": 29,
   "id": "56dda681-0412-4a21-90af-e86d6753f0cb",
   "metadata": {},
   "outputs": [
    {
     "name": "stdout",
     "output_type": "stream",
     "text": [
      "0.6338399543734907 262\n"
     ]
    }
   ],
   "source": [
    "cv_score_list=[]\n",
    "for i in range(261,280):\n",
    "    rf = RandomForestRegressor(n_estimators=i,\n",
    "                               n_jobs=-1, random_state=28)\n",
    "    cv_score = cross_val_score(rf, X_train_4vi, y_train,\n",
    "                               scoring='r2',\n",
    "                               cv=3,\n",
    "                               n_jobs=-1).mean()\n",
    "    cv_score_list.append(cv_score)\n",
    "print(max(cv_score_list),([*range(261,280)][cv_score_list.index(max(cv_score_list))]))"
   ]
  },
  {
   "cell_type": "code",
   "execution_count": 30,
   "id": "f1fa2f7a-10fc-402d-80ab-1cb497f37527",
   "metadata": {},
   "outputs": [
    {
     "name": "stdout",
     "output_type": "stream",
     "text": [
      "0.6523947520992387 1\n"
     ]
    }
   ],
   "source": [
    "# max_depth\n",
    "cv_score_list=[]\n",
    "for i in range(1,11):\n",
    "    rf = RandomForestRegressor(n_estimators=262,\n",
    "                               max_depth=i,\n",
    "                               n_jobs=-1, random_state=28)\n",
    "    cv_score = cross_val_score(rf, X_train_4vi, y_train,\n",
    "                               scoring='r2',\n",
    "                               cv=3,\n",
    "                               n_jobs=-1).mean()\n",
    "    cv_score_list.append(cv_score)\n",
    "print(max(cv_score_list),([*range(1,11)][cv_score_list.index(max(cv_score_list))]))"
   ]
  },
  {
   "cell_type": "code",
   "execution_count": 31,
   "id": "96796516-6483-4358-bcf3-4b59f90a0952",
   "metadata": {},
   "outputs": [
    {
     "name": "stdout",
     "output_type": "stream",
     "text": [
      "0.6589391893387483 5\n"
     ]
    }
   ],
   "source": [
    "# max_features\n",
    "cv_score_list=[]\n",
    "for i in range(1,14):\n",
    "    rf = RandomForestRegressor(n_estimators=262,\n",
    "                               max_depth=1,\n",
    "                               max_features=i,\n",
    "                               n_jobs=-1, random_state=28)\n",
    "    cv_score = cross_val_score(rf, X_train_4vi, y_train,\n",
    "                               scoring='r2',\n",
    "                               cv=3,\n",
    "                               n_jobs=-1).mean()\n",
    "    cv_score_list.append(cv_score)\n",
    "print(max(cv_score_list),([*range(1,14)][cv_score_list.index(max(cv_score_list))]))"
   ]
  },
  {
   "cell_type": "code",
   "execution_count": 32,
   "id": "9bd88080-a04f-4912-86a9-d8f4d10f8c87",
   "metadata": {},
   "outputs": [
    {
     "name": "stdout",
     "output_type": "stream",
     "text": [
      "0.6589391893387484 4\n"
     ]
    }
   ],
   "source": [
    "# min_samples_split\n",
    "cv_score_list=[]\n",
    "for i in range(2,22):\n",
    "    rf = RandomForestRegressor(n_estimators=262,\n",
    "                               max_depth=1,\n",
    "                               max_features=5,\n",
    "                               min_samples_split=i,\n",
    "                               n_jobs=-1, random_state=28)\n",
    "    cv_score = cross_val_score(rf, X_train_4vi, y_train,\n",
    "                               scoring='r2',\n",
    "                               cv=3,\n",
    "                               n_jobs=-1).mean()\n",
    "    cv_score_list.append(cv_score)\n",
    "print(max(cv_score_list),([*range(2,22)][cv_score_list.index(max(cv_score_list))]))"
   ]
  },
  {
   "cell_type": "code",
   "execution_count": 33,
   "id": "6c7306a6-a73f-4e02-923b-15ed81e4c397",
   "metadata": {},
   "outputs": [
    {
     "name": "stdout",
     "output_type": "stream",
     "text": [
      "0.6589391893387485 5\n"
     ]
    }
   ],
   "source": [
    "# min_samples_leaf\n",
    "cv_score_list=[]\n",
    "for i in range(1,21):\n",
    "    rf = RandomForestRegressor(n_estimators=262,\n",
    "                               max_depth=1,\n",
    "                               max_features=5,\n",
    "                               min_samples_split=4,\n",
    "                               min_samples_leaf=i,\n",
    "                               n_jobs=-1, random_state=28)\n",
    "    cv_score = cross_val_score(rf, X_train_4vi, y_train,\n",
    "                               scoring='r2',\n",
    "                               cv=3,\n",
    "                               n_jobs=-1).mean()\n",
    "    cv_score_list.append(cv_score)\n",
    "print(max(cv_score_list),([*range(1,21)][cv_score_list.index(max(cv_score_list))]))"
   ]
  },
  {
   "cell_type": "markdown",
   "id": "c856a16f-d874-4fb7-be7b-fbc030fc7f0c",
   "metadata": {
    "jp-MarkdownHeadingCollapsed": true,
    "tags": []
   },
   "source": [
    "### 剔除重要性低的变量"
   ]
  },
  {
   "cell_type": "code",
   "execution_count": 30,
   "id": "7a6de001-5b8a-4b50-8da7-aa8d8f2c5cca",
   "metadata": {},
   "outputs": [
    {
     "name": "stdout",
     "output_type": "stream",
     "text": [
      "重要性： [1.32018811e-04 1.99039493e-02 0.00000000e+00 2.94964288e-02\n",
      " 3.20256404e-04 8.72602942e-05 1.00888935e-02 0.00000000e+00\n",
      " 1.10549083e-02 9.62345794e-03 8.71856169e-02 0.00000000e+00\n",
      " 3.92682038e-02 3.32216097e-04 1.94142427e-02 1.91792704e-02\n",
      " 2.25246586e-04 1.93243322e-02 4.97577463e-02 4.86708203e-02\n",
      " 0.00000000e+00 2.41327211e-02 4.68128076e-04 9.75209999e-03\n",
      " 3.88915379e-02 0.00000000e+00 0.00000000e+00 9.69182001e-03\n",
      " 2.92598679e-02 0.00000000e+00 3.92259627e-02 0.00000000e+00\n",
      " 1.80706195e-04 4.04588065e-04 0.00000000e+00 1.93835536e-04\n",
      " 2.90671562e-02 2.91991914e-02 9.10705373e-05 2.01935955e-02\n",
      " 2.25300622e-04 0.00000000e+00 9.77733619e-03 0.00000000e+00\n",
      " 4.85190840e-02 2.94480935e-02 2.92681096e-02 2.92556385e-02\n",
      " 0.00000000e+00 1.94444671e-02 5.35411436e-03 0.00000000e+00\n",
      " 1.07143672e-04 0.00000000e+00 2.95127408e-02 1.98106893e-02\n",
      " 1.95130184e-02 0.00000000e+00 1.95350916e-02 0.00000000e+00\n",
      " 1.02188803e-04 8.92963136e-05 0.00000000e+00 1.08125904e-02\n",
      " 5.39438457e-04 1.96303013e-02 0.00000000e+00 2.92162972e-02\n",
      " 0.00000000e+00 3.89451336e-02 2.90441699e-02 0.00000000e+00\n",
      " 8.12062348e-05 3.56027445e-04 1.39337073e-03 6.43651671e-04\n",
      " 7.54521089e-04 0.00000000e+00 1.43894963e-04 9.11625510e-05\n",
      " 0.00000000e+00 9.42502648e-05 0.00000000e+00 0.00000000e+00\n",
      " 0.00000000e+00 0.00000000e+00 1.04620729e-04 4.75197367e-04\n",
      " 5.87777406e-04 0.00000000e+00 0.00000000e+00 1.46402544e-04\n",
      " 3.97734842e-04 1.76506424e-04 6.22800464e-05 3.11351217e-04\n",
      " 1.49633176e-04 7.21294652e-04 2.13246189e-04 2.77188972e-04\n",
      " 2.51706959e-04 5.56112975e-04 4.17593945e-04 1.24793671e-04\n",
      " 4.11669991e-04 7.85753747e-04 2.09147079e-04 4.24084190e-04\n",
      " 1.31806971e-04 6.95936530e-04 5.31682915e-04 4.62307901e-04\n",
      " 2.94265770e-04 3.39549551e-04 7.14902536e-05 4.12336894e-04\n",
      " 6.15209062e-04 2.66291362e-04 0.00000000e+00 2.63249880e-04\n",
      " 4.05991979e-04 0.00000000e+00 0.00000000e+00 0.00000000e+00\n",
      " 2.40581074e-04 4.10845469e-04 2.36280143e-04 4.00592273e-04\n",
      " 0.00000000e+00 0.00000000e+00 0.00000000e+00 6.94211885e-05\n",
      " 2.12297525e-04 0.00000000e+00 7.85743284e-05 0.00000000e+00\n",
      " 0.00000000e+00 0.00000000e+00 2.42884251e-04 0.00000000e+00\n",
      " 0.00000000e+00 0.00000000e+00 0.00000000e+00 0.00000000e+00\n",
      " 2.05925668e-04 8.29044061e-05]\n"
     ]
    }
   ],
   "source": [
    "importances = rf_best.feature_importances_\n",
    "print('重要性：',importances)"
   ]
  },
  {
   "cell_type": "code",
   "execution_count": 31,
   "id": "f0df58dd-2ba2-488b-aad4-cda5c631144d",
   "metadata": {},
   "outputs": [
    {
     "data": {
      "text/plain": [
       "44"
      ]
     },
     "execution_count": 31,
     "metadata": {},
     "output_type": "execute_result"
    }
   ],
   "source": [
    "indices = sum(np.argwhere(importances==0).tolist(),[])  ##将重要性为0的特征索引转化为列表\n",
    "len(indices)"
   ]
  },
  {
   "cell_type": "code",
   "execution_count": 32,
   "id": "c38763bb-a657-4e52-94e2-796a55ad7d7f",
   "metadata": {},
   "outputs": [
    {
     "data": {
      "text/plain": [
       "(557, 102)"
      ]
     },
     "execution_count": 32,
     "metadata": {},
     "output_type": "execute_result"
    }
   ],
   "source": [
    "X_filtered = np.delete(X_train,indices,axis=1)\n",
    "X_filtered.shape"
   ]
  },
  {
   "cell_type": "code",
   "execution_count": 33,
   "id": "d5b90783-2ccf-463a-891f-90f31ff5e6f3",
   "metadata": {},
   "outputs": [
    {
     "data": {
      "text/plain": [
       "(557,)"
      ]
     },
     "execution_count": 33,
     "metadata": {},
     "output_type": "execute_result"
    }
   ],
   "source": [
    "y_filtered = y_train\n",
    "y_filtered.shape"
   ]
  },
  {
   "cell_type": "code",
   "execution_count": 34,
   "id": "ebf3031c-c284-4161-83db-e73af8216fac",
   "metadata": {},
   "outputs": [
    {
     "data": {
      "text/plain": [
       "0.6600280543944407"
      ]
     },
     "execution_count": 34,
     "metadata": {},
     "output_type": "execute_result"
    }
   ],
   "source": [
    "cv_score = cross_val_score(rf_best, X_filtered, y_filtered,\n",
    "                           scoring='r2',\n",
    "                           cv=3,\n",
    "                           n_jobs=-1).mean()\n",
    "cv_score"
   ]
  },
  {
   "cell_type": "markdown",
   "id": "003ebc6c-6697-41b0-9dd6-7bc59fd38194",
   "metadata": {},
   "source": [
    "## 输出预测"
   ]
  },
  {
   "cell_type": "code",
   "execution_count": 45,
   "id": "9da2b270-9f87-4c62-80dc-7b6d54eafd67",
   "metadata": {},
   "outputs": [],
   "source": [
    "sub_weather = np.load('submission_weather_data.npz')\n",
    "sub_vi = np.load('submission_data.npz')\n",
    "sub_freq = np.load('submission_data_freq.npz')"
   ]
  },
  {
   "cell_type": "code",
   "execution_count": 46,
   "id": "501970e7-138e-4a92-88f4-ab9387b55d4c",
   "metadata": {},
   "outputs": [],
   "source": [
    "sub_weather_data = sub_weather['arr_0']\n",
    "sub_vi_data = sub_vi['arr_0']\n",
    "sub_freq = sub_freq['arr_0']"
   ]
  },
  {
   "cell_type": "code",
   "execution_count": 47,
   "id": "350c14d8-377d-44e2-b958-9fc3ba268154",
   "metadata": {},
   "outputs": [
    {
     "data": {
      "text/plain": [
       "(100, 72)"
      ]
     },
     "execution_count": 47,
     "metadata": {},
     "output_type": "execute_result"
    }
   ],
   "source": [
    "sub_weather_data_2D = np.reshape(sub_weather_data,(100,sub_weather_data.shape[1]*sub_weather_data.shape[2]))\n",
    "sub_weather_data_2D.shape"
   ]
  },
  {
   "cell_type": "code",
   "execution_count": 48,
   "id": "7ada62f1-79f6-457f-9e8d-35620b91185e",
   "metadata": {},
   "outputs": [
    {
     "data": {
      "text/plain": [
       "(100, 64)"
      ]
     },
     "execution_count": 48,
     "metadata": {},
     "output_type": "execute_result"
    }
   ],
   "source": [
    "sub_vi_data_3D = np.mean(np.mean(sub_vi_data,axis=4),axis=3)\n",
    "sub_vi_data_2D = np.reshape(sub_vi_data_3D,(100,sub_vi_data_3D.shape[1]*sub_vi_data_3D.shape[2]),order='F')\n",
    "sub_vi_data_2D.shape"
   ]
  },
  {
   "cell_type": "code",
   "execution_count": 50,
   "id": "e35c6ade-e775-4261-99cc-b877a75b9ec7",
   "metadata": {},
   "outputs": [
    {
     "data": {
      "text/html": [
       "<div>\n",
       "<style scoped>\n",
       "    .dataframe tbody tr th:only-of-type {\n",
       "        vertical-align: middle;\n",
       "    }\n",
       "\n",
       "    .dataframe tbody tr th {\n",
       "        vertical-align: top;\n",
       "    }\n",
       "\n",
       "    .dataframe thead th {\n",
       "        text-align: right;\n",
       "    }\n",
       "</style>\n",
       "<table border=\"1\" class=\"dataframe\">\n",
       "  <thead>\n",
       "    <tr style=\"text-align: right;\">\n",
       "      <th></th>\n",
       "      <th>ID No</th>\n",
       "      <th>District</th>\n",
       "      <th>Latitude</th>\n",
       "      <th>Longitude</th>\n",
       "      <th>Season(SA = Summer Autumn, WS = Winter Spring)</th>\n",
       "      <th>Rice Crop Intensity(D=Double, T=Triple)</th>\n",
       "      <th>Date of Harvest</th>\n",
       "      <th>Field size (ha)</th>\n",
       "      <th>Predicted Rice Yield (kg/ha)</th>\n",
       "    </tr>\n",
       "  </thead>\n",
       "  <tbody>\n",
       "    <tr>\n",
       "      <th>0</th>\n",
       "      <td>1</td>\n",
       "      <td>Chau_Phu</td>\n",
       "      <td>10.542192</td>\n",
       "      <td>105.187920</td>\n",
       "      <td>WS</td>\n",
       "      <td>T</td>\n",
       "      <td>10-04-2022</td>\n",
       "      <td>1.40</td>\n",
       "      <td>NaN</td>\n",
       "    </tr>\n",
       "    <tr>\n",
       "      <th>1</th>\n",
       "      <td>2</td>\n",
       "      <td>Chau_Thanh</td>\n",
       "      <td>10.400189</td>\n",
       "      <td>105.331053</td>\n",
       "      <td>SA</td>\n",
       "      <td>T</td>\n",
       "      <td>15-07-2022</td>\n",
       "      <td>1.32</td>\n",
       "      <td>NaN</td>\n",
       "    </tr>\n",
       "    <tr>\n",
       "      <th>2</th>\n",
       "      <td>3</td>\n",
       "      <td>Chau_Phu</td>\n",
       "      <td>10.505489</td>\n",
       "      <td>105.203926</td>\n",
       "      <td>SA</td>\n",
       "      <td>D</td>\n",
       "      <td>14-07-2022</td>\n",
       "      <td>1.40</td>\n",
       "      <td>NaN</td>\n",
       "    </tr>\n",
       "    <tr>\n",
       "      <th>3</th>\n",
       "      <td>4</td>\n",
       "      <td>Chau_Phu</td>\n",
       "      <td>10.523520</td>\n",
       "      <td>105.138274</td>\n",
       "      <td>WS</td>\n",
       "      <td>D</td>\n",
       "      <td>10-04-2022</td>\n",
       "      <td>1.80</td>\n",
       "      <td>NaN</td>\n",
       "    </tr>\n",
       "    <tr>\n",
       "      <th>4</th>\n",
       "      <td>5</td>\n",
       "      <td>Thoai_Son</td>\n",
       "      <td>10.294660</td>\n",
       "      <td>105.248528</td>\n",
       "      <td>SA</td>\n",
       "      <td>T</td>\n",
       "      <td>20-07-2022</td>\n",
       "      <td>2.20</td>\n",
       "      <td>NaN</td>\n",
       "    </tr>\n",
       "    <tr>\n",
       "      <th>...</th>\n",
       "      <td>...</td>\n",
       "      <td>...</td>\n",
       "      <td>...</td>\n",
       "      <td>...</td>\n",
       "      <td>...</td>\n",
       "      <td>...</td>\n",
       "      <td>...</td>\n",
       "      <td>...</td>\n",
       "      <td>...</td>\n",
       "    </tr>\n",
       "    <tr>\n",
       "      <th>95</th>\n",
       "      <td>96</td>\n",
       "      <td>Chau_Thanh</td>\n",
       "      <td>10.435839</td>\n",
       "      <td>105.132981</td>\n",
       "      <td>SA</td>\n",
       "      <td>D</td>\n",
       "      <td>26-07-2022</td>\n",
       "      <td>1.21</td>\n",
       "      <td>NaN</td>\n",
       "    </tr>\n",
       "    <tr>\n",
       "      <th>96</th>\n",
       "      <td>97</td>\n",
       "      <td>Chau_Phu</td>\n",
       "      <td>10.529357</td>\n",
       "      <td>105.147388</td>\n",
       "      <td>WS</td>\n",
       "      <td>T</td>\n",
       "      <td>10-04-2022</td>\n",
       "      <td>2.00</td>\n",
       "      <td>NaN</td>\n",
       "    </tr>\n",
       "    <tr>\n",
       "      <th>97</th>\n",
       "      <td>98</td>\n",
       "      <td>Chau_Thanh</td>\n",
       "      <td>10.452537</td>\n",
       "      <td>105.205118</td>\n",
       "      <td>SA</td>\n",
       "      <td>T</td>\n",
       "      <td>20-07-2022</td>\n",
       "      <td>5.50</td>\n",
       "      <td>NaN</td>\n",
       "    </tr>\n",
       "    <tr>\n",
       "      <th>98</th>\n",
       "      <td>99</td>\n",
       "      <td>Chau_Thanh</td>\n",
       "      <td>10.394341</td>\n",
       "      <td>105.126836</td>\n",
       "      <td>SA</td>\n",
       "      <td>T</td>\n",
       "      <td>14-07-2022</td>\n",
       "      <td>4.40</td>\n",
       "      <td>NaN</td>\n",
       "    </tr>\n",
       "    <tr>\n",
       "      <th>99</th>\n",
       "      <td>100</td>\n",
       "      <td>Chau_Phu</td>\n",
       "      <td>10.480650</td>\n",
       "      <td>105.130089</td>\n",
       "      <td>WS</td>\n",
       "      <td>T</td>\n",
       "      <td>10-04-2022</td>\n",
       "      <td>2.00</td>\n",
       "      <td>NaN</td>\n",
       "    </tr>\n",
       "  </tbody>\n",
       "</table>\n",
       "<p>100 rows × 9 columns</p>\n",
       "</div>"
      ],
      "text/plain": [
       "    ID No    District   Latitude   Longitude  \\\n",
       "0       1    Chau_Phu  10.542192  105.187920   \n",
       "1       2  Chau_Thanh  10.400189  105.331053   \n",
       "2       3    Chau_Phu  10.505489  105.203926   \n",
       "3       4    Chau_Phu  10.523520  105.138274   \n",
       "4       5   Thoai_Son  10.294660  105.248528   \n",
       "..    ...         ...        ...         ...   \n",
       "95     96  Chau_Thanh  10.435839  105.132981   \n",
       "96     97    Chau_Phu  10.529357  105.147388   \n",
       "97     98  Chau_Thanh  10.452537  105.205118   \n",
       "98     99  Chau_Thanh  10.394341  105.126836   \n",
       "99    100    Chau_Phu  10.480650  105.130089   \n",
       "\n",
       "   Season(SA = Summer Autumn, WS = Winter Spring)  \\\n",
       "0                                              WS   \n",
       "1                                              SA   \n",
       "2                                              SA   \n",
       "3                                              WS   \n",
       "4                                              SA   \n",
       "..                                            ...   \n",
       "95                                             SA   \n",
       "96                                             WS   \n",
       "97                                             SA   \n",
       "98                                             SA   \n",
       "99                                             WS   \n",
       "\n",
       "   Rice Crop Intensity(D=Double, T=Triple) Date of Harvest  Field size (ha)  \\\n",
       "0                                        T      10-04-2022             1.40   \n",
       "1                                        T      15-07-2022             1.32   \n",
       "2                                        D      14-07-2022             1.40   \n",
       "3                                        D      10-04-2022             1.80   \n",
       "4                                        T      20-07-2022             2.20   \n",
       "..                                     ...             ...              ...   \n",
       "95                                       D      26-07-2022             1.21   \n",
       "96                                       T      10-04-2022             2.00   \n",
       "97                                       T      20-07-2022             5.50   \n",
       "98                                       T      14-07-2022             4.40   \n",
       "99                                       T      10-04-2022             2.00   \n",
       "\n",
       "    Predicted Rice Yield (kg/ha)  \n",
       "0                            NaN  \n",
       "1                            NaN  \n",
       "2                            NaN  \n",
       "3                            NaN  \n",
       "4                            NaN  \n",
       "..                           ...  \n",
       "95                           NaN  \n",
       "96                           NaN  \n",
       "97                           NaN  \n",
       "98                           NaN  \n",
       "99                           NaN  \n",
       "\n",
       "[100 rows x 9 columns]"
      ]
     },
     "execution_count": 50,
     "metadata": {},
     "output_type": "execute_result"
    }
   ],
   "source": [
    "sub_yield_data = pd.read_csv('Challenge_2_submission_template.csv')\n",
    "sub_yield_data"
   ]
  },
  {
   "cell_type": "code",
   "execution_count": 51,
   "id": "c5feef47-a0eb-4210-afc9-4fef66013c36",
   "metadata": {},
   "outputs": [],
   "source": [
    "sub_cycle_number = pd.get_dummies(sub_yield_data['Rice Crop Intensity(D=Double, T=Triple)'])  #生成D、T两列\n",
    "sub_cycle_number = np.reshape(np.array(sub_cycle_number['D']),(-1,1))   #以D=1，T=1，(-1,1)指转化为一列\n",
    "sub_field_size = np.reshape(np.array(sub_yield_data['Field size (ha)']),(-1,1))"
   ]
  },
  {
   "cell_type": "code",
   "execution_count": 52,
   "id": "d9d69ca0-2b4e-441d-9eb8-b9b84e9660c2",
   "metadata": {},
   "outputs": [
    {
     "data": {
      "text/plain": [
       "(100, 146)"
      ]
     },
     "execution_count": 52,
     "metadata": {},
     "output_type": "execute_result"
    }
   ],
   "source": [
    "X_test = np.concatenate((sub_weather_data_2D,sub_vi_data_2D,sub_freq,sub_cycle_number,sub_field_size),axis=1)\n",
    "X_test.shape"
   ]
  },
  {
   "cell_type": "code",
   "execution_count": 53,
   "id": "0b63d655-75c2-4eba-bd76-307e2d5f2530",
   "metadata": {},
   "outputs": [],
   "source": [
    "y_pred = rf_best.predict(X_test)"
   ]
  },
  {
   "cell_type": "code",
   "execution_count": 55,
   "id": "906737a7-1924-499a-89f2-29b1606d5eea",
   "metadata": {},
   "outputs": [],
   "source": [
    "df1 = sub_yield_data.drop(columns=['Predicted Rice Yield (kg/ha)'])\n",
    "df2 = pd.DataFrame(y_pred)\n",
    "df2.columns=['Predicted Rice Yield (kg/ha)']\n",
    "submission = pd.concat([df1,df2],axis=1)"
   ]
  },
  {
   "cell_type": "code",
   "execution_count": 56,
   "id": "d020898f-740f-4b2b-83c2-6cd81fa54c26",
   "metadata": {},
   "outputs": [
    {
     "data": {
      "text/html": [
       "<div>\n",
       "<style scoped>\n",
       "    .dataframe tbody tr th:only-of-type {\n",
       "        vertical-align: middle;\n",
       "    }\n",
       "\n",
       "    .dataframe tbody tr th {\n",
       "        vertical-align: top;\n",
       "    }\n",
       "\n",
       "    .dataframe thead th {\n",
       "        text-align: right;\n",
       "    }\n",
       "</style>\n",
       "<table border=\"1\" class=\"dataframe\">\n",
       "  <thead>\n",
       "    <tr style=\"text-align: right;\">\n",
       "      <th></th>\n",
       "      <th>ID No</th>\n",
       "      <th>District</th>\n",
       "      <th>Latitude</th>\n",
       "      <th>Longitude</th>\n",
       "      <th>Season(SA = Summer Autumn, WS = Winter Spring)</th>\n",
       "      <th>Rice Crop Intensity(D=Double, T=Triple)</th>\n",
       "      <th>Date of Harvest</th>\n",
       "      <th>Field size (ha)</th>\n",
       "      <th>Predicted Rice Yield (kg/ha)</th>\n",
       "    </tr>\n",
       "  </thead>\n",
       "  <tbody>\n",
       "    <tr>\n",
       "      <th>0</th>\n",
       "      <td>1</td>\n",
       "      <td>Chau_Phu</td>\n",
       "      <td>10.542192</td>\n",
       "      <td>105.187920</td>\n",
       "      <td>WS</td>\n",
       "      <td>T</td>\n",
       "      <td>10-04-2022</td>\n",
       "      <td>1.40</td>\n",
       "      <td>7234.462586</td>\n",
       "    </tr>\n",
       "    <tr>\n",
       "      <th>1</th>\n",
       "      <td>2</td>\n",
       "      <td>Chau_Thanh</td>\n",
       "      <td>10.400189</td>\n",
       "      <td>105.331053</td>\n",
       "      <td>SA</td>\n",
       "      <td>T</td>\n",
       "      <td>15-07-2022</td>\n",
       "      <td>1.32</td>\n",
       "      <td>5930.640399</td>\n",
       "    </tr>\n",
       "    <tr>\n",
       "      <th>2</th>\n",
       "      <td>3</td>\n",
       "      <td>Chau_Phu</td>\n",
       "      <td>10.505489</td>\n",
       "      <td>105.203926</td>\n",
       "      <td>SA</td>\n",
       "      <td>D</td>\n",
       "      <td>14-07-2022</td>\n",
       "      <td>1.40</td>\n",
       "      <td>5911.705326</td>\n",
       "    </tr>\n",
       "    <tr>\n",
       "      <th>3</th>\n",
       "      <td>4</td>\n",
       "      <td>Chau_Phu</td>\n",
       "      <td>10.523520</td>\n",
       "      <td>105.138274</td>\n",
       "      <td>WS</td>\n",
       "      <td>D</td>\n",
       "      <td>10-04-2022</td>\n",
       "      <td>1.80</td>\n",
       "      <td>7265.888885</td>\n",
       "    </tr>\n",
       "    <tr>\n",
       "      <th>4</th>\n",
       "      <td>5</td>\n",
       "      <td>Thoai_Son</td>\n",
       "      <td>10.294660</td>\n",
       "      <td>105.248528</td>\n",
       "      <td>SA</td>\n",
       "      <td>T</td>\n",
       "      <td>20-07-2022</td>\n",
       "      <td>2.20</td>\n",
       "      <td>5923.471851</td>\n",
       "    </tr>\n",
       "    <tr>\n",
       "      <th>...</th>\n",
       "      <td>...</td>\n",
       "      <td>...</td>\n",
       "      <td>...</td>\n",
       "      <td>...</td>\n",
       "      <td>...</td>\n",
       "      <td>...</td>\n",
       "      <td>...</td>\n",
       "      <td>...</td>\n",
       "      <td>...</td>\n",
       "    </tr>\n",
       "    <tr>\n",
       "      <th>95</th>\n",
       "      <td>96</td>\n",
       "      <td>Chau_Thanh</td>\n",
       "      <td>10.435839</td>\n",
       "      <td>105.132981</td>\n",
       "      <td>SA</td>\n",
       "      <td>D</td>\n",
       "      <td>26-07-2022</td>\n",
       "      <td>1.21</td>\n",
       "      <td>5941.060070</td>\n",
       "    </tr>\n",
       "    <tr>\n",
       "      <th>96</th>\n",
       "      <td>97</td>\n",
       "      <td>Chau_Phu</td>\n",
       "      <td>10.529357</td>\n",
       "      <td>105.147388</td>\n",
       "      <td>WS</td>\n",
       "      <td>T</td>\n",
       "      <td>10-04-2022</td>\n",
       "      <td>2.00</td>\n",
       "      <td>7259.581705</td>\n",
       "    </tr>\n",
       "    <tr>\n",
       "      <th>97</th>\n",
       "      <td>98</td>\n",
       "      <td>Chau_Thanh</td>\n",
       "      <td>10.452537</td>\n",
       "      <td>105.205118</td>\n",
       "      <td>SA</td>\n",
       "      <td>T</td>\n",
       "      <td>20-07-2022</td>\n",
       "      <td>5.50</td>\n",
       "      <td>5939.623409</td>\n",
       "    </tr>\n",
       "    <tr>\n",
       "      <th>98</th>\n",
       "      <td>99</td>\n",
       "      <td>Chau_Thanh</td>\n",
       "      <td>10.394341</td>\n",
       "      <td>105.126836</td>\n",
       "      <td>SA</td>\n",
       "      <td>T</td>\n",
       "      <td>14-07-2022</td>\n",
       "      <td>4.40</td>\n",
       "      <td>5916.137482</td>\n",
       "    </tr>\n",
       "    <tr>\n",
       "      <th>99</th>\n",
       "      <td>100</td>\n",
       "      <td>Chau_Phu</td>\n",
       "      <td>10.480650</td>\n",
       "      <td>105.130089</td>\n",
       "      <td>WS</td>\n",
       "      <td>T</td>\n",
       "      <td>10-04-2022</td>\n",
       "      <td>2.00</td>\n",
       "      <td>7243.271625</td>\n",
       "    </tr>\n",
       "  </tbody>\n",
       "</table>\n",
       "<p>100 rows × 9 columns</p>\n",
       "</div>"
      ],
      "text/plain": [
       "    ID No    District   Latitude   Longitude  \\\n",
       "0       1    Chau_Phu  10.542192  105.187920   \n",
       "1       2  Chau_Thanh  10.400189  105.331053   \n",
       "2       3    Chau_Phu  10.505489  105.203926   \n",
       "3       4    Chau_Phu  10.523520  105.138274   \n",
       "4       5   Thoai_Son  10.294660  105.248528   \n",
       "..    ...         ...        ...         ...   \n",
       "95     96  Chau_Thanh  10.435839  105.132981   \n",
       "96     97    Chau_Phu  10.529357  105.147388   \n",
       "97     98  Chau_Thanh  10.452537  105.205118   \n",
       "98     99  Chau_Thanh  10.394341  105.126836   \n",
       "99    100    Chau_Phu  10.480650  105.130089   \n",
       "\n",
       "   Season(SA = Summer Autumn, WS = Winter Spring)  \\\n",
       "0                                              WS   \n",
       "1                                              SA   \n",
       "2                                              SA   \n",
       "3                                              WS   \n",
       "4                                              SA   \n",
       "..                                            ...   \n",
       "95                                             SA   \n",
       "96                                             WS   \n",
       "97                                             SA   \n",
       "98                                             SA   \n",
       "99                                             WS   \n",
       "\n",
       "   Rice Crop Intensity(D=Double, T=Triple) Date of Harvest  Field size (ha)  \\\n",
       "0                                        T      10-04-2022             1.40   \n",
       "1                                        T      15-07-2022             1.32   \n",
       "2                                        D      14-07-2022             1.40   \n",
       "3                                        D      10-04-2022             1.80   \n",
       "4                                        T      20-07-2022             2.20   \n",
       "..                                     ...             ...              ...   \n",
       "95                                       D      26-07-2022             1.21   \n",
       "96                                       T      10-04-2022             2.00   \n",
       "97                                       T      20-07-2022             5.50   \n",
       "98                                       T      14-07-2022             4.40   \n",
       "99                                       T      10-04-2022             2.00   \n",
       "\n",
       "    Predicted Rice Yield (kg/ha)  \n",
       "0                    7234.462586  \n",
       "1                    5930.640399  \n",
       "2                    5911.705326  \n",
       "3                    7265.888885  \n",
       "4                    5923.471851  \n",
       "..                           ...  \n",
       "95                   5941.060070  \n",
       "96                   7259.581705  \n",
       "97                   5939.623409  \n",
       "98                   5916.137482  \n",
       "99                   7243.271625  \n",
       "\n",
       "[100 rows x 9 columns]"
      ]
     },
     "execution_count": 56,
     "metadata": {},
     "output_type": "execute_result"
    }
   ],
   "source": [
    "submission"
   ]
  },
  {
   "cell_type": "code",
   "execution_count": 57,
   "id": "f16302c1-3f1e-47a8-af7c-a5122e1094b4",
   "metadata": {},
   "outputs": [],
   "source": [
    "submission.to_csv('submission_rf4.csv')"
   ]
  },
  {
   "cell_type": "code",
   "execution_count": null,
   "id": "5e0d1941-9b8d-4901-b995-8457284e8611",
   "metadata": {},
   "outputs": [],
   "source": []
  }
 ],
 "metadata": {
  "kernelspec": {
   "display_name": "Python 3 (ipykernel)",
   "language": "python",
   "name": "python3"
  },
  "language_info": {
   "codemirror_mode": {
    "name": "ipython",
    "version": 3
   },
   "file_extension": ".py",
   "mimetype": "text/x-python",
   "name": "python",
   "nbconvert_exporter": "python",
   "pygments_lexer": "ipython3",
   "version": "3.10.6"
  }
 },
 "nbformat": 4,
 "nbformat_minor": 5
}
