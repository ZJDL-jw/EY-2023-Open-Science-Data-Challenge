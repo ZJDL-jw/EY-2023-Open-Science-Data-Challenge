{
 "cells": [
  {
   "cell_type": "markdown",
   "metadata": {},
   "source": [
    "## These are the model building codes in the EY 2023 Open Science Data Challenge"
   ]
  },
  {
   "cell_type": "code",
   "execution_count": 1,
   "id": "b3deda8c-8227-43ff-93ee-e8fbc18213fd",
   "metadata": {},
   "outputs": [],
   "source": [
    "import numpy as np\n",
    "import pandas as pd"
   ]
  },
  {
   "cell_type": "code",
   "execution_count": 2,
   "id": "6d613128-c677-4fe3-a46f-ada497d0136b",
   "metadata": {},
   "outputs": [],
   "source": [
    "# Weather data\n",
    "weather = np.load('crop_weather_staged.npy')\n",
    "# Vegetation indices divided by 4 stages\n",
    "vi_n4 = np.load('crop_vi_filtered.npy')\n",
    "# Vegetation indices divided by 8 stages\n",
    "vi_n8 = np.load('crop_vi_staged.npy')\n",
    "# Frequencies in each stage\n",
    "freq = np.load('crop_vi_freq.npy')\n",
    "# Autocorrelation Function\n",
    "acf = np.load('acf_crop_zeros.npy')\n",
    "# Permutation entropy\n",
    "pe = np.load('pe_crop.npy')"
   ]
  },
  {
   "cell_type": "code",
   "execution_count": 3,
   "id": "4e7570c9-fbe9-4ca2-b735-27617e3af33a",
   "metadata": {},
   "outputs": [
    {
     "name": "stdout",
     "output_type": "stream",
     "text": [
      "(557, 4, 45)\n",
      "(557, 4, 4, 5)\n",
      "(557, 8, 4, 5)\n",
      "(557, 4)\n"
     ]
    }
   ],
   "source": [
    "print(weather.shape)\n",
    "#（index, stage, values*var）\n",
    "print(vi_n4.shape)\n",
    "#（index, var, stage, values）\n",
    "print(vi_n8.shape)\n",
    "#（index, var, stage, values）\n",
    "print(freq.shape)"
   ]
  },
  {
   "cell_type": "code",
   "execution_count": 4,
   "id": "bc93c8d2-8264-4d80-9bea-359c6d92e776",
   "metadata": {},
   "outputs": [
    {
     "name": "stdout",
     "output_type": "stream",
     "text": [
      "(557, 8, 4)\n",
      "(557, 8)\n"
     ]
    }
   ],
   "source": [
    "print(acf.shape)\n",
    "# (index, vars, stage)\n",
    "print(pe.shape)\n",
    "# (index, vars)"
   ]
  },
  {
   "cell_type": "code",
   "execution_count": 5,
   "id": "6c56be20-5fdc-4fce-85fa-4eb4f94befac",
   "metadata": {},
   "outputs": [
    {
     "data": {
      "text/plain": [
       "(557, 180)"
      ]
     },
     "execution_count": 5,
     "metadata": {},
     "output_type": "execute_result"
    }
   ],
   "source": [
    "weather_2D = np.reshape(weather,(557,weather.shape[1]*weather.shape[2]))\n",
    "weather_2D.shape"
   ]
  },
  {
   "cell_type": "code",
   "execution_count": 6,
   "id": "6ea137f0-3d58-445d-9db7-7a4e695a3180",
   "metadata": {},
   "outputs": [
    {
     "data": {
      "text/plain": [
       "(557, 80)"
      ]
     },
     "execution_count": 6,
     "metadata": {},
     "output_type": "execute_result"
    }
   ],
   "source": [
    "vi_n4_2D = np.reshape(vi_n4,(557,vi_n4.shape[1]*vi_n4.shape[2]*vi_n4.shape[3]))\n",
    "vi_n4_2D.shape"
   ]
  },
  {
   "cell_type": "code",
   "execution_count": 7,
   "id": "b0a6ef30-8531-477c-b8a5-3d7530e686e3",
   "metadata": {},
   "outputs": [
    {
     "data": {
      "text/plain": [
       "(557, 160)"
      ]
     },
     "execution_count": 7,
     "metadata": {},
     "output_type": "execute_result"
    }
   ],
   "source": [
    "vi_n8_2D = np.reshape(vi_n8,(557,vi_n8.shape[1]*vi_n8.shape[2]*vi_n8.shape[3]))\n",
    "vi_n8_2D.shape"
   ]
  },
  {
   "cell_type": "code",
   "execution_count": 8,
   "id": "c66af5b6-f084-4dc1-a8b3-c82dcdab46ca",
   "metadata": {},
   "outputs": [
    {
     "data": {
      "text/plain": [
       "(557, 16)"
      ]
     },
     "execution_count": 8,
     "metadata": {},
     "output_type": "execute_result"
    }
   ],
   "source": [
    "acf_4vi = np.delete(acf,np.arange(4,8),axis=1)\n",
    "acf_4vi_2D = np.reshape(acf_4vi,(557,acf_4vi.shape[1]*acf_4vi.shape[2]))\n",
    "acf_4vi_2D.shape"
   ]
  },
  {
   "cell_type": "code",
   "execution_count": 9,
   "id": "83138473-7996-41a2-bde0-d4e460c95d98",
   "metadata": {},
   "outputs": [
    {
     "data": {
      "text/plain": [
       "(557, 4)"
      ]
     },
     "execution_count": 9,
     "metadata": {},
     "output_type": "execute_result"
    }
   ],
   "source": [
    "pe_4vi = np.delete(pe,np.arange(4,8),axis=1)\n",
    "pe_4vi.shape"
   ]
  },
  {
   "cell_type": "code",
   "execution_count": 10,
   "id": "b0cb8491-bec3-4c80-bb4b-59244327229e",
   "metadata": {},
   "outputs": [
    {
     "data": {
      "text/html": [
       "<div>\n",
       "<style scoped>\n",
       "    .dataframe tbody tr th:only-of-type {\n",
       "        vertical-align: middle;\n",
       "    }\n",
       "\n",
       "    .dataframe tbody tr th {\n",
       "        vertical-align: top;\n",
       "    }\n",
       "\n",
       "    .dataframe thead th {\n",
       "        text-align: right;\n",
       "    }\n",
       "</style>\n",
       "<table border=\"1\" class=\"dataframe\">\n",
       "  <thead>\n",
       "    <tr style=\"text-align: right;\">\n",
       "      <th></th>\n",
       "      <th>District</th>\n",
       "      <th>Latitude</th>\n",
       "      <th>Longitude</th>\n",
       "      <th>Season(SA = Summer Autumn, WS = Winter Spring)</th>\n",
       "      <th>Rice Crop Intensity(D=Double, T=Triple)</th>\n",
       "      <th>Date of Harvest</th>\n",
       "      <th>Field size (ha)</th>\n",
       "      <th>Rice Yield (kg/ha)</th>\n",
       "    </tr>\n",
       "  </thead>\n",
       "  <tbody>\n",
       "    <tr>\n",
       "      <th>0</th>\n",
       "      <td>Chau_Phu</td>\n",
       "      <td>10.510542</td>\n",
       "      <td>105.248554</td>\n",
       "      <td>SA</td>\n",
       "      <td>T</td>\n",
       "      <td>15-07-2022</td>\n",
       "      <td>3.40</td>\n",
       "      <td>5500</td>\n",
       "    </tr>\n",
       "    <tr>\n",
       "      <th>1</th>\n",
       "      <td>Chau_Phu</td>\n",
       "      <td>10.509150</td>\n",
       "      <td>105.265098</td>\n",
       "      <td>SA</td>\n",
       "      <td>T</td>\n",
       "      <td>15-07-2022</td>\n",
       "      <td>2.43</td>\n",
       "      <td>6000</td>\n",
       "    </tr>\n",
       "    <tr>\n",
       "      <th>2</th>\n",
       "      <td>Chau_Phu</td>\n",
       "      <td>10.467721</td>\n",
       "      <td>105.192464</td>\n",
       "      <td>SA</td>\n",
       "      <td>D</td>\n",
       "      <td>15-07-2022</td>\n",
       "      <td>1.95</td>\n",
       "      <td>6400</td>\n",
       "    </tr>\n",
       "    <tr>\n",
       "      <th>3</th>\n",
       "      <td>Chau_Phu</td>\n",
       "      <td>10.494453</td>\n",
       "      <td>105.241281</td>\n",
       "      <td>SA</td>\n",
       "      <td>T</td>\n",
       "      <td>15-07-2022</td>\n",
       "      <td>4.30</td>\n",
       "      <td>6000</td>\n",
       "    </tr>\n",
       "    <tr>\n",
       "      <th>4</th>\n",
       "      <td>Chau_Phu</td>\n",
       "      <td>10.535058</td>\n",
       "      <td>105.252744</td>\n",
       "      <td>SA</td>\n",
       "      <td>D</td>\n",
       "      <td>14-07-2022</td>\n",
       "      <td>3.30</td>\n",
       "      <td>6400</td>\n",
       "    </tr>\n",
       "    <tr>\n",
       "      <th>...</th>\n",
       "      <td>...</td>\n",
       "      <td>...</td>\n",
       "      <td>...</td>\n",
       "      <td>...</td>\n",
       "      <td>...</td>\n",
       "      <td>...</td>\n",
       "      <td>...</td>\n",
       "      <td>...</td>\n",
       "    </tr>\n",
       "    <tr>\n",
       "      <th>552</th>\n",
       "      <td>Thoai_Son</td>\n",
       "      <td>10.364419</td>\n",
       "      <td>105.164984</td>\n",
       "      <td>WS</td>\n",
       "      <td>T</td>\n",
       "      <td>12-04-2022</td>\n",
       "      <td>7.80</td>\n",
       "      <td>6640</td>\n",
       "    </tr>\n",
       "    <tr>\n",
       "      <th>553</th>\n",
       "      <td>Thoai_Son</td>\n",
       "      <td>10.358094</td>\n",
       "      <td>105.189541</td>\n",
       "      <td>WS</td>\n",
       "      <td>T</td>\n",
       "      <td>12-04-2022</td>\n",
       "      <td>2.00</td>\n",
       "      <td>7200</td>\n",
       "    </tr>\n",
       "    <tr>\n",
       "      <th>554</th>\n",
       "      <td>Thoai_Son</td>\n",
       "      <td>10.368014</td>\n",
       "      <td>105.238516</td>\n",
       "      <td>WS</td>\n",
       "      <td>T</td>\n",
       "      <td>12-04-2022</td>\n",
       "      <td>6.20</td>\n",
       "      <td>7200</td>\n",
       "    </tr>\n",
       "    <tr>\n",
       "      <th>555</th>\n",
       "      <td>Thoai_Son</td>\n",
       "      <td>10.275419</td>\n",
       "      <td>105.234563</td>\n",
       "      <td>WS</td>\n",
       "      <td>T</td>\n",
       "      <td>20-04-2022</td>\n",
       "      <td>3.00</td>\n",
       "      <td>6400</td>\n",
       "    </tr>\n",
       "    <tr>\n",
       "      <th>556</th>\n",
       "      <td>Thoai_Son</td>\n",
       "      <td>10.304295</td>\n",
       "      <td>105.270460</td>\n",
       "      <td>WS</td>\n",
       "      <td>T</td>\n",
       "      <td>13-04-2022</td>\n",
       "      <td>2.30</td>\n",
       "      <td>7200</td>\n",
       "    </tr>\n",
       "  </tbody>\n",
       "</table>\n",
       "<p>557 rows × 8 columns</p>\n",
       "</div>"
      ],
      "text/plain": [
       "      District   Latitude   Longitude  \\\n",
       "0     Chau_Phu  10.510542  105.248554   \n",
       "1     Chau_Phu  10.509150  105.265098   \n",
       "2     Chau_Phu  10.467721  105.192464   \n",
       "3     Chau_Phu  10.494453  105.241281   \n",
       "4     Chau_Phu  10.535058  105.252744   \n",
       "..         ...        ...         ...   \n",
       "552  Thoai_Son  10.364419  105.164984   \n",
       "553  Thoai_Son  10.358094  105.189541   \n",
       "554  Thoai_Son  10.368014  105.238516   \n",
       "555  Thoai_Son  10.275419  105.234563   \n",
       "556  Thoai_Son  10.304295  105.270460   \n",
       "\n",
       "    Season(SA = Summer Autumn, WS = Winter Spring)  \\\n",
       "0                                               SA   \n",
       "1                                               SA   \n",
       "2                                               SA   \n",
       "3                                               SA   \n",
       "4                                               SA   \n",
       "..                                             ...   \n",
       "552                                             WS   \n",
       "553                                             WS   \n",
       "554                                             WS   \n",
       "555                                             WS   \n",
       "556                                             WS   \n",
       "\n",
       "    Rice Crop Intensity(D=Double, T=Triple) Date of Harvest  Field size (ha)  \\\n",
       "0                                         T      15-07-2022             3.40   \n",
       "1                                         T      15-07-2022             2.43   \n",
       "2                                         D      15-07-2022             1.95   \n",
       "3                                         T      15-07-2022             4.30   \n",
       "4                                         D      14-07-2022             3.30   \n",
       "..                                      ...             ...              ...   \n",
       "552                                       T      12-04-2022             7.80   \n",
       "553                                       T      12-04-2022             2.00   \n",
       "554                                       T      12-04-2022             6.20   \n",
       "555                                       T      20-04-2022             3.00   \n",
       "556                                       T      13-04-2022             2.30   \n",
       "\n",
       "     Rice Yield (kg/ha)  \n",
       "0                  5500  \n",
       "1                  6000  \n",
       "2                  6400  \n",
       "3                  6000  \n",
       "4                  6400  \n",
       "..                  ...  \n",
       "552                6640  \n",
       "553                7200  \n",
       "554                7200  \n",
       "555                6400  \n",
       "556                7200  \n",
       "\n",
       "[557 rows x 8 columns]"
      ]
     },
     "execution_count": 10,
     "metadata": {},
     "output_type": "execute_result"
    }
   ],
   "source": [
    "index_train = pd.read_csv('Crop_Yield_Data_challenge_2.csv')\n",
    "index_train"
   ]
  },
  {
   "cell_type": "code",
   "execution_count": 11,
   "id": "03d2b7c9-a254-49a5-af9d-6ae638c338cf",
   "metadata": {},
   "outputs": [],
   "source": [
    "n_cycle = pd.get_dummies(index_train['Rice Crop Intensity(D=Double, T=Triple)'])\n",
    "n_cycle = np.reshape(np.array(n_cycle['D']),(-1,1))\n",
    "field_size = np.reshape(np.array(index_train['Field size (ha)']),(-1,1))"
   ]
  },
  {
   "cell_type": "code",
   "execution_count": 12,
   "id": "0e27414e-7d95-424a-acc7-cd14205b754b",
   "metadata": {},
   "outputs": [
    {
     "data": {
      "text/plain": [
       "(557,)"
      ]
     },
     "execution_count": 12,
     "metadata": {},
     "output_type": "execute_result"
    }
   ],
   "source": [
    "y_train = index_train['Rice Yield (kg/ha)']\n",
    "y_train.shape"
   ]
  },
  {
   "cell_type": "code",
   "execution_count": 20,
   "id": "d0f5a51e-fa85-4b39-95bf-f2aae302f360",
   "metadata": {},
   "outputs": [
    {
     "data": {
      "text/plain": [
       "(557, 266)"
      ]
     },
     "execution_count": 20,
     "metadata": {},
     "output_type": "execute_result"
    }
   ],
   "source": [
    "X_train_4vi = np.concatenate((weather_2D, vi_n4_2D, freq, n_cycle, field_size),axis=1)\n",
    "X_train_4vi.shape"
   ]
  },
  {
   "cell_type": "code",
   "execution_count": 22,
   "id": "e64e4177-c371-49fc-9112-e5e4c348e67c",
   "metadata": {},
   "outputs": [
    {
     "data": {
      "text/plain": [
       "(557, 286)"
      ]
     },
     "execution_count": 22,
     "metadata": {},
     "output_type": "execute_result"
    }
   ],
   "source": [
    "X_train_4vi_acf_pe = np.concatenate((weather_2D, vi_n4_2D, freq, acf_4vi_2D, pe_4vi, n_cycle, field_size),axis=1)\n",
    "X_train_4vi_acf_pe.shape"
   ]
  },
  {
   "cell_type": "code",
   "execution_count": 12,
   "id": "f830ca97-509a-4fa6-b1a0-fd8a8c99177e",
   "metadata": {},
   "outputs": [
    {
     "data": {
      "text/plain": [
       "(557, 346)"
      ]
     },
     "execution_count": 12,
     "metadata": {},
     "output_type": "execute_result"
    }
   ],
   "source": [
    "X_train_8vi = np.concatenate((weather_2D,vi_n8_2D,freq,n_cycle,field_size),axis=1)\n",
    "X_train_8vi.shape"
   ]
  },
  {
   "cell_type": "markdown",
   "id": "e378c627-2316-4433-a43c-c1afc2b428c5",
   "metadata": {
    "jp-MarkdownHeadingCollapsed": true,
    "tags": []
   },
   "source": [
    "### Try to delete the possible irrelevant variables but fail to improve model's performance."
   ]
  },
  {
   "cell_type": "code",
   "execution_count": 17,
   "id": "6f0906e1-f1dd-4816-9d94-a4d965835cdf",
   "metadata": {},
   "outputs": [
    {
     "data": {
      "text/plain": [
       "(557, 262)"
      ]
     },
     "execution_count": 17,
     "metadata": {},
     "output_type": "execute_result"
    }
   ],
   "source": [
    "X_train_nofreq = np.concatenate((weather_2D,vi_2D,n_cycle,field_size),axis=1)\n",
    "X_train_nofreq.shape"
   ]
  },
  {
   "cell_type": "code",
   "execution_count": 48,
   "id": "8851f5c6-aa4c-4844-8a4f-cd53b5060ced",
   "metadata": {},
   "outputs": [
    {
     "data": {
      "text/plain": [
       "array([ 1, 10, 19, 28, 37,  3, 12, 21, 30, 39])"
      ]
     },
     "execution_count": 48,
     "metadata": {},
     "output_type": "execute_result"
    }
   ],
   "source": [
    "huss_index = np.arange(1,45,9)\n",
    "rlds_index = np.arange(3,45,9)\n",
    "index_huss_rlds = np.concatenate((huss_index, rlds_index))\n",
    "index_huss_rlds"
   ]
  },
  {
   "cell_type": "code",
   "execution_count": 47,
   "id": "2df7daca-ab16-43fd-89e5-b29c852e3d86",
   "metadata": {},
   "outputs": [
    {
     "data": {
      "text/plain": [
       "(557, 4, 35)"
      ]
     },
     "execution_count": 47,
     "metadata": {},
     "output_type": "execute_result"
    }
   ],
   "source": [
    "weather_no_huss_rlds = np.delete(weather,index_huss_rlds,axis=2)\n",
    "weather_no_huss_rlds.shape"
   ]
  },
  {
   "cell_type": "code",
   "execution_count": 50,
   "id": "13e84c3b-5157-4f5f-81b5-3d6abb04ba0c",
   "metadata": {},
   "outputs": [
    {
     "data": {
      "text/plain": [
       "(557, 140)"
      ]
     },
     "execution_count": 50,
     "metadata": {},
     "output_type": "execute_result"
    }
   ],
   "source": [
    "weather_no_huss_rlds_2D = np.reshape(weather_no_huss_rlds,(557,weather_no_huss_rlds.shape[1]*weather_no_huss_rlds.shape[2]))\n",
    "weather_no_huss_rlds_2D.shape"
   ]
  },
  {
   "cell_type": "code",
   "execution_count": 51,
   "id": "656369e7-03b6-4d25-969a-094747fd2533",
   "metadata": {},
   "outputs": [
    {
     "data": {
      "text/plain": [
       "(557, 226)"
      ]
     },
     "execution_count": 51,
     "metadata": {},
     "output_type": "execute_result"
    }
   ],
   "source": [
    "X_train_no_huss_rlds = np.concatenate((weather_no_huss_rlds_2D, vi_2D, freq, n_cycle, field_size),axis=1)\n",
    "X_train_no_huss_rlds.shape"
   ]
  },
  {
   "cell_type": "markdown",
   "id": "ec4e38d5-22ea-4709-b58a-e3fe10da5f6e",
   "metadata": {},
   "source": [
    "# Train the model"
   ]
  },
  {
   "cell_type": "code",
   "execution_count": 14,
   "id": "9f460766-22b1-463c-8ad6-7cad91252ebe",
   "metadata": {},
   "outputs": [],
   "source": [
    "from sklearn.model_selection import GridSearchCV\n",
    "from sklearn.model_selection import cross_val_score\n",
    "from sklearn.ensemble import RandomForestRegressor\n",
    "from sklearn.metrics import r2_score\n",
    "import matplotlib.pyplot as plt"
   ]
  },
  {
   "cell_type": "code",
   "execution_count": null,
   "id": "02739d8a-662a-4edf-ba97-2e6a4b2d2fb9",
   "metadata": {},
   "outputs": [],
   "source": [
    "import lightgbm as lgb"
   ]
  },
  {
   "cell_type": "markdown",
   "id": "8be603dd-dff0-4960-a3e2-586f1e05cf8c",
   "metadata": {
    "jp-MarkdownHeadingCollapsed": true,
    "tags": []
   },
   "source": [
    "## Decision Tree (LightGBM)"
   ]
  },
  {
   "cell_type": "code",
   "execution_count": 54,
   "id": "98ef1b3b-9ba8-47bb-80a5-02410c622ada",
   "metadata": {},
   "outputs": [],
   "source": [
    "data_train = lgb.Dataset(X_train,label=y_train)"
   ]
  },
  {
   "cell_type": "code",
   "execution_count": 88,
   "id": "1f4b8f55-df5f-4cf0-a539-67ff5ee6fc52",
   "metadata": {},
   "outputs": [],
   "source": [
    "params = {'boosting_type': 'gbdt',\n",
    "         'objective': 'regression',\n",
    "         'random_state': 28,\n",
    "         }"
   ]
  },
  {
   "cell_type": "code",
   "execution_count": 72,
   "id": "1522eb63-6ed8-41cc-9a9e-26fd3edb3056",
   "metadata": {},
   "outputs": [
    {
     "name": "stdout",
     "output_type": "stream",
     "text": [
      "[LightGBM] [Warning] Auto-choosing col-wise multi-threading, the overhead of testing was 0.002478 seconds.\n",
      "You can set `force_col_wise=true` to remove the overhead.\n",
      "[LightGBM] [Info] Total Bins 22700\n",
      "[LightGBM] [Info] Number of data points in the train set: 370, number of used features: 262\n",
      "[LightGBM] [Warning] Auto-choosing col-wise multi-threading, the overhead of testing was 0.002228 seconds.\n",
      "You can set `force_col_wise=true` to remove the overhead.\n",
      "[LightGBM] [Info] Total Bins 22700\n",
      "[LightGBM] [Info] Number of data points in the train set: 370, number of used features: 262\n",
      "[LightGBM] [Warning] Auto-choosing col-wise multi-threading, the overhead of testing was 0.002153 seconds.\n",
      "You can set `force_col_wise=true` to remove the overhead.\n",
      "[LightGBM] [Info] Total Bins 22700\n",
      "[LightGBM] [Info] Number of data points in the train set: 370, number of used features: 262\n",
      "[LightGBM] [Info] Start training from score 6623.621622\n",
      "[LightGBM] [Warning] No further splits with positive gain, best gain: -inf\n",
      "[LightGBM] [Info] Start training from score 6639.891892\n",
      "[LightGBM] [Warning] No further splits with positive gain, best gain: -inf\n",
      "[LightGBM] [Info] Start training from score 6629.675676\n",
      "[LightGBM] [Warning] No further splits with positive gain, best gain: -inf\n",
      "[LightGBM] [Warning] No further splits with positive gain, best gain: -inf\n",
      "[LightGBM] [Warning] No further splits with positive gain, best gain: -inf\n",
      "[LightGBM] [Warning] No further splits with positive gain, best gain: -inf\n",
      "[LightGBM] [Warning] No further splits with positive gain, best gain: -inf\n",
      "[LightGBM] [Warning] No further splits with positive gain, best gain: -inf\n",
      "[LightGBM] [Warning] No further splits with positive gain, best gain: -inf\n",
      "[LightGBM] [Warning] No further splits with positive gain, best gain: -inf\n",
      "[LightGBM] [Warning] No further splits with positive gain, best gain: -inf\n",
      "[LightGBM] [Warning] No further splits with positive gain, best gain: -inf\n",
      "[LightGBM] [Warning] No further splits with positive gain, best gain: -inf\n",
      "[LightGBM] [Warning] No further splits with positive gain, best gain: -inf\n",
      "[LightGBM] [Warning] No further splits with positive gain, best gain: -inf\n",
      "[LightGBM] [Warning] No further splits with positive gain, best gain: -inf\n",
      "[LightGBM] [Warning] No further splits with positive gain, best gain: -inf\n",
      "[LightGBM] [Warning] No further splits with positive gain, best gain: -inf\n",
      "[LightGBM] [Warning] No further splits with positive gain, best gain: -inf\n",
      "[LightGBM] [Warning] No further splits with positive gain, best gain: -inf\n",
      "[LightGBM] [Warning] No further splits with positive gain, best gain: -inf\n",
      "[LightGBM] [Warning] No further splits with positive gain, best gain: -inf\n",
      "[LightGBM] [Warning] No further splits with positive gain, best gain: -inf\n",
      "[LightGBM] [Warning] No further splits with positive gain, best gain: -inf\n",
      "[LightGBM] [Warning] No further splits with positive gain, best gain: -inf\n",
      "[LightGBM] [Warning] No further splits with positive gain, best gain: -inf\n",
      "[LightGBM] [Warning] No further splits with positive gain, best gain: -inf\n",
      "[LightGBM] [Warning] No further splits with positive gain, best gain: -inf\n",
      "[LightGBM] [Warning] No further splits with positive gain, best gain: -inf\n",
      "[LightGBM] [Warning] No further splits with positive gain, best gain: -inf\n",
      "[LightGBM] [Warning] No further splits with positive gain, best gain: -inf\n",
      "[LightGBM] [Warning] No further splits with positive gain, best gain: -inf\n",
      "[LightGBM] [Warning] No further splits with positive gain, best gain: -inf\n",
      "[LightGBM] [Warning] No further splits with positive gain, best gain: -inf\n",
      "[LightGBM] [Warning] No further splits with positive gain, best gain: -inf\n",
      "[LightGBM] [Warning] No further splits with positive gain, best gain: -inf\n",
      "[LightGBM] [Warning] No further splits with positive gain, best gain: -inf\n",
      "[LightGBM] [Warning] No further splits with positive gain, best gain: -inf\n",
      "[LightGBM] [Warning] No further splits with positive gain, best gain: -inf\n",
      "[LightGBM] [Warning] No further splits with positive gain, best gain: -inf\n",
      "[LightGBM] [Warning] No further splits with positive gain, best gain: -inf\n",
      "[LightGBM] [Warning] No further splits with positive gain, best gain: -inf\n",
      "[LightGBM] [Warning] No further splits with positive gain, best gain: -inf\n",
      "[LightGBM] [Warning] No further splits with positive gain, best gain: -inf\n",
      "[LightGBM] [Warning] No further splits with positive gain, best gain: -inf\n",
      "[LightGBM] [Warning] No further splits with positive gain, best gain: -inf\n",
      "[LightGBM] [Warning] No further splits with positive gain, best gain: -inf\n",
      "[LightGBM] [Warning] No further splits with positive gain, best gain: -inf\n",
      "[LightGBM] [Warning] No further splits with positive gain, best gain: -inf\n",
      "[LightGBM] [Warning] No further splits with positive gain, best gain: -inf\n",
      "[LightGBM] [Warning] No further splits with positive gain, best gain: -inf\n",
      "[LightGBM] [Warning] No further splits with positive gain, best gain: -inf\n",
      "[LightGBM] [Warning] No further splits with positive gain, best gain: -inf\n",
      "[LightGBM] [Warning] No further splits with positive gain, best gain: -inf\n",
      "[LightGBM] [Warning] No further splits with positive gain, best gain: -inf\n",
      "[LightGBM] [Warning] No further splits with positive gain, best gain: -inf\n",
      "[LightGBM] [Warning] No further splits with positive gain, best gain: -inf\n",
      "[LightGBM] [Warning] No further splits with positive gain, best gain: -inf\n",
      "[LightGBM] [Warning] No further splits with positive gain, best gain: -inf\n",
      "[LightGBM] [Warning] No further splits with positive gain, best gain: -inf\n",
      "[LightGBM] [Warning] No further splits with positive gain, best gain: -inf\n",
      "[LightGBM] [Warning] No further splits with positive gain, best gain: -inf\n",
      "[LightGBM] [Warning] No further splits with positive gain, best gain: -inf\n",
      "[LightGBM] [Warning] No further splits with positive gain, best gain: -inf\n",
      "[LightGBM] [Warning] No further splits with positive gain, best gain: -inf\n",
      "[LightGBM] [Warning] No further splits with positive gain, best gain: -inf\n",
      "[LightGBM] [Warning] No further splits with positive gain, best gain: -inf\n",
      "[LightGBM] [Warning] No further splits with positive gain, best gain: -inf\n",
      "[LightGBM] [Warning] No further splits with positive gain, best gain: -inf\n",
      "[LightGBM] [Warning] No further splits with positive gain, best gain: -inf\n",
      "[LightGBM] [Warning] No further splits with positive gain, best gain: -inf\n",
      "[LightGBM] [Warning] No further splits with positive gain, best gain: -inf\n",
      "[LightGBM] [Warning] No further splits with positive gain, best gain: -inf\n",
      "[LightGBM] [Warning] No further splits with positive gain, best gain: -inf\n",
      "[LightGBM] [Warning] No further splits with positive gain, best gain: -inf\n",
      "[LightGBM] [Warning] No further splits with positive gain, best gain: -inf\n",
      "[LightGBM] [Warning] No further splits with positive gain, best gain: -inf\n",
      "[LightGBM] [Warning] No further splits with positive gain, best gain: -inf\n",
      "[LightGBM] [Warning] No further splits with positive gain, best gain: -inf\n",
      "[LightGBM] [Warning] No further splits with positive gain, best gain: -inf\n",
      "[LightGBM] [Warning] No further splits with positive gain, best gain: -inf\n",
      "[LightGBM] [Warning] No further splits with positive gain, best gain: -inf\n",
      "[LightGBM] [Warning] No further splits with positive gain, best gain: -inf\n",
      "[LightGBM] [Warning] No further splits with positive gain, best gain: -inf\n",
      "[LightGBM] [Warning] No further splits with positive gain, best gain: -inf\n",
      "[LightGBM] [Warning] No further splits with positive gain, best gain: -inf\n",
      "[LightGBM] [Warning] No further splits with positive gain, best gain: -inf\n",
      "[LightGBM] [Warning] No further splits with positive gain, best gain: -inf\n",
      "[LightGBM] [Warning] No further splits with positive gain, best gain: -inf\n",
      "[LightGBM] [Warning] No further splits with positive gain, best gain: -inf\n",
      "[LightGBM] [Warning] No further splits with positive gain, best gain: -inf\n",
      "[LightGBM] [Warning] No further splits with positive gain, best gain: -inf\n",
      "[LightGBM] [Warning] No further splits with positive gain, best gain: -inf\n",
      "[LightGBM] [Warning] No further splits with positive gain, best gain: -inf\n",
      "[LightGBM] [Warning] No further splits with positive gain, best gain: -inf\n",
      "[LightGBM] [Warning] No further splits with positive gain, best gain: -inf\n",
      "[LightGBM] [Warning] No further splits with positive gain, best gain: -inf\n",
      "[LightGBM] [Warning] No further splits with positive gain, best gain: -inf\n",
      "[LightGBM] [Warning] No further splits with positive gain, best gain: -inf\n",
      "[LightGBM] [Warning] No further splits with positive gain, best gain: -inf\n",
      "[LightGBM] [Warning] No further splits with positive gain, best gain: -inf\n",
      "[LightGBM] [Warning] No further splits with positive gain, best gain: -inf\n",
      "[LightGBM] [Warning] No further splits with positive gain, best gain: -inf\n",
      "[LightGBM] [Warning] No further splits with positive gain, best gain: -inf\n",
      "[LightGBM] [Warning] No further splits with positive gain, best gain: -inf\n",
      "[LightGBM] [Warning] No further splits with positive gain, best gain: -inf\n",
      "[LightGBM] [Warning] No further splits with positive gain, best gain: -inf\n",
      "[LightGBM] [Warning] No further splits with positive gain, best gain: -inf\n",
      "[LightGBM] [Warning] No further splits with positive gain, best gain: -inf\n",
      "[LightGBM] [Warning] No further splits with positive gain, best gain: -inf\n",
      "[LightGBM] [Warning] No further splits with positive gain, best gain: -inf\n",
      "[LightGBM] [Warning] No further splits with positive gain, best gain: -inf\n",
      "[LightGBM] [Warning] No further splits with positive gain, best gain: -inf\n",
      "[LightGBM] [Warning] No further splits with positive gain, best gain: -inf\n",
      "[LightGBM] [Warning] No further splits with positive gain, best gain: -inf\n",
      "[LightGBM] [Warning] No further splits with positive gain, best gain: -inf\n",
      "[LightGBM] [Warning] No further splits with positive gain, best gain: -inf\n",
      "[LightGBM] [Warning] No further splits with positive gain, best gain: -inf\n",
      "[LightGBM] [Warning] No further splits with positive gain, best gain: -inf\n",
      "[LightGBM] [Warning] No further splits with positive gain, best gain: -inf\n",
      "[LightGBM] [Warning] No further splits with positive gain, best gain: -inf\n",
      "[LightGBM] [Warning] No further splits with positive gain, best gain: -inf\n",
      "[LightGBM] [Warning] No further splits with positive gain, best gain: -inf\n",
      "[LightGBM] [Warning] No further splits with positive gain, best gain: -inf\n",
      "[LightGBM] [Warning] No further splits with positive gain, best gain: -inf\n",
      "[LightGBM] [Warning] No further splits with positive gain, best gain: -inf\n",
      "[LightGBM] [Warning] No further splits with positive gain, best gain: -inf\n",
      "[LightGBM] [Warning] No further splits with positive gain, best gain: -inf\n",
      "[LightGBM] [Warning] No further splits with positive gain, best gain: -inf\n",
      "[LightGBM] [Warning] No further splits with positive gain, best gain: -inf\n",
      "[LightGBM] [Warning] No further splits with positive gain, best gain: -inf\n",
      "[LightGBM] [Warning] No further splits with positive gain, best gain: -inf\n",
      "[LightGBM] [Warning] No further splits with positive gain, best gain: -inf\n",
      "[LightGBM] [Warning] No further splits with positive gain, best gain: -inf\n",
      "[LightGBM] [Warning] No further splits with positive gain, best gain: -inf\n",
      "[LightGBM] [Warning] No further splits with positive gain, best gain: -inf\n",
      "[LightGBM] [Warning] No further splits with positive gain, best gain: -inf\n",
      "[LightGBM] [Warning] No further splits with positive gain, best gain: -inf\n",
      "[LightGBM] [Warning] No further splits with positive gain, best gain: -inf\n",
      "[LightGBM] [Warning] No further splits with positive gain, best gain: -inf\n",
      "[LightGBM] [Warning] No further splits with positive gain, best gain: -inf\n",
      "[LightGBM] [Warning] No further splits with positive gain, best gain: -inf\n",
      "[LightGBM] [Warning] No further splits with positive gain, best gain: -inf\n",
      "[LightGBM] [Warning] No further splits with positive gain, best gain: -inf\n",
      "[LightGBM] [Warning] No further splits with positive gain, best gain: -inf\n",
      "[LightGBM] [Warning] No further splits with positive gain, best gain: -inf\n",
      "[LightGBM] [Warning] No further splits with positive gain, best gain: -inf\n",
      "[LightGBM] [Warning] No further splits with positive gain, best gain: -inf\n",
      "[LightGBM] [Warning] No further splits with positive gain, best gain: -inf\n",
      "[LightGBM] [Warning] No further splits with positive gain, best gain: -inf\n",
      "[LightGBM] [Warning] No further splits with positive gain, best gain: -inf\n",
      "[LightGBM] [Warning] No further splits with positive gain, best gain: -inf\n",
      "[LightGBM] [Warning] No further splits with positive gain, best gain: -inf\n",
      "[LightGBM] [Warning] No further splits with positive gain, best gain: -inf\n",
      "[LightGBM] [Warning] No further splits with positive gain, best gain: -inf\n",
      "[LightGBM] [Warning] No further splits with positive gain, best gain: -inf\n",
      "[LightGBM] [Warning] No further splits with positive gain, best gain: -inf\n",
      "[LightGBM] [Warning] No further splits with positive gain, best gain: -inf\n",
      "[LightGBM] [Warning] No further splits with positive gain, best gain: -inf\n",
      "[LightGBM] [Warning] No further splits with positive gain, best gain: -inf\n",
      "[LightGBM] [Warning] No further splits with positive gain, best gain: -inf\n",
      "[LightGBM] [Warning] No further splits with positive gain, best gain: -inf\n",
      "[LightGBM] [Warning] No further splits with positive gain, best gain: -inf\n",
      "[LightGBM] [Warning] No further splits with positive gain, best gain: -inf\n",
      "[LightGBM] [Warning] No further splits with positive gain, best gain: -inf\n",
      "[LightGBM] [Warning] No further splits with positive gain, best gain: -inf\n",
      "[LightGBM] [Warning] No further splits with positive gain, best gain: -inf\n",
      "[LightGBM] [Warning] No further splits with positive gain, best gain: -inf\n",
      "[LightGBM] [Warning] No further splits with positive gain, best gain: -inf\n",
      "[LightGBM] [Warning] No further splits with positive gain, best gain: -inf\n",
      "[LightGBM] [Warning] No further splits with positive gain, best gain: -inf\n",
      "[LightGBM] [Warning] No further splits with positive gain, best gain: -inf\n",
      "[LightGBM] [Warning] No further splits with positive gain, best gain: -inf\n",
      "[LightGBM] [Warning] No further splits with positive gain, best gain: -inf\n",
      "[LightGBM] [Warning] No further splits with positive gain, best gain: -inf\n",
      "[LightGBM] [Warning] No further splits with positive gain, best gain: -inf\n",
      "[LightGBM] [Warning] No further splits with positive gain, best gain: -inf\n",
      "[LightGBM] [Warning] No further splits with positive gain, best gain: -inf\n",
      "[LightGBM] [Warning] No further splits with positive gain, best gain: -inf\n",
      "[LightGBM] [Warning] No further splits with positive gain, best gain: -inf\n",
      "[LightGBM] [Warning] No further splits with positive gain, best gain: -inf\n",
      "[LightGBM] [Warning] No further splits with positive gain, best gain: -inf\n",
      "[LightGBM] [Warning] No further splits with positive gain, best gain: -inf\n",
      "[LightGBM] [Warning] No further splits with positive gain, best gain: -inf\n",
      "[LightGBM] [Warning] No further splits with positive gain, best gain: -inf\n",
      "[LightGBM] [Warning] No further splits with positive gain, best gain: -inf\n",
      "[LightGBM] [Warning] No further splits with positive gain, best gain: -inf\n",
      "[LightGBM] [Warning] No further splits with positive gain, best gain: -inf\n",
      "[LightGBM] [Warning] No further splits with positive gain, best gain: -inf\n",
      "[LightGBM] [Warning] No further splits with positive gain, best gain: -inf\n",
      "[LightGBM] [Warning] No further splits with positive gain, best gain: -inf\n",
      "[LightGBM] [Warning] No further splits with positive gain, best gain: -inf\n",
      "[LightGBM] [Warning] No further splits with positive gain, best gain: -inf\n",
      "[LightGBM] [Warning] No further splits with positive gain, best gain: -inf\n",
      "[LightGBM] [Warning] No further splits with positive gain, best gain: -inf\n",
      "[LightGBM] [Warning] No further splits with positive gain, best gain: -inf\n",
      "[LightGBM] [Warning] No further splits with positive gain, best gain: -inf\n",
      "[LightGBM] [Warning] No further splits with positive gain, best gain: -inf\n",
      "[LightGBM] [Warning] No further splits with positive gain, best gain: -inf\n",
      "[LightGBM] [Warning] No further splits with positive gain, best gain: -inf\n",
      "[LightGBM] [Warning] No further splits with positive gain, best gain: -inf\n",
      "[LightGBM] [Warning] No further splits with positive gain, best gain: -inf\n",
      "[LightGBM] [Warning] No further splits with positive gain, best gain: -inf\n",
      "[LightGBM] [Warning] No further splits with positive gain, best gain: -inf\n",
      "[LightGBM] [Warning] No further splits with positive gain, best gain: -inf\n",
      "[LightGBM] [Warning] No further splits with positive gain, best gain: -inf\n",
      "[LightGBM] [Warning] No further splits with positive gain, best gain: -inf\n",
      "[LightGBM] [Warning] No further splits with positive gain, best gain: -inf\n",
      "[LightGBM] [Warning] No further splits with positive gain, best gain: -inf\n",
      "[LightGBM] [Warning] No further splits with positive gain, best gain: -inf\n",
      "[LightGBM] [Warning] No further splits with positive gain, best gain: -inf\n",
      "[LightGBM] [Warning] No further splits with positive gain, best gain: -inf\n",
      "[LightGBM] [Warning] No further splits with positive gain, best gain: -inf\n",
      "[LightGBM] [Warning] No further splits with positive gain, best gain: -inf\n",
      "[LightGBM] [Warning] No further splits with positive gain, best gain: -inf\n",
      "[LightGBM] [Warning] No further splits with positive gain, best gain: -inf\n",
      "[LightGBM] [Warning] No further splits with positive gain, best gain: -inf\n",
      "[LightGBM] [Warning] No further splits with positive gain, best gain: -inf\n",
      "[LightGBM] [Warning] No further splits with positive gain, best gain: -inf\n",
      "[LightGBM] [Warning] No further splits with positive gain, best gain: -inf\n",
      "[LightGBM] [Warning] No further splits with positive gain, best gain: -inf\n",
      "[LightGBM] [Warning] No further splits with positive gain, best gain: -inf\n",
      "[LightGBM] [Warning] No further splits with positive gain, best gain: -inf\n",
      "[LightGBM] [Warning] No further splits with positive gain, best gain: -inf\n",
      "[LightGBM] [Warning] No further splits with positive gain, best gain: -inf\n",
      "[LightGBM] [Warning] No further splits with positive gain, best gain: -inf\n",
      "[LightGBM] [Warning] No further splits with positive gain, best gain: -inf\n",
      "[LightGBM] [Warning] No further splits with positive gain, best gain: -inf\n",
      "[LightGBM] [Warning] No further splits with positive gain, best gain: -inf\n",
      "[LightGBM] [Warning] No further splits with positive gain, best gain: -inf\n",
      "[LightGBM] [Warning] No further splits with positive gain, best gain: -inf\n",
      "[LightGBM] [Warning] No further splits with positive gain, best gain: -inf\n",
      "[LightGBM] [Warning] No further splits with positive gain, best gain: -inf\n",
      "[LightGBM] [Warning] No further splits with positive gain, best gain: -inf\n",
      "[LightGBM] [Warning] No further splits with positive gain, best gain: -inf\n",
      "[LightGBM] [Warning] No further splits with positive gain, best gain: -inf\n",
      "[LightGBM] [Warning] No further splits with positive gain, best gain: -inf\n",
      "[LightGBM] [Warning] No further splits with positive gain, best gain: -inf\n",
      "[LightGBM] [Warning] No further splits with positive gain, best gain: -inf\n",
      "[LightGBM] [Warning] No further splits with positive gain, best gain: -inf\n",
      "[LightGBM] [Warning] No further splits with positive gain, best gain: -inf\n",
      "[LightGBM] [Warning] No further splits with positive gain, best gain: -inf\n",
      "[LightGBM] [Warning] No further splits with positive gain, best gain: -inf\n",
      "[LightGBM] [Warning] No further splits with positive gain, best gain: -inf\n",
      "[LightGBM] [Warning] No further splits with positive gain, best gain: -inf\n",
      "[LightGBM] [Warning] No further splits with positive gain, best gain: -inf\n",
      "[LightGBM] [Warning] No further splits with positive gain, best gain: -inf\n",
      "[LightGBM] [Warning] No further splits with positive gain, best gain: -inf\n",
      "[LightGBM] [Warning] No further splits with positive gain, best gain: -inf\n",
      "[LightGBM] [Warning] No further splits with positive gain, best gain: -inf\n",
      "[LightGBM] [Warning] No further splits with positive gain, best gain: -inf\n",
      "[LightGBM] [Warning] No further splits with positive gain, best gain: -inf\n",
      "[LightGBM] [Warning] No further splits with positive gain, best gain: -inf\n",
      "[LightGBM] [Warning] No further splits with positive gain, best gain: -inf\n",
      "[LightGBM] [Warning] No further splits with positive gain, best gain: -inf\n",
      "[LightGBM] [Warning] No further splits with positive gain, best gain: -inf\n",
      "[LightGBM] [Warning] No further splits with positive gain, best gain: -inf\n",
      "[LightGBM] [Warning] No further splits with positive gain, best gain: -inf\n",
      "[LightGBM] [Warning] No further splits with positive gain, best gain: -inf\n",
      "[LightGBM] [Warning] No further splits with positive gain, best gain: -inf\n",
      "[LightGBM] [Warning] No further splits with positive gain, best gain: -inf\n",
      "[LightGBM] [Warning] No further splits with positive gain, best gain: -inf\n",
      "[LightGBM] [Warning] No further splits with positive gain, best gain: -inf\n",
      "[LightGBM] [Warning] No further splits with positive gain, best gain: -inf\n",
      "[LightGBM] [Warning] No further splits with positive gain, best gain: -inf\n",
      "[LightGBM] [Warning] No further splits with positive gain, best gain: -inf\n",
      "[LightGBM] [Warning] No further splits with positive gain, best gain: -inf\n",
      "[LightGBM] [Warning] No further splits with positive gain, best gain: -inf\n",
      "[LightGBM] [Warning] No further splits with positive gain, best gain: -inf\n",
      "[LightGBM] [Warning] No further splits with positive gain, best gain: -inf\n",
      "[LightGBM] [Warning] No further splits with positive gain, best gain: -inf\n",
      "[LightGBM] [Warning] No further splits with positive gain, best gain: -inf\n",
      "[LightGBM] [Warning] No further splits with positive gain, best gain: -inf\n",
      "[LightGBM] [Warning] No further splits with positive gain, best gain: -inf\n",
      "[LightGBM] [Warning] No further splits with positive gain, best gain: -inf\n",
      "[LightGBM] [Warning] No further splits with positive gain, best gain: -inf\n",
      "[LightGBM] [Warning] No further splits with positive gain, best gain: -inf\n",
      "[LightGBM] [Warning] No further splits with positive gain, best gain: -inf\n",
      "[LightGBM] [Warning] No further splits with positive gain, best gain: -inf\n",
      "[LightGBM] [Warning] No further splits with positive gain, best gain: -inf\n",
      "[LightGBM] [Warning] No further splits with positive gain, best gain: -inf\n",
      "[LightGBM] [Warning] No further splits with positive gain, best gain: -inf\n",
      "[LightGBM] [Warning] No further splits with positive gain, best gain: -inf\n",
      "[LightGBM] [Warning] No further splits with positive gain, best gain: -inf\n",
      "[LightGBM] [Warning] No further splits with positive gain, best gain: -inf\n",
      "[LightGBM] [Warning] No further splits with positive gain, best gain: -inf\n",
      "[LightGBM] [Warning] No further splits with positive gain, best gain: -inf\n",
      "[LightGBM] [Warning] No further splits with positive gain, best gain: -inf\n",
      "[LightGBM] [Warning] No further splits with positive gain, best gain: -inf\n",
      "[LightGBM] [Warning] No further splits with positive gain, best gain: -inf\n",
      "[LightGBM] [Warning] No further splits with positive gain, best gain: -inf\n",
      "[LightGBM] [Warning] No further splits with positive gain, best gain: -inf\n",
      "[LightGBM] [Warning] No further splits with positive gain, best gain: -inf\n",
      "[LightGBM] [Warning] No further splits with positive gain, best gain: -inf\n",
      "[LightGBM] [Warning] No further splits with positive gain, best gain: -inf\n",
      "[LightGBM] [Warning] No further splits with positive gain, best gain: -inf\n",
      "[LightGBM] [Warning] No further splits with positive gain, best gain: -inf\n",
      "[LightGBM] [Warning] No further splits with positive gain, best gain: -inf\n",
      "[LightGBM] [Warning] No further splits with positive gain, best gain: -inf\n",
      "[LightGBM] [Warning] No further splits with positive gain, best gain: -inf\n"
     ]
    }
   ],
   "source": [
    "# Default\n",
    "cv_results = lgb.cv(params, data_train, nfold=3,\n",
    "                    stratified=False, metrics='rmse',\n",
    "                   )"
   ]
  },
  {
   "cell_type": "code",
   "execution_count": 73,
   "id": "5e2c5701-1392-4c40-916a-9441ad4e4c12",
   "metadata": {},
   "outputs": [
    {
     "name": "stdout",
     "output_type": "stream",
     "text": [
      "best n_estimators: 100\n",
      "best cv score: 494.11334304592725\n"
     ]
    }
   ],
   "source": [
    "print('best n_estimators:', len(cv_results['rmse-mean']))\n",
    "print('best cv score:', cv_results['rmse-mean'][-1])"
   ]
  },
  {
   "cell_type": "markdown",
   "id": "d67ce161-c685-4864-88f3-d524923acfdf",
   "metadata": {},
   "source": [
    "Tune `num_leaves` and `max_depth`"
   ]
  },
  {
   "cell_type": "code",
   "execution_count": 101,
   "id": "cac540c2-d732-4b73-a256-d914b0a05929",
   "metadata": {},
   "outputs": [],
   "source": [
    "param1 = {'num_leaves':range(2,51,10),\n",
    "          'max_depth':range(1,6)}"
   ]
  },
  {
   "cell_type": "code",
   "execution_count": 102,
   "id": "17645652-2b1e-4617-9f7f-1b0cc75ca924",
   "metadata": {},
   "outputs": [
    {
     "data": {
      "text/html": [
       "<style>#sk-container-id-5 {color: black;background-color: white;}#sk-container-id-5 pre{padding: 0;}#sk-container-id-5 div.sk-toggleable {background-color: white;}#sk-container-id-5 label.sk-toggleable__label {cursor: pointer;display: block;width: 100%;margin-bottom: 0;padding: 0.3em;box-sizing: border-box;text-align: center;}#sk-container-id-5 label.sk-toggleable__label-arrow:before {content: \"▸\";float: left;margin-right: 0.25em;color: #696969;}#sk-container-id-5 label.sk-toggleable__label-arrow:hover:before {color: black;}#sk-container-id-5 div.sk-estimator:hover label.sk-toggleable__label-arrow:before {color: black;}#sk-container-id-5 div.sk-toggleable__content {max-height: 0;max-width: 0;overflow: hidden;text-align: left;background-color: #f0f8ff;}#sk-container-id-5 div.sk-toggleable__content pre {margin: 0.2em;color: black;border-radius: 0.25em;background-color: #f0f8ff;}#sk-container-id-5 input.sk-toggleable__control:checked~div.sk-toggleable__content {max-height: 200px;max-width: 100%;overflow: auto;}#sk-container-id-5 input.sk-toggleable__control:checked~label.sk-toggleable__label-arrow:before {content: \"▾\";}#sk-container-id-5 div.sk-estimator input.sk-toggleable__control:checked~label.sk-toggleable__label {background-color: #d4ebff;}#sk-container-id-5 div.sk-label input.sk-toggleable__control:checked~label.sk-toggleable__label {background-color: #d4ebff;}#sk-container-id-5 input.sk-hidden--visually {border: 0;clip: rect(1px 1px 1px 1px);clip: rect(1px, 1px, 1px, 1px);height: 1px;margin: -1px;overflow: hidden;padding: 0;position: absolute;width: 1px;}#sk-container-id-5 div.sk-estimator {font-family: monospace;background-color: #f0f8ff;border: 1px dotted black;border-radius: 0.25em;box-sizing: border-box;margin-bottom: 0.5em;}#sk-container-id-5 div.sk-estimator:hover {background-color: #d4ebff;}#sk-container-id-5 div.sk-parallel-item::after {content: \"\";width: 100%;border-bottom: 1px solid gray;flex-grow: 1;}#sk-container-id-5 div.sk-label:hover label.sk-toggleable__label {background-color: #d4ebff;}#sk-container-id-5 div.sk-serial::before {content: \"\";position: absolute;border-left: 1px solid gray;box-sizing: border-box;top: 0;bottom: 0;left: 50%;z-index: 0;}#sk-container-id-5 div.sk-serial {display: flex;flex-direction: column;align-items: center;background-color: white;padding-right: 0.2em;padding-left: 0.2em;position: relative;}#sk-container-id-5 div.sk-item {position: relative;z-index: 1;}#sk-container-id-5 div.sk-parallel {display: flex;align-items: stretch;justify-content: center;background-color: white;position: relative;}#sk-container-id-5 div.sk-item::before, #sk-container-id-5 div.sk-parallel-item::before {content: \"\";position: absolute;border-left: 1px solid gray;box-sizing: border-box;top: 0;bottom: 0;left: 50%;z-index: -1;}#sk-container-id-5 div.sk-parallel-item {display: flex;flex-direction: column;z-index: 1;position: relative;background-color: white;}#sk-container-id-5 div.sk-parallel-item:first-child::after {align-self: flex-end;width: 50%;}#sk-container-id-5 div.sk-parallel-item:last-child::after {align-self: flex-start;width: 50%;}#sk-container-id-5 div.sk-parallel-item:only-child::after {width: 0;}#sk-container-id-5 div.sk-dashed-wrapped {border: 1px dashed gray;margin: 0 0.4em 0.5em 0.4em;box-sizing: border-box;padding-bottom: 0.4em;background-color: white;}#sk-container-id-5 div.sk-label label {font-family: monospace;font-weight: bold;display: inline-block;line-height: 1.2em;}#sk-container-id-5 div.sk-label-container {text-align: center;}#sk-container-id-5 div.sk-container {/* jupyter's `normalize.less` sets `[hidden] { display: none; }` but bootstrap.min.css set `[hidden] { display: none !important; }` so we also need the `!important` here to be able to override the default hidden behavior on the sphinx rendered scikit-learn.org. See: https://github.com/scikit-learn/scikit-learn/issues/21755 */display: inline-block !important;position: relative;}#sk-container-id-5 div.sk-text-repr-fallback {display: none;}</style><div id=\"sk-container-id-5\" class=\"sk-top-container\"><div class=\"sk-text-repr-fallback\"><pre>GridSearchCV(cv=3,\n",
       "             estimator=LGBMRegressor(objective=&#x27;regression&#x27;, random_state=28),\n",
       "             n_jobs=-1,\n",
       "             param_grid={&#x27;max_depth&#x27;: range(1, 6),\n",
       "                         &#x27;num_leaves&#x27;: range(2, 51, 10)},\n",
       "             scoring=&#x27;r2&#x27;)</pre><b>In a Jupyter environment, please rerun this cell to show the HTML representation or trust the notebook. <br />On GitHub, the HTML representation is unable to render, please try loading this page with nbviewer.org.</b></div><div class=\"sk-container\" hidden><div class=\"sk-item sk-dashed-wrapped\"><div class=\"sk-label-container\"><div class=\"sk-label sk-toggleable\"><input class=\"sk-toggleable__control sk-hidden--visually\" id=\"sk-estimator-id-13\" type=\"checkbox\" ><label for=\"sk-estimator-id-13\" class=\"sk-toggleable__label sk-toggleable__label-arrow\">GridSearchCV</label><div class=\"sk-toggleable__content\"><pre>GridSearchCV(cv=3,\n",
       "             estimator=LGBMRegressor(objective=&#x27;regression&#x27;, random_state=28),\n",
       "             n_jobs=-1,\n",
       "             param_grid={&#x27;max_depth&#x27;: range(1, 6),\n",
       "                         &#x27;num_leaves&#x27;: range(2, 51, 10)},\n",
       "             scoring=&#x27;r2&#x27;)</pre></div></div></div><div class=\"sk-parallel\"><div class=\"sk-parallel-item\"><div class=\"sk-item\"><div class=\"sk-label-container\"><div class=\"sk-label sk-toggleable\"><input class=\"sk-toggleable__control sk-hidden--visually\" id=\"sk-estimator-id-14\" type=\"checkbox\" ><label for=\"sk-estimator-id-14\" class=\"sk-toggleable__label sk-toggleable__label-arrow\">estimator: LGBMRegressor</label><div class=\"sk-toggleable__content\"><pre>LGBMRegressor(objective=&#x27;regression&#x27;, random_state=28)</pre></div></div></div><div class=\"sk-serial\"><div class=\"sk-item\"><div class=\"sk-estimator sk-toggleable\"><input class=\"sk-toggleable__control sk-hidden--visually\" id=\"sk-estimator-id-15\" type=\"checkbox\" ><label for=\"sk-estimator-id-15\" class=\"sk-toggleable__label sk-toggleable__label-arrow\">LGBMRegressor</label><div class=\"sk-toggleable__content\"><pre>LGBMRegressor(objective=&#x27;regression&#x27;, random_state=28)</pre></div></div></div></div></div></div></div></div></div></div>"
      ],
      "text/plain": [
       "GridSearchCV(cv=3,\n",
       "             estimator=LGBMRegressor(objective='regression', random_state=28),\n",
       "             n_jobs=-1,\n",
       "             param_grid={'max_depth': range(1, 6),\n",
       "                         'num_leaves': range(2, 51, 10)},\n",
       "             scoring='r2')"
      ]
     },
     "execution_count": 102,
     "metadata": {},
     "output_type": "execute_result"
    }
   ],
   "source": [
    "model_lgb1 = lgb.LGBMRegressor(**params, n_estimators=100, n_jobs=-1)\n",
    "search1 = GridSearchCV(model_lgb1, param1, scoring='r2',\n",
    "                       n_jobs=-1, cv=3)\n",
    "search1.fit(X_train, y_train)"
   ]
  },
  {
   "cell_type": "code",
   "execution_count": 103,
   "id": "aa7c5bd8-50eb-41d3-b59f-4c3866f37529",
   "metadata": {},
   "outputs": [
    {
     "name": "stdout",
     "output_type": "stream",
     "text": [
      "best_params: {'max_depth': 1, 'num_leaves': 2}\n",
      "best_score: 0.6208098304149215\n"
     ]
    }
   ],
   "source": [
    "print('best_params:',search1.best_params_)\n",
    "print('best_score:', search1.best_score_)"
   ]
  },
  {
   "cell_type": "code",
   "execution_count": 80,
   "id": "391de0b6-7774-47c9-9a52-b045c25e07c8",
   "metadata": {},
   "outputs": [],
   "source": [
    "param1_1 = {'num_leaves':range(2,21),\n",
    "          'max_depth':range(1,6)}"
   ]
  },
  {
   "cell_type": "code",
   "execution_count": 104,
   "id": "d51e9bb4-40a5-4dc9-b71d-621c99cb1eae",
   "metadata": {},
   "outputs": [
    {
     "name": "stdout",
     "output_type": "stream",
     "text": [
      "best_params: {'max_depth': 4, 'num_leaves': 6}\n",
      "best_score: 0.6236815611756809\n"
     ]
    }
   ],
   "source": [
    "model_lgb1_1 = lgb.LGBMRegressor(**params, n_estimators=100, n_jobs=-1)\n",
    "search1 = GridSearchCV(model_lgb1_1, param1_1, scoring='r2',\n",
    "                       n_jobs=-1, cv=3)\n",
    "search1.fit(X_train, y_train)\n",
    "print('best_params:',search1.best_params_)\n",
    "print('best_score:', search1.best_score_)"
   ]
  },
  {
   "cell_type": "markdown",
   "id": "df33c288-d16a-462e-afea-b63b3c734003",
   "metadata": {},
   "source": [
    "Tune `min_child_weight` and `min_child_samples`"
   ]
  },
  {
   "cell_type": "code",
   "execution_count": 84,
   "id": "4805f361-7664-4654-85d9-ea3caf90cefa",
   "metadata": {},
   "outputs": [],
   "source": [
    "param2 = {'min_child_weight':[0.001,0.002,0.003,0.004,0.005],\n",
    "          'min_child_samples':range(15,25)}"
   ]
  },
  {
   "cell_type": "code",
   "execution_count": 162,
   "id": "6f5f1193-ee86-448e-9c44-8c9482cba728",
   "metadata": {},
   "outputs": [
    {
     "name": "stdout",
     "output_type": "stream",
     "text": [
      "best_params: {'min_child_samples': 20, 'min_child_weight': 0.001}\n",
      "best_score: 0.6236815611756809\n"
     ]
    }
   ],
   "source": [
    "model_lgb2 = lgb.LGBMRegressor(**params, n_estimators=100, \n",
    "                               max_depth=4, num_leaves=6,\n",
    "                               n_jobs=-1)\n",
    "search2 = GridSearchCV(model_lgb2, param2, scoring='r2',\n",
    "                       n_jobs=-1, cv=3)\n",
    "search2.fit(X_train, y_train)\n",
    "print('best_params:',search2.best_params_)\n",
    "print('best_score:', search2.best_score_)"
   ]
  },
  {
   "cell_type": "markdown",
   "id": "7d3fa223-4f30-45a7-86a5-2f098d3d851f",
   "metadata": {},
   "source": [
    "Tune `feature_fraction` and `bagging_fraction`"
   ]
  },
  {
   "cell_type": "code",
   "execution_count": 93,
   "id": "2fd986e9-5fe0-4537-8a92-1b5725011a38",
   "metadata": {},
   "outputs": [],
   "source": [
    "param3 = {'feature_fraction': np.arange(0.1,1,0.1),\n",
    "          'bagging_fraction': np.arange(0.1,1,0.1)}"
   ]
  },
  {
   "cell_type": "code",
   "execution_count": 94,
   "id": "419794ed-d2fb-494b-8910-d27ec18c296c",
   "metadata": {},
   "outputs": [
    {
     "name": "stdout",
     "output_type": "stream",
     "text": [
      "[LightGBM] [Warning] bagging_fraction is set=1.2999999999999998, subsample=1.0 will be ignored. Current value: bagging_fraction=1.2999999999999998\n",
      "[LightGBM] [Warning] feature_fraction is set=0.7999999999999999, colsample_bytree=1.0 will be ignored. Current value: feature_fraction=0.7999999999999999\n",
      "[LightGBM] [Warning] bagging_fraction is set=1.2999999999999998, subsample=1.0 will be ignored. Current value: bagging_fraction=1.2999999999999998\n",
      "[LightGBM] [Warning] feature_fraction is set=0.8999999999999999, colsample_bytree=1.0 will be ignored. Current value: feature_fraction=0.8999999999999999\n",
      "[LightGBM] [Warning] bagging_fraction is set=1.2999999999999998, subsample=1.0 will be ignored. Current value: bagging_fraction=1.2999999999999998\n",
      "[LightGBM] [Warning] feature_fraction is set=0.8999999999999999, colsample_bytree=1.0 will be ignored. Current value: feature_fraction=0.8999999999999999\n",
      "[LightGBM] [Warning] bagging_fraction is set=1.2999999999999998, subsample=1.0 will be ignored. Current value: bagging_fraction=1.2999999999999998\n",
      "[LightGBM] [Warning] feature_fraction is set=0.8999999999999999, colsample_bytree=1.0 will be ignored. Current value: feature_fraction=0.8999999999999999\n",
      "[LightGBM] [Warning] bagging_fraction is set=1.2999999999999998, subsample=1.0 will be ignored. Current value: bagging_fraction=1.2999999999999998\n",
      "[LightGBM] [Warning] feature_fraction is set=0.9999999999999999, colsample_bytree=1.0 will be ignored. Current value: feature_fraction=0.9999999999999999\n",
      "[LightGBM] [Warning] bagging_fraction is set=1.2999999999999998, subsample=1.0 will be ignored. Current value: bagging_fraction=1.2999999999999998\n",
      "[LightGBM] [Warning] feature_fraction is set=1.2999999999999998, colsample_bytree=1.0 will be ignored. Current value: feature_fraction=1.2999999999999998\n",
      "[LightGBM] [Warning] bagging_fraction is set=1.2999999999999998, subsample=1.0 will be ignored. Current value: bagging_fraction=1.2999999999999998\n",
      "[LightGBM] [Warning] feature_fraction is set=1.2999999999999998, colsample_bytree=1.0 will be ignored. Current value: feature_fraction=1.2999999999999998\n",
      "[LightGBM] [Warning] bagging_fraction is set=1.2999999999999998, subsample=1.0 will be ignored. Current value: bagging_fraction=1.2999999999999998\n",
      "[LightGBM] [Warning] feature_fraction is set=1.2999999999999998, colsample_bytree=1.0 will be ignored. Current value: feature_fraction=1.2999999999999998\n",
      "[LightGBM] [Warning] bagging_fraction is set=1.2999999999999998, subsample=1.0 will be ignored. Current value: bagging_fraction=1.2999999999999998\n",
      "[LightGBM] [Warning] feature_fraction is set=1.4, colsample_bytree=1.0 will be ignored. Current value: feature_fraction=1.4\n",
      "[LightGBM] [Warning] bagging_fraction is set=1.2999999999999998, subsample=1.0 will be ignored. Current value: bagging_fraction=1.2999999999999998\n",
      "[LightGBM] [Warning] feature_fraction is set=1.4, colsample_bytree=1.0 will be ignored. Current value: feature_fraction=1.4\n",
      "[LightGBM] [Warning] bagging_fraction is set=1.2999999999999998, subsample=1.0 will be ignored. Current value: bagging_fraction=1.2999999999999998\n",
      "[LightGBM] [Warning] feature_fraction is set=1.4, colsample_bytree=1.0 will be ignored. Current value: feature_fraction=1.4\n",
      "[LightGBM] [Warning] bagging_fraction is set=1.4, subsample=1.0 will be ignored. Current value: bagging_fraction=1.4\n",
      "[LightGBM] [Warning] feature_fraction is set=0.5, colsample_bytree=1.0 will be ignored. Current value: feature_fraction=0.5\n",
      "[LightGBM] [Warning] bagging_fraction is set=1.4, subsample=1.0 will be ignored. Current value: bagging_fraction=1.4\n",
      "[LightGBM] [Warning] feature_fraction is set=0.5, colsample_bytree=1.0 will be ignored. Current value: feature_fraction=0.5\n",
      "[LightGBM] [Warning] bagging_fraction is set=1.4, subsample=1.0 will be ignored. Current value: bagging_fraction=1.4\n",
      "[LightGBM] [Warning] feature_fraction is set=0.7999999999999999, colsample_bytree=1.0 will be ignored. Current value: feature_fraction=0.7999999999999999\n",
      "[LightGBM] [Warning] bagging_fraction is set=1.4, subsample=1.0 will be ignored. Current value: bagging_fraction=1.4\n",
      "[LightGBM] [Warning] feature_fraction is set=0.7999999999999999, colsample_bytree=1.0 will be ignored. Current value: feature_fraction=0.7999999999999999\n",
      "[LightGBM] [Warning] bagging_fraction is set=1.4, subsample=1.0 will be ignored. Current value: bagging_fraction=1.4\n",
      "[LightGBM] [Warning] feature_fraction is set=0.8999999999999999, colsample_bytree=1.0 will be ignored. Current value: feature_fraction=0.8999999999999999\n",
      "[LightGBM] [Warning] bagging_fraction is set=1.4, subsample=1.0 will be ignored. Current value: bagging_fraction=1.4\n",
      "[LightGBM] [Warning] feature_fraction is set=0.8999999999999999, colsample_bytree=1.0 will be ignored. Current value: feature_fraction=0.8999999999999999\n",
      "[LightGBM] [Warning] bagging_fraction is set=1.4, subsample=1.0 will be ignored. Current value: bagging_fraction=1.4\n",
      "[LightGBM] [Warning] feature_fraction is set=0.8999999999999999, colsample_bytree=1.0 will be ignored. Current value: feature_fraction=0.8999999999999999\n",
      "[LightGBM] [Warning] bagging_fraction is set=1.4, subsample=1.0 will be ignored. Current value: bagging_fraction=1.4\n",
      "[LightGBM] [Warning] feature_fraction is set=0.9999999999999999, colsample_bytree=1.0 will be ignored. Current value: feature_fraction=0.9999999999999999\n",
      "[LightGBM] [Warning] bagging_fraction is set=1.4, subsample=1.0 will be ignored. Current value: bagging_fraction=1.4\n",
      "[LightGBM] [Warning] feature_fraction is set=0.9999999999999999, colsample_bytree=1.0 will be ignored. Current value: feature_fraction=0.9999999999999999\n",
      "[LightGBM] [Warning] bagging_fraction is set=1.4, subsample=1.0 will be ignored. Current value: bagging_fraction=1.4\n",
      "[LightGBM] [Warning] feature_fraction is set=0.9999999999999999, colsample_bytree=1.0 will be ignored. Current value: feature_fraction=0.9999999999999999\n",
      "[LightGBM] [Warning] bagging_fraction is set=1.4, subsample=1.0 will be ignored. Current value: bagging_fraction=1.4\n",
      "[LightGBM] [Warning] feature_fraction is set=1.2999999999999998, colsample_bytree=1.0 will be ignored. Current value: feature_fraction=1.2999999999999998\n",
      "[LightGBM] [Warning] bagging_fraction is set=1.4, subsample=1.0 will be ignored. Current value: bagging_fraction=1.4\n",
      "[LightGBM] [Warning] feature_fraction is set=1.4, colsample_bytree=1.0 will be ignored. Current value: feature_fraction=1.4\n",
      "[LightGBM] [Warning] bagging_fraction is set=0.1, subsample=1.0 will be ignored. Current value: bagging_fraction=0.1\n",
      "[LightGBM] [Warning] feature_fraction is set=0.1, colsample_bytree=1.0 will be ignored. Current value: feature_fraction=0.1\n",
      "[LightGBM] [Warning] bagging_fraction is set=0.1, subsample=1.0 will be ignored. Current value: bagging_fraction=0.1\n",
      "[LightGBM] [Warning] feature_fraction is set=0.2, colsample_bytree=1.0 will be ignored. Current value: feature_fraction=0.2\n",
      "[LightGBM] [Warning] bagging_fraction is set=0.1, subsample=1.0 will be ignored. Current value: bagging_fraction=0.1\n",
      "[LightGBM] [Warning] feature_fraction is set=0.30000000000000004, colsample_bytree=1.0 will be ignored. Current value: feature_fraction=0.30000000000000004\n",
      "[LightGBM] [Warning] bagging_fraction is set=0.1, subsample=1.0 will be ignored. Current value: bagging_fraction=0.1\n",
      "[LightGBM] [Warning] feature_fraction is set=0.4, colsample_bytree=1.0 will be ignored. Current value: feature_fraction=0.4\n",
      "[LightGBM] [Warning] bagging_fraction is set=0.1, subsample=1.0 will be ignored. Current value: bagging_fraction=0.1\n",
      "[LightGBM] [Warning] feature_fraction is set=0.6, colsample_bytree=1.0 will be ignored. Current value: feature_fraction=0.6\n",
      "[LightGBM] [Warning] bagging_fraction is set=0.1, subsample=1.0 will be ignored. Current value: bagging_fraction=0.1\n",
      "[LightGBM] [Warning] feature_fraction is set=0.6, colsample_bytree=1.0 will be ignored. Current value: feature_fraction=0.6\n",
      "[LightGBM] [Warning] bagging_fraction is set=0.1, subsample=1.0 will be ignored. Current value: bagging_fraction=0.1\n",
      "[LightGBM] [Warning] feature_fraction is set=0.9, colsample_bytree=1.0 will be ignored. Current value: feature_fraction=0.9\n",
      "[LightGBM] [Warning] bagging_fraction is set=0.7999999999999999, subsample=1.0 will be ignored. Current value: bagging_fraction=0.7999999999999999\n",
      "[LightGBM] [Warning] feature_fraction is set=1.1999999999999997, colsample_bytree=1.0 will be ignored. Current value: feature_fraction=1.1999999999999997\n",
      "[LightGBM] [Warning] bagging_fraction is set=0.7999999999999999, subsample=1.0 will be ignored. Current value: bagging_fraction=0.7999999999999999\n",
      "[LightGBM] [Warning] feature_fraction is set=1.2999999999999998, colsample_bytree=1.0 will be ignored. Current value: feature_fraction=1.2999999999999998\n",
      "[LightGBM] [Warning] bagging_fraction is set=0.7999999999999999, subsample=1.0 will be ignored. Current value: bagging_fraction=0.7999999999999999\n",
      "[LightGBM] [Warning] feature_fraction is set=1.2999999999999998, colsample_bytree=1.0 will be ignored. Current value: feature_fraction=1.2999999999999998\n",
      "[LightGBM] [Warning] bagging_fraction is set=0.7999999999999999, subsample=1.0 will be ignored. Current value: bagging_fraction=0.7999999999999999\n",
      "[LightGBM] [Warning] feature_fraction is set=1.2999999999999998, colsample_bytree=1.0 will be ignored. Current value: feature_fraction=1.2999999999999998\n",
      "[LightGBM] [Warning] bagging_fraction is set=0.7999999999999999, subsample=1.0 will be ignored. Current value: bagging_fraction=0.7999999999999999\n",
      "[LightGBM] [Warning] feature_fraction is set=1.4, colsample_bytree=1.0 will be ignored. Current value: feature_fraction=1.4\n",
      "[LightGBM] [Warning] bagging_fraction is set=0.7999999999999999, subsample=1.0 will be ignored. Current value: bagging_fraction=0.7999999999999999\n",
      "[LightGBM] [Warning] feature_fraction is set=1.4, colsample_bytree=1.0 will be ignored. Current value: feature_fraction=1.4\n",
      "[LightGBM] [Warning] bagging_fraction is set=0.7999999999999999, subsample=1.0 will be ignored. Current value: bagging_fraction=0.7999999999999999\n",
      "[LightGBM] [Warning] feature_fraction is set=1.4, colsample_bytree=1.0 will be ignored. Current value: feature_fraction=1.4\n",
      "[LightGBM] [Warning] bagging_fraction is set=0.8999999999999999, subsample=1.0 will be ignored. Current value: bagging_fraction=0.8999999999999999\n",
      "[LightGBM] [Warning] feature_fraction is set=0.5, colsample_bytree=1.0 will be ignored. Current value: feature_fraction=0.5\n",
      "[LightGBM] [Warning] bagging_fraction is set=0.8999999999999999, subsample=1.0 will be ignored. Current value: bagging_fraction=0.8999999999999999\n",
      "[LightGBM] [Warning] feature_fraction is set=0.5, colsample_bytree=1.0 will be ignored. Current value: feature_fraction=0.5\n",
      "[LightGBM] [Warning] bagging_fraction is set=0.8999999999999999, subsample=1.0 will be ignored. Current value: bagging_fraction=0.8999999999999999\n",
      "[LightGBM] [Warning] feature_fraction is set=0.5, colsample_bytree=1.0 will be ignored. Current value: feature_fraction=0.5\n",
      "[LightGBM] [Warning] bagging_fraction is set=0.8999999999999999, subsample=1.0 will be ignored. Current value: bagging_fraction=0.8999999999999999\n",
      "[LightGBM] [Warning] feature_fraction is set=0.6, colsample_bytree=1.0 will be ignored. Current value: feature_fraction=0.6\n",
      "[LightGBM] [Warning] bagging_fraction is set=0.8999999999999999, subsample=1.0 will be ignored. Current value: bagging_fraction=0.8999999999999999\n",
      "[LightGBM] [Warning] feature_fraction is set=0.9999999999999999, colsample_bytree=1.0 will be ignored. Current value: feature_fraction=0.9999999999999999\n",
      "[LightGBM] [Warning] bagging_fraction is set=0.8999999999999999, subsample=1.0 will be ignored. Current value: bagging_fraction=0.8999999999999999\n",
      "[LightGBM] [Warning] feature_fraction is set=0.9999999999999999, colsample_bytree=1.0 will be ignored. Current value: feature_fraction=0.9999999999999999\n",
      "[LightGBM] [Warning] bagging_fraction is set=0.8999999999999999, subsample=1.0 will be ignored. Current value: bagging_fraction=0.8999999999999999\n",
      "[LightGBM] [Warning] feature_fraction is set=1.0999999999999999, colsample_bytree=1.0 will be ignored. Current value: feature_fraction=1.0999999999999999\n",
      "[LightGBM] [Warning] bagging_fraction is set=0.8999999999999999, subsample=1.0 will be ignored. Current value: bagging_fraction=0.8999999999999999\n",
      "[LightGBM] [Warning] feature_fraction is set=1.0999999999999999, colsample_bytree=1.0 will be ignored. Current value: feature_fraction=1.0999999999999999\n",
      "[LightGBM] [Warning] bagging_fraction is set=0.9999999999999999, subsample=1.0 will be ignored. Current value: bagging_fraction=0.9999999999999999\n",
      "[LightGBM] [Warning] feature_fraction is set=0.7999999999999999, colsample_bytree=1.0 will be ignored. Current value: feature_fraction=0.7999999999999999\n",
      "[LightGBM] [Warning] bagging_fraction is set=0.9999999999999999, subsample=1.0 will be ignored. Current value: bagging_fraction=0.9999999999999999\n",
      "[LightGBM] [Warning] feature_fraction is set=0.7999999999999999, colsample_bytree=1.0 will be ignored. Current value: feature_fraction=0.7999999999999999\n",
      "[LightGBM] [Warning] bagging_fraction is set=0.9999999999999999, subsample=1.0 will be ignored. Current value: bagging_fraction=0.9999999999999999\n",
      "[LightGBM] [Warning] feature_fraction is set=0.8999999999999999, colsample_bytree=1.0 will be ignored. Current value: feature_fraction=0.8999999999999999\n",
      "[LightGBM] [Warning] bagging_fraction is set=0.9999999999999999, subsample=1.0 will be ignored. Current value: bagging_fraction=0.9999999999999999\n",
      "[LightGBM] [Warning] feature_fraction is set=0.8999999999999999, colsample_bytree=1.0 will be ignored. Current value: feature_fraction=0.8999999999999999\n",
      "[LightGBM] [Warning] bagging_fraction is set=1.4, subsample=1.0 will be ignored. Current value: bagging_fraction=1.4\n",
      "[LightGBM] [Warning] feature_fraction is set=1.4, colsample_bytree=1.0 will be ignored. Current value: feature_fraction=1.4\n",
      "[LightGBM] [Warning] bagging_fraction is set=0.1, subsample=1.0 will be ignored. Current value: bagging_fraction=0.1\n",
      "[LightGBM] [Warning] feature_fraction is set=0.1, colsample_bytree=1.0 will be ignored. Current value: feature_fraction=0.1\n",
      "[LightGBM] [Warning] bagging_fraction is set=0.1, subsample=1.0 will be ignored. Current value: bagging_fraction=0.1\n",
      "[LightGBM] [Warning] feature_fraction is set=0.30000000000000004, colsample_bytree=1.0 will be ignored. Current value: feature_fraction=0.30000000000000004\n",
      "[LightGBM] [Warning] bagging_fraction is set=0.1, subsample=1.0 will be ignored. Current value: bagging_fraction=0.1\n",
      "[LightGBM] [Warning] feature_fraction is set=0.5, colsample_bytree=1.0 will be ignored. Current value: feature_fraction=0.5\n",
      "[LightGBM] [Warning] bagging_fraction is set=0.1, subsample=1.0 will be ignored. Current value: bagging_fraction=0.1\n",
      "[LightGBM] [Warning] feature_fraction is set=0.5, colsample_bytree=1.0 will be ignored. Current value: feature_fraction=0.5\n",
      "[LightGBM] [Warning] bagging_fraction is set=0.1, subsample=1.0 will be ignored. Current value: bagging_fraction=0.1\n",
      "[LightGBM] [Warning] feature_fraction is set=0.7000000000000001, colsample_bytree=1.0 will be ignored. Current value: feature_fraction=0.7000000000000001\n",
      "[LightGBM] [Warning] bagging_fraction is set=0.1, subsample=1.0 will be ignored. Current value: bagging_fraction=0.1\n",
      "[LightGBM] [Warning] feature_fraction is set=0.8, colsample_bytree=1.0 will be ignored. Current value: feature_fraction=0.8\n",
      "[LightGBM] [Warning] bagging_fraction is set=0.2, subsample=1.0 will be ignored. Current value: bagging_fraction=0.2\n",
      "[LightGBM] [Warning] feature_fraction is set=0.1, colsample_bytree=1.0 will be ignored. Current value: feature_fraction=0.1\n",
      "[LightGBM] [Warning] bagging_fraction is set=0.2, subsample=1.0 will be ignored. Current value: bagging_fraction=0.2\n",
      "[LightGBM] [Warning] feature_fraction is set=0.1, colsample_bytree=1.0 will be ignored. Current value: feature_fraction=0.1\n",
      "[LightGBM] [Warning] bagging_fraction is set=0.2, subsample=1.0 will be ignored. Current value: bagging_fraction=0.2\n",
      "[LightGBM] [Warning] feature_fraction is set=0.2, colsample_bytree=1.0 will be ignored. Current value: feature_fraction=0.2\n",
      "[LightGBM] [Warning] bagging_fraction is set=0.2, subsample=1.0 will be ignored. Current value: bagging_fraction=0.2\n",
      "[LightGBM] [Warning] feature_fraction is set=0.5, colsample_bytree=1.0 will be ignored. Current value: feature_fraction=0.5\n",
      "[LightGBM] [Warning] bagging_fraction is set=1.4, subsample=1.0 will be ignored. Current value: bagging_fraction=1.4\n",
      "[LightGBM] [Warning] feature_fraction is set=0.6, colsample_bytree=1.0 will be ignored. Current value: feature_fraction=0.6\n",
      "[LightGBM] [Warning] bagging_fraction is set=1.4, subsample=1.0 will be ignored. Current value: bagging_fraction=1.4\n",
      "[LightGBM] [Warning] feature_fraction is set=0.6, colsample_bytree=1.0 will be ignored. Current value: feature_fraction=0.6\n",
      "[LightGBM] [Warning] bagging_fraction is set=1.4, subsample=1.0 will be ignored. Current value: bagging_fraction=1.4\n",
      "[LightGBM] [Warning] feature_fraction is set=0.6, colsample_bytree=1.0 will be ignored. Current value: feature_fraction=0.6\n",
      "[LightGBM] [Warning] bagging_fraction is set=1.4, subsample=1.0 will be ignored. Current value: bagging_fraction=1.4\n",
      "[LightGBM] [Warning] feature_fraction is set=0.7, colsample_bytree=1.0 will be ignored. Current value: feature_fraction=0.7\n",
      "[LightGBM] [Warning] bagging_fraction is set=1.4, subsample=1.0 will be ignored. Current value: bagging_fraction=1.4\n",
      "[LightGBM] [Warning] feature_fraction is set=0.7, colsample_bytree=1.0 will be ignored. Current value: feature_fraction=0.7\n",
      "[LightGBM] [Warning] bagging_fraction is set=1.4, subsample=1.0 will be ignored. Current value: bagging_fraction=1.4\n",
      "[LightGBM] [Warning] feature_fraction is set=0.7, colsample_bytree=1.0 will be ignored. Current value: feature_fraction=0.7\n",
      "[LightGBM] [Warning] bagging_fraction is set=1.4, subsample=1.0 will be ignored. Current value: bagging_fraction=1.4\n",
      "[LightGBM] [Warning] feature_fraction is set=0.7999999999999999, colsample_bytree=1.0 will be ignored. Current value: feature_fraction=0.7999999999999999\n",
      "[LightGBM] [Warning] bagging_fraction is set=1.4, subsample=1.0 will be ignored. Current value: bagging_fraction=1.4\n",
      "[LightGBM] [Warning] feature_fraction is set=1.0999999999999999, colsample_bytree=1.0 will be ignored. Current value: feature_fraction=1.0999999999999999\n",
      "[LightGBM] [Warning] bagging_fraction is set=1.4, subsample=1.0 will be ignored. Current value: bagging_fraction=1.4\n",
      "[LightGBM] [Warning] feature_fraction is set=1.0999999999999999, colsample_bytree=1.0 will be ignored. Current value: feature_fraction=1.0999999999999999\n",
      "[LightGBM] [Warning] bagging_fraction is set=1.4, subsample=1.0 will be ignored. Current value: bagging_fraction=1.4\n",
      "[LightGBM] [Warning] feature_fraction is set=1.0999999999999999, colsample_bytree=1.0 will be ignored. Current value: feature_fraction=1.0999999999999999\n",
      "[LightGBM] [Warning] bagging_fraction is set=1.4, subsample=1.0 will be ignored. Current value: bagging_fraction=1.4\n",
      "[LightGBM] [Warning] feature_fraction is set=1.1999999999999997, colsample_bytree=1.0 will be ignored. Current value: feature_fraction=1.1999999999999997\n",
      "[LightGBM] [Warning] bagging_fraction is set=1.4, subsample=1.0 will be ignored. Current value: bagging_fraction=1.4\n",
      "[LightGBM] [Warning] feature_fraction is set=1.1999999999999997, colsample_bytree=1.0 will be ignored. Current value: feature_fraction=1.1999999999999997\n",
      "[LightGBM] [Warning] bagging_fraction is set=1.4, subsample=1.0 will be ignored. Current value: bagging_fraction=1.4\n",
      "[LightGBM] [Warning] feature_fraction is set=1.1999999999999997, colsample_bytree=1.0 will be ignored. Current value: feature_fraction=1.1999999999999997\n",
      "[LightGBM] [Warning] bagging_fraction is set=1.4, subsample=1.0 will be ignored. Current value: bagging_fraction=1.4\n",
      "[LightGBM] [Warning] feature_fraction is set=1.2999999999999998, colsample_bytree=1.0 will be ignored. Current value: feature_fraction=1.2999999999999998\n",
      "[LightGBM] [Warning] bagging_fraction is set=1.4, subsample=1.0 will be ignored. Current value: bagging_fraction=1.4\n",
      "[LightGBM] [Warning] feature_fraction is set=1.2999999999999998, colsample_bytree=1.0 will be ignored. Current value: feature_fraction=1.2999999999999998\n",
      "[LightGBM] [Warning] bagging_fraction is set=1.4, subsample=1.0 will be ignored. Current value: bagging_fraction=1.4\n",
      "[LightGBM] [Warning] feature_fraction is set=1.4, colsample_bytree=1.0 will be ignored. Current value: feature_fraction=1.4\n",
      "[LightGBM] [Warning] bagging_fraction is set=0.1, subsample=1.0 will be ignored. Current value: bagging_fraction=0.1\n",
      "[LightGBM] [Warning] feature_fraction is set=0.1, colsample_bytree=1.0 will be ignored. Current value: feature_fraction=0.1\n",
      "[LightGBM] [Warning] bagging_fraction is set=0.1, subsample=1.0 will be ignored. Current value: bagging_fraction=0.1\n",
      "[LightGBM] [Warning] feature_fraction is set=0.2, colsample_bytree=1.0 will be ignored. Current value: feature_fraction=0.2\n",
      "[LightGBM] [Warning] bagging_fraction is set=0.1, subsample=1.0 will be ignored. Current value: bagging_fraction=0.1\n",
      "[LightGBM] [Warning] feature_fraction is set=0.4, colsample_bytree=1.0 will be ignored. Current value: feature_fraction=0.4\n",
      "[LightGBM] [Warning] bagging_fraction is set=0.1, subsample=1.0 will be ignored. Current value: bagging_fraction=0.1\n",
      "[LightGBM] [Warning] feature_fraction is set=0.4, colsample_bytree=1.0 will be ignored. Current value: feature_fraction=0.4\n",
      "[LightGBM] [Warning] bagging_fraction is set=0.1, subsample=1.0 will be ignored. Current value: bagging_fraction=0.1\n",
      "[LightGBM] [Warning] feature_fraction is set=0.7000000000000001, colsample_bytree=1.0 will be ignored. Current value: feature_fraction=0.7000000000000001\n",
      "[LightGBM] [Warning] bagging_fraction is set=0.1, subsample=1.0 will be ignored. Current value: bagging_fraction=0.1\n",
      "[LightGBM] [Warning] feature_fraction is set=0.7000000000000001, colsample_bytree=1.0 will be ignored. Current value: feature_fraction=0.7000000000000001\n",
      "[LightGBM] [Warning] bagging_fraction is set=0.1, subsample=1.0 will be ignored. Current value: bagging_fraction=0.1\n",
      "[LightGBM] [Warning] feature_fraction is set=0.9, colsample_bytree=1.0 will be ignored. Current value: feature_fraction=0.9\n",
      "[LightGBM] [Warning] bagging_fraction is set=0.2, subsample=1.0 will be ignored. Current value: bagging_fraction=0.2\n",
      "[LightGBM] [Warning] feature_fraction is set=0.1, colsample_bytree=1.0 will be ignored. Current value: feature_fraction=0.1\n",
      "[LightGBM] [Warning] bagging_fraction is set=0.2, subsample=1.0 will be ignored. Current value: bagging_fraction=0.2\n",
      "[LightGBM] [Warning] feature_fraction is set=0.30000000000000004, colsample_bytree=1.0 will be ignored. Current value: feature_fraction=0.30000000000000004\n",
      "[LightGBM] [Warning] bagging_fraction is set=0.2, subsample=1.0 will be ignored. Current value: bagging_fraction=0.2\n",
      "[LightGBM] [Warning] feature_fraction is set=0.30000000000000004, colsample_bytree=1.0 will be ignored. Current value: feature_fraction=0.30000000000000004\n",
      "[LightGBM] [Warning] bagging_fraction is set=0.2, subsample=1.0 will be ignored. Current value: bagging_fraction=0.2\n",
      "[LightGBM] [Warning] feature_fraction is set=0.6, colsample_bytree=1.0 will be ignored. Current value: feature_fraction=0.6\n",
      "[LightGBM] [Warning] bagging_fraction is set=0.2, subsample=1.0 will be ignored. Current value: bagging_fraction=0.2\n",
      "[LightGBM] [Warning] feature_fraction is set=0.6, colsample_bytree=1.0 will be ignored. Current value: feature_fraction=0.6\n",
      "[LightGBM] [Warning] bagging_fraction is set=0.2, subsample=1.0 will be ignored. Current value: bagging_fraction=0.2\n",
      "[LightGBM] [Warning] feature_fraction is set=0.8, colsample_bytree=1.0 will be ignored. Current value: feature_fraction=0.8\n",
      "[LightGBM] [Warning] bagging_fraction is set=0.2, subsample=1.0 will be ignored. Current value: bagging_fraction=0.2\n",
      "[LightGBM] [Warning] feature_fraction is set=0.9, colsample_bytree=1.0 will be ignored. Current value: feature_fraction=0.9\n",
      "[LightGBM] [Warning] bagging_fraction is set=0.30000000000000004, subsample=1.0 will be ignored. Current value: bagging_fraction=0.30000000000000004\n",
      "[LightGBM] [Warning] feature_fraction is set=0.30000000000000004, colsample_bytree=1.0 will be ignored. Current value: feature_fraction=0.30000000000000004\n",
      "[LightGBM] [Warning] bagging_fraction is set=0.7999999999999999, subsample=1.0 will be ignored. Current value: bagging_fraction=0.7999999999999999\n",
      "[LightGBM] [Warning] feature_fraction is set=0.9999999999999999, colsample_bytree=1.0 will be ignored. Current value: feature_fraction=0.9999999999999999\n",
      "[LightGBM] [Warning] bagging_fraction is set=0.7999999999999999, subsample=1.0 will be ignored. Current value: bagging_fraction=0.7999999999999999\n",
      "[LightGBM] [Warning] feature_fraction is set=0.9999999999999999, colsample_bytree=1.0 will be ignored. Current value: feature_fraction=0.9999999999999999\n",
      "[LightGBM] [Warning] bagging_fraction is set=0.7999999999999999, subsample=1.0 will be ignored. Current value: bagging_fraction=0.7999999999999999\n",
      "[LightGBM] [Warning] feature_fraction is set=0.9999999999999999, colsample_bytree=1.0 will be ignored. Current value: feature_fraction=0.9999999999999999\n",
      "[LightGBM] [Warning] bagging_fraction is set=0.8999999999999999, subsample=1.0 will be ignored. Current value: bagging_fraction=0.8999999999999999\n",
      "[LightGBM] [Warning] feature_fraction is set=0.8999999999999999, colsample_bytree=1.0 will be ignored. Current value: feature_fraction=0.8999999999999999\n",
      "[LightGBM] [Warning] bagging_fraction is set=0.8999999999999999, subsample=1.0 will be ignored. Current value: bagging_fraction=0.8999999999999999\n",
      "[LightGBM] [Warning] feature_fraction is set=0.8999999999999999, colsample_bytree=1.0 will be ignored. Current value: feature_fraction=0.8999999999999999\n",
      "[LightGBM] [Warning] bagging_fraction is set=0.8999999999999999, subsample=1.0 will be ignored. Current value: bagging_fraction=0.8999999999999999\n",
      "[LightGBM] [Warning] feature_fraction is set=0.8999999999999999, colsample_bytree=1.0 will be ignored. Current value: feature_fraction=0.8999999999999999\n",
      "[LightGBM] [Warning] bagging_fraction is set=0.8999999999999999, subsample=1.0 will be ignored. Current value: bagging_fraction=0.8999999999999999\n",
      "[LightGBM] [Warning] feature_fraction is set=0.9999999999999999, colsample_bytree=1.0 will be ignored. Current value: feature_fraction=0.9999999999999999\n",
      "[LightGBM] [Warning] bagging_fraction is set=0.9999999999999999, subsample=1.0 will be ignored. Current value: bagging_fraction=0.9999999999999999\n",
      "[LightGBM] [Warning] feature_fraction is set=0.8999999999999999, colsample_bytree=1.0 will be ignored. Current value: feature_fraction=0.8999999999999999\n",
      "[LightGBM] [Warning] bagging_fraction is set=0.9999999999999999, subsample=1.0 will be ignored. Current value: bagging_fraction=0.9999999999999999\n",
      "[LightGBM] [Warning] feature_fraction is set=0.9999999999999999, colsample_bytree=1.0 will be ignored. Current value: feature_fraction=0.9999999999999999\n",
      "[LightGBM] [Warning] bagging_fraction is set=0.9999999999999999, subsample=1.0 will be ignored. Current value: bagging_fraction=0.9999999999999999\n",
      "[LightGBM] [Warning] feature_fraction is set=0.9999999999999999, colsample_bytree=1.0 will be ignored. Current value: feature_fraction=0.9999999999999999\n",
      "[LightGBM] [Warning] bagging_fraction is set=0.9999999999999999, subsample=1.0 will be ignored. Current value: bagging_fraction=0.9999999999999999\n",
      "[LightGBM] [Warning] feature_fraction is set=0.9999999999999999, colsample_bytree=1.0 will be ignored. Current value: feature_fraction=0.9999999999999999\n",
      "[LightGBM] [Warning] bagging_fraction is set=0.1, subsample=1.0 will be ignored. Current value: bagging_fraction=0.1\n",
      "[LightGBM] [Warning] feature_fraction is set=0.2, colsample_bytree=1.0 will be ignored. Current value: feature_fraction=0.2\n",
      "[LightGBM] [Warning] bagging_fraction is set=0.1, subsample=1.0 will be ignored. Current value: bagging_fraction=0.1\n",
      "[LightGBM] [Warning] feature_fraction is set=0.30000000000000004, colsample_bytree=1.0 will be ignored. Current value: feature_fraction=0.30000000000000004\n",
      "[LightGBM] [Warning] bagging_fraction is set=0.1, subsample=1.0 will be ignored. Current value: bagging_fraction=0.1\n",
      "[LightGBM] [Warning] feature_fraction is set=0.5, colsample_bytree=1.0 will be ignored. Current value: feature_fraction=0.5\n",
      "[LightGBM] [Warning] bagging_fraction is set=0.1, subsample=1.0 will be ignored. Current value: bagging_fraction=0.1\n",
      "[LightGBM] [Warning] feature_fraction is set=0.6, colsample_bytree=1.0 will be ignored. Current value: feature_fraction=0.6\n",
      "[LightGBM] [Warning] bagging_fraction is set=0.1, subsample=1.0 will be ignored. Current value: bagging_fraction=0.1\n",
      "[LightGBM] [Warning] feature_fraction is set=0.8, colsample_bytree=1.0 will be ignored. Current value: feature_fraction=0.8\n",
      "[LightGBM] [Warning] bagging_fraction is set=0.1, subsample=1.0 will be ignored. Current value: bagging_fraction=0.1\n",
      "[LightGBM] [Warning] feature_fraction is set=0.8, colsample_bytree=1.0 will be ignored. Current value: feature_fraction=0.8\n",
      "[LightGBM] [Warning] bagging_fraction is set=0.2, subsample=1.0 will be ignored. Current value: bagging_fraction=0.2\n",
      "[LightGBM] [Warning] feature_fraction is set=0.2, colsample_bytree=1.0 will be ignored. Current value: feature_fraction=0.2\n",
      "[LightGBM] [Warning] bagging_fraction is set=0.2, subsample=1.0 will be ignored. Current value: bagging_fraction=0.2\n",
      "[LightGBM] [Warning] feature_fraction is set=0.2, colsample_bytree=1.0 will be ignored. Current value: feature_fraction=0.2\n",
      "[LightGBM] [Warning] bagging_fraction is set=0.2, subsample=1.0 will be ignored. Current value: bagging_fraction=0.2\n",
      "[LightGBM] [Warning] feature_fraction is set=0.4, colsample_bytree=1.0 will be ignored. Current value: feature_fraction=0.4\n",
      "[LightGBM] [Warning] bagging_fraction is set=0.2, subsample=1.0 will be ignored. Current value: bagging_fraction=0.2\n",
      "[LightGBM] [Warning] feature_fraction is set=0.4, colsample_bytree=1.0 will be ignored. Current value: feature_fraction=0.4\n",
      "[LightGBM] [Warning] bagging_fraction is set=0.2, subsample=1.0 will be ignored. Current value: bagging_fraction=0.2\n",
      "[LightGBM] [Warning] feature_fraction is set=0.6, colsample_bytree=1.0 will be ignored. Current value: feature_fraction=0.6\n",
      "[LightGBM] [Warning] bagging_fraction is set=0.2, subsample=1.0 will be ignored. Current value: bagging_fraction=0.2\n",
      "[LightGBM] [Warning] feature_fraction is set=0.7000000000000001, colsample_bytree=1.0 will be ignored. Current value: feature_fraction=0.7000000000000001\n",
      "[LightGBM] [Warning] bagging_fraction is set=0.2, subsample=1.0 will be ignored. Current value: bagging_fraction=0.2\n",
      "[LightGBM] [Warning] feature_fraction is set=0.9, colsample_bytree=1.0 will be ignored. Current value: feature_fraction=0.9\n",
      "[LightGBM] [Warning] bagging_fraction is set=0.2, subsample=1.0 will be ignored. Current value: bagging_fraction=0.2\n",
      "[LightGBM] [Warning] feature_fraction is set=0.9, colsample_bytree=1.0 will be ignored. Current value: feature_fraction=0.9\n",
      "[LightGBM] [Warning] bagging_fraction is set=0.30000000000000004, subsample=1.0 will be ignored. Current value: bagging_fraction=0.30000000000000004\n",
      "[LightGBM] [Warning] feature_fraction is set=0.5, colsample_bytree=1.0 will be ignored. Current value: feature_fraction=0.5\n",
      "[LightGBM] [Warning] bagging_fraction is set=0.30000000000000004, subsample=1.0 will be ignored. Current value: bagging_fraction=0.30000000000000004\n",
      "[LightGBM] [Warning] feature_fraction is set=0.5, colsample_bytree=1.0 will be ignored. Current value: feature_fraction=0.5\n",
      "[LightGBM] [Warning] bagging_fraction is set=0.30000000000000004, subsample=1.0 will be ignored. Current value: bagging_fraction=0.30000000000000004\n",
      "[LightGBM] [Warning] feature_fraction is set=0.7000000000000001, colsample_bytree=1.0 will be ignored. Current value: feature_fraction=0.7000000000000001\n",
      "[LightGBM] [Warning] bagging_fraction is set=0.30000000000000004, subsample=1.0 will be ignored. Current value: bagging_fraction=0.30000000000000004\n",
      "[LightGBM] [Warning] feature_fraction is set=0.8, colsample_bytree=1.0 will be ignored. Current value: feature_fraction=0.8\n",
      "[LightGBM] [Warning] bagging_fraction is set=0.4, subsample=1.0 will be ignored. Current value: bagging_fraction=0.4\n",
      "[LightGBM] [Warning] feature_fraction is set=0.1, colsample_bytree=1.0 will be ignored. Current value: feature_fraction=0.1\n",
      "[LightGBM] [Warning] bagging_fraction is set=0.1, subsample=1.0 will be ignored. Current value: bagging_fraction=0.1\n",
      "[LightGBM] [Warning] feature_fraction is set=0.9, colsample_bytree=1.0 will be ignored. Current value: feature_fraction=0.9\n",
      "[LightGBM] [Warning] bagging_fraction is set=0.2, subsample=1.0 will be ignored. Current value: bagging_fraction=0.2\n",
      "[LightGBM] [Warning] feature_fraction is set=0.4, colsample_bytree=1.0 will be ignored. Current value: feature_fraction=0.4\n",
      "[LightGBM] [Warning] bagging_fraction is set=0.2, subsample=1.0 will be ignored. Current value: bagging_fraction=0.2\n",
      "[LightGBM] [Warning] feature_fraction is set=0.5, colsample_bytree=1.0 will be ignored. Current value: feature_fraction=0.5\n",
      "[LightGBM] [Warning] bagging_fraction is set=0.2, subsample=1.0 will be ignored. Current value: bagging_fraction=0.2\n",
      "[LightGBM] [Warning] feature_fraction is set=0.7000000000000001, colsample_bytree=1.0 will be ignored. Current value: feature_fraction=0.7000000000000001\n",
      "[LightGBM] [Warning] bagging_fraction is set=0.2, subsample=1.0 will be ignored. Current value: bagging_fraction=0.2\n",
      "[LightGBM] [Warning] feature_fraction is set=0.7000000000000001, colsample_bytree=1.0 will be ignored. Current value: feature_fraction=0.7000000000000001\n",
      "[LightGBM] [Warning] bagging_fraction is set=0.30000000000000004, subsample=1.0 will be ignored. Current value: bagging_fraction=0.30000000000000004\n",
      "[LightGBM] [Warning] feature_fraction is set=0.1, colsample_bytree=1.0 will be ignored. Current value: feature_fraction=0.1\n",
      "[LightGBM] [Warning] bagging_fraction is set=0.30000000000000004, subsample=1.0 will be ignored. Current value: bagging_fraction=0.30000000000000004\n",
      "[LightGBM] [Warning] feature_fraction is set=0.1, colsample_bytree=1.0 will be ignored. Current value: feature_fraction=0.1\n",
      "[LightGBM] [Warning] bagging_fraction is set=0.30000000000000004, subsample=1.0 will be ignored. Current value: bagging_fraction=0.30000000000000004\n",
      "[LightGBM] [Warning] feature_fraction is set=0.1, colsample_bytree=1.0 will be ignored. Current value: feature_fraction=0.1\n",
      "[LightGBM] [Warning] bagging_fraction is set=0.30000000000000004, subsample=1.0 will be ignored. Current value: bagging_fraction=0.30000000000000004\n",
      "[LightGBM] [Warning] feature_fraction is set=0.2, colsample_bytree=1.0 will be ignored. Current value: feature_fraction=0.2\n",
      "[LightGBM] [Warning] bagging_fraction is set=0.30000000000000004, subsample=1.0 will be ignored. Current value: bagging_fraction=0.30000000000000004\n",
      "[LightGBM] [Warning] feature_fraction is set=0.30000000000000004, colsample_bytree=1.0 will be ignored. Current value: feature_fraction=0.30000000000000004\n",
      "[LightGBM] [Warning] bagging_fraction is set=0.30000000000000004, subsample=1.0 will be ignored. Current value: bagging_fraction=0.30000000000000004\n",
      "[LightGBM] [Warning] feature_fraction is set=0.4, colsample_bytree=1.0 will be ignored. Current value: feature_fraction=0.4\n",
      "[LightGBM] [Warning] bagging_fraction is set=0.30000000000000004, subsample=1.0 will be ignored. Current value: bagging_fraction=0.30000000000000004\n",
      "[LightGBM] [Warning] feature_fraction is set=0.6, colsample_bytree=1.0 will be ignored. Current value: feature_fraction=0.6\n",
      "[LightGBM] [Warning] bagging_fraction is set=0.30000000000000004, subsample=1.0 will be ignored. Current value: bagging_fraction=0.30000000000000004\n",
      "[LightGBM] [Warning] feature_fraction is set=0.6, colsample_bytree=1.0 will be ignored. Current value: feature_fraction=0.6\n",
      "[LightGBM] [Warning] bagging_fraction is set=0.30000000000000004, subsample=1.0 will be ignored. Current value: bagging_fraction=0.30000000000000004\n",
      "[LightGBM] [Warning] feature_fraction is set=0.9, colsample_bytree=1.0 will be ignored. Current value: feature_fraction=0.9\n",
      "[LightGBM] [Warning] bagging_fraction is set=0.30000000000000004, subsample=1.0 will be ignored. Current value: bagging_fraction=0.30000000000000004\n",
      "[LightGBM] [Warning] feature_fraction is set=0.9, colsample_bytree=1.0 will be ignored. Current value: feature_fraction=0.9\n",
      "[LightGBM] [Warning] bagging_fraction is set=0.4, subsample=1.0 will be ignored. Current value: bagging_fraction=0.4\n",
      "[LightGBM] [Warning] feature_fraction is set=0.4, colsample_bytree=1.0 will be ignored. Current value: feature_fraction=0.4\n",
      "[LightGBM] [Warning] bagging_fraction is set=0.4, subsample=1.0 will be ignored. Current value: bagging_fraction=0.4\n",
      "[LightGBM] [Warning] feature_fraction is set=0.4, colsample_bytree=1.0 will be ignored. Current value: feature_fraction=0.4\n",
      "[LightGBM] [Warning] bagging_fraction is set=0.4, subsample=1.0 will be ignored. Current value: bagging_fraction=0.4\n",
      "[LightGBM] [Warning] feature_fraction is set=0.6, colsample_bytree=1.0 will be ignored. Current value: feature_fraction=0.6\n",
      "[LightGBM] [Warning] bagging_fraction is set=0.4, subsample=1.0 will be ignored. Current value: bagging_fraction=0.4\n",
      "[LightGBM] [Warning] feature_fraction is set=0.7000000000000001, colsample_bytree=1.0 will be ignored. Current value: feature_fraction=0.7000000000000001\n",
      "[LightGBM] [Warning] bagging_fraction is set=0.4, subsample=1.0 will be ignored. Current value: bagging_fraction=0.4\n",
      "[LightGBM] [Warning] feature_fraction is set=0.9, colsample_bytree=1.0 will be ignored. Current value: feature_fraction=0.9\n",
      "[LightGBM] [Warning] bagging_fraction is set=0.4, subsample=1.0 will be ignored. Current value: bagging_fraction=0.4\n",
      "[LightGBM] [Warning] feature_fraction is set=0.9, colsample_bytree=1.0 will be ignored. Current value: feature_fraction=0.9\n",
      "[LightGBM] [Warning] bagging_fraction is set=0.5, subsample=1.0 will be ignored. Current value: bagging_fraction=0.5\n",
      "[LightGBM] [Warning] feature_fraction is set=0.30000000000000004, colsample_bytree=1.0 will be ignored. Current value: feature_fraction=0.30000000000000004\n",
      "[LightGBM] [Warning] bagging_fraction is set=0.5, subsample=1.0 will be ignored. Current value: bagging_fraction=0.5\n",
      "[LightGBM] [Warning] feature_fraction is set=0.4, colsample_bytree=1.0 will be ignored. Current value: feature_fraction=0.4\n",
      "[LightGBM] [Warning] bagging_fraction is set=0.5, subsample=1.0 will be ignored. Current value: bagging_fraction=0.5\n",
      "[LightGBM] [Warning] feature_fraction is set=0.6, colsample_bytree=1.0 will be ignored. Current value: feature_fraction=0.6\n",
      "[LightGBM] [Warning] bagging_fraction is set=0.5, subsample=1.0 will be ignored. Current value: bagging_fraction=0.5\n",
      "[LightGBM] [Warning] feature_fraction is set=0.6, colsample_bytree=1.0 will be ignored. Current value: feature_fraction=0.6\n",
      "[LightGBM] [Warning] bagging_fraction is set=0.5, subsample=1.0 will be ignored. Current value: bagging_fraction=0.5\n",
      "[LightGBM] [Warning] feature_fraction is set=0.9, colsample_bytree=1.0 will be ignored. Current value: feature_fraction=0.9\n",
      "[LightGBM] [Warning] bagging_fraction is set=0.5, subsample=1.0 will be ignored. Current value: bagging_fraction=0.5\n",
      "[LightGBM] [Warning] feature_fraction is set=0.9, colsample_bytree=1.0 will be ignored. Current value: feature_fraction=0.9\n",
      "[LightGBM] [Warning] bagging_fraction is set=0.6, subsample=1.0 will be ignored. Current value: bagging_fraction=0.6\n",
      "[LightGBM] [Warning] feature_fraction is set=0.4, colsample_bytree=1.0 will be ignored. Current value: feature_fraction=0.4\n",
      "[LightGBM] [Warning] bagging_fraction is set=0.6, subsample=1.0 will be ignored. Current value: bagging_fraction=0.6\n",
      "[LightGBM] [Warning] feature_fraction is set=0.4, colsample_bytree=1.0 will be ignored. Current value: feature_fraction=0.4\n",
      "[LightGBM] [Warning] bagging_fraction is set=0.6, subsample=1.0 will be ignored. Current value: bagging_fraction=0.6\n",
      "[LightGBM] [Warning] feature_fraction is set=0.6, colsample_bytree=1.0 will be ignored. Current value: feature_fraction=0.6\n",
      "[LightGBM] [Warning] bagging_fraction is set=0.6, subsample=1.0 will be ignored. Current value: bagging_fraction=0.6\n",
      "[LightGBM] [Warning] feature_fraction is set=0.7000000000000001, colsample_bytree=1.0 will be ignored. Current value: feature_fraction=0.7000000000000001\n",
      "[LightGBM] [Warning] bagging_fraction is set=0.6, subsample=1.0 will be ignored. Current value: bagging_fraction=0.6\n",
      "[LightGBM] [Warning] feature_fraction is set=0.30000000000000004, colsample_bytree=1.0 will be ignored. Current value: feature_fraction=0.30000000000000004\n",
      "[LightGBM] [Warning] bagging_fraction is set=0.2, subsample=1.0 will be ignored. Current value: bagging_fraction=0.2\n",
      "[LightGBM] [Warning] feature_fraction is set=0.5, colsample_bytree=1.0 will be ignored. Current value: feature_fraction=0.5\n",
      "[LightGBM] [Warning] bagging_fraction is set=0.2, subsample=1.0 will be ignored. Current value: bagging_fraction=0.2\n",
      "[LightGBM] [Warning] feature_fraction is set=0.5, colsample_bytree=1.0 will be ignored. Current value: feature_fraction=0.5\n",
      "[LightGBM] [Warning] bagging_fraction is set=0.2, subsample=1.0 will be ignored. Current value: bagging_fraction=0.2\n",
      "[LightGBM] [Warning] feature_fraction is set=0.8, colsample_bytree=1.0 will be ignored. Current value: feature_fraction=0.8\n",
      "[LightGBM] [Warning] bagging_fraction is set=0.2, subsample=1.0 will be ignored. Current value: bagging_fraction=0.2\n",
      "[LightGBM] [Warning] feature_fraction is set=0.8, colsample_bytree=1.0 will be ignored. Current value: feature_fraction=0.8\n",
      "[LightGBM] [Warning] bagging_fraction is set=0.30000000000000004, subsample=1.0 will be ignored. Current value: bagging_fraction=0.30000000000000004\n",
      "[LightGBM] [Warning] feature_fraction is set=0.2, colsample_bytree=1.0 will be ignored. Current value: feature_fraction=0.2\n",
      "[LightGBM] [Warning] bagging_fraction is set=0.30000000000000004, subsample=1.0 will be ignored. Current value: bagging_fraction=0.30000000000000004\n",
      "[LightGBM] [Warning] feature_fraction is set=0.2, colsample_bytree=1.0 will be ignored. Current value: feature_fraction=0.2\n",
      "[LightGBM] [Warning] bagging_fraction is set=0.30000000000000004, subsample=1.0 will be ignored. Current value: bagging_fraction=0.30000000000000004\n",
      "[LightGBM] [Warning] feature_fraction is set=0.4, colsample_bytree=1.0 will be ignored. Current value: feature_fraction=0.4\n",
      "[LightGBM] [Warning] bagging_fraction is set=0.30000000000000004, subsample=1.0 will be ignored. Current value: bagging_fraction=0.30000000000000004\n",
      "[LightGBM] [Warning] feature_fraction is set=0.4, colsample_bytree=1.0 will be ignored. Current value: feature_fraction=0.4\n",
      "[LightGBM] [Warning] bagging_fraction is set=0.30000000000000004, subsample=1.0 will be ignored. Current value: bagging_fraction=0.30000000000000004\n",
      "[LightGBM] [Warning] feature_fraction is set=0.7000000000000001, colsample_bytree=1.0 will be ignored. Current value: feature_fraction=0.7000000000000001\n",
      "[LightGBM] [Warning] bagging_fraction is set=0.30000000000000004, subsample=1.0 will be ignored. Current value: bagging_fraction=0.30000000000000004\n",
      "[LightGBM] [Warning] feature_fraction is set=0.7000000000000001, colsample_bytree=1.0 will be ignored. Current value: feature_fraction=0.7000000000000001\n",
      "[LightGBM] [Warning] bagging_fraction is set=0.30000000000000004, subsample=1.0 will be ignored. Current value: bagging_fraction=0.30000000000000004\n",
      "[LightGBM] [Warning] feature_fraction is set=0.9, colsample_bytree=1.0 will be ignored. Current value: feature_fraction=0.9\n",
      "[LightGBM] [Warning] bagging_fraction is set=0.4, subsample=1.0 will be ignored. Current value: bagging_fraction=0.4\n",
      "[LightGBM] [Warning] feature_fraction is set=0.1, colsample_bytree=1.0 will be ignored. Current value: feature_fraction=0.1\n",
      "[LightGBM] [Warning] bagging_fraction is set=0.4, subsample=1.0 will be ignored. Current value: bagging_fraction=0.4\n",
      "[LightGBM] [Warning] feature_fraction is set=0.30000000000000004, colsample_bytree=1.0 will be ignored. Current value: feature_fraction=0.30000000000000004\n",
      "[LightGBM] [Warning] bagging_fraction is set=0.4, subsample=1.0 will be ignored. Current value: bagging_fraction=0.4\n",
      "[LightGBM] [Warning] feature_fraction is set=0.30000000000000004, colsample_bytree=1.0 will be ignored. Current value: feature_fraction=0.30000000000000004\n",
      "[LightGBM] [Warning] bagging_fraction is set=0.4, subsample=1.0 will be ignored. Current value: bagging_fraction=0.4\n",
      "[LightGBM] [Warning] feature_fraction is set=0.6, colsample_bytree=1.0 will be ignored. Current value: feature_fraction=0.6\n",
      "[LightGBM] [Warning] bagging_fraction is set=0.4, subsample=1.0 will be ignored. Current value: bagging_fraction=0.4\n",
      "[LightGBM] [Warning] feature_fraction is set=0.6, colsample_bytree=1.0 will be ignored. Current value: feature_fraction=0.6\n",
      "[LightGBM] [Warning] bagging_fraction is set=0.4, subsample=1.0 will be ignored. Current value: bagging_fraction=0.4\n",
      "[LightGBM] [Warning] feature_fraction is set=0.8, colsample_bytree=1.0 will be ignored. Current value: feature_fraction=0.8\n",
      "[LightGBM] [Warning] bagging_fraction is set=0.4, subsample=1.0 will be ignored. Current value: bagging_fraction=0.4\n",
      "[LightGBM] [Warning] feature_fraction is set=0.9, colsample_bytree=1.0 will be ignored. Current value: feature_fraction=0.9\n",
      "[LightGBM] [Warning] bagging_fraction is set=0.5, subsample=1.0 will be ignored. Current value: bagging_fraction=0.5\n",
      "[LightGBM] [Warning] feature_fraction is set=0.30000000000000004, colsample_bytree=1.0 will be ignored. Current value: feature_fraction=0.30000000000000004\n",
      "[LightGBM] [Warning] bagging_fraction is set=0.5, subsample=1.0 will be ignored. Current value: bagging_fraction=0.5\n",
      "[LightGBM] [Warning] feature_fraction is set=0.30000000000000004, colsample_bytree=1.0 will be ignored. Current value: feature_fraction=0.30000000000000004\n",
      "[LightGBM] [Warning] bagging_fraction is set=0.5, subsample=1.0 will be ignored. Current value: bagging_fraction=0.5\n",
      "[LightGBM] [Warning] feature_fraction is set=0.5, colsample_bytree=1.0 will be ignored. Current value: feature_fraction=0.5\n",
      "[LightGBM] [Warning] bagging_fraction is set=0.5, subsample=1.0 will be ignored. Current value: bagging_fraction=0.5\n",
      "[LightGBM] [Warning] feature_fraction is set=0.6, colsample_bytree=1.0 will be ignored. Current value: feature_fraction=0.6\n",
      "[LightGBM] [Warning] bagging_fraction is set=0.5, subsample=1.0 will be ignored. Current value: bagging_fraction=0.5\n",
      "[LightGBM] [Warning] feature_fraction is set=0.8, colsample_bytree=1.0 will be ignored. Current value: feature_fraction=0.8\n",
      "[LightGBM] [Warning] bagging_fraction is set=0.5, subsample=1.0 will be ignored. Current value: bagging_fraction=0.5\n",
      "[LightGBM] [Warning] feature_fraction is set=0.8, colsample_bytree=1.0 will be ignored. Current value: feature_fraction=0.8\n",
      "[LightGBM] [Warning] bagging_fraction is set=0.6, subsample=1.0 will be ignored. Current value: bagging_fraction=0.6\n",
      "[LightGBM] [Warning] feature_fraction is set=0.2, colsample_bytree=1.0 will be ignored. Current value: feature_fraction=0.2\n",
      "[LightGBM] [Warning] bagging_fraction is set=0.6, subsample=1.0 will be ignored. Current value: bagging_fraction=0.6\n",
      "[LightGBM] [Warning] feature_fraction is set=0.2, colsample_bytree=1.0 will be ignored. Current value: feature_fraction=0.2\n",
      "[LightGBM] [Warning] bagging_fraction is set=0.6, subsample=1.0 will be ignored. Current value: bagging_fraction=0.6\n",
      "[LightGBM] [Warning] feature_fraction is set=0.4, colsample_bytree=1.0 will be ignored. Current value: feature_fraction=0.4\n",
      "[LightGBM] [Warning] bagging_fraction is set=0.6, subsample=1.0 will be ignored. Current value: bagging_fraction=0.6\n",
      "[LightGBM] [Warning] feature_fraction is set=0.5, colsample_bytree=1.0 will be ignored. Current value: feature_fraction=0.5\n",
      "[LightGBM] [Warning] bagging_fraction is set=0.6, subsample=1.0 will be ignored. Current value: bagging_fraction=0.6\n",
      "[LightGBM] [Warning] feature_fraction is set=0.7000000000000001, colsample_bytree=1.0 will be ignored. Current value: feature_fraction=0.7000000000000001\n",
      "[LightGBM] [Warning] bagging_fraction is set=0.6, subsample=1.0 will be ignored. Current value: bagging_fraction=0.6\n",
      "[LightGBM] [Warning] feature_fraction is set=0.7000000000000001, colsample_bytree=1.0 will be ignored. Current value: feature_fraction=0.7000000000000001\n",
      "[LightGBM] [Warning] bagging_fraction is set=0.7000000000000001, subsample=1.0 will be ignored. Current value: bagging_fraction=0.7000000000000001\n",
      "[LightGBM] [Warning] feature_fraction is set=0.1, colsample_bytree=1.0 will be ignored. Current value: feature_fraction=0.1\n",
      "[LightGBM] [Warning] bagging_fraction is set=0.30000000000000004, subsample=1.0 will be ignored. Current value: bagging_fraction=0.30000000000000004\n",
      "[LightGBM] [Warning] feature_fraction is set=0.30000000000000004, colsample_bytree=1.0 will be ignored. Current value: feature_fraction=0.30000000000000004\n",
      "[LightGBM] [Warning] bagging_fraction is set=0.30000000000000004, subsample=1.0 will be ignored. Current value: bagging_fraction=0.30000000000000004\n",
      "[LightGBM] [Warning] feature_fraction is set=0.5, colsample_bytree=1.0 will be ignored. Current value: feature_fraction=0.5\n",
      "[LightGBM] [Warning] bagging_fraction is set=0.30000000000000004, subsample=1.0 will be ignored. Current value: bagging_fraction=0.30000000000000004\n",
      "[LightGBM] [Warning] feature_fraction is set=0.6, colsample_bytree=1.0 will be ignored. Current value: feature_fraction=0.6\n",
      "[LightGBM] [Warning] bagging_fraction is set=0.30000000000000004, subsample=1.0 will be ignored. Current value: bagging_fraction=0.30000000000000004\n",
      "[LightGBM] [Warning] feature_fraction is set=0.8, colsample_bytree=1.0 will be ignored. Current value: feature_fraction=0.8\n",
      "[LightGBM] [Warning] bagging_fraction is set=0.30000000000000004, subsample=1.0 will be ignored. Current value: bagging_fraction=0.30000000000000004\n",
      "[LightGBM] [Warning] feature_fraction is set=0.8, colsample_bytree=1.0 will be ignored. Current value: feature_fraction=0.8\n",
      "[LightGBM] [Warning] bagging_fraction is set=0.4, subsample=1.0 will be ignored. Current value: bagging_fraction=0.4\n",
      "[LightGBM] [Warning] feature_fraction is set=0.2, colsample_bytree=1.0 will be ignored. Current value: feature_fraction=0.2\n",
      "[LightGBM] [Warning] bagging_fraction is set=0.4, subsample=1.0 will be ignored. Current value: bagging_fraction=0.4\n",
      "[LightGBM] [Warning] feature_fraction is set=0.2, colsample_bytree=1.0 will be ignored. Current value: feature_fraction=0.2\n",
      "[LightGBM] [Warning] bagging_fraction is set=0.4, subsample=1.0 will be ignored. Current value: bagging_fraction=0.4\n",
      "[LightGBM] [Warning] feature_fraction is set=0.4, colsample_bytree=1.0 will be ignored. Current value: feature_fraction=0.4\n",
      "[LightGBM] [Warning] bagging_fraction is set=0.4, subsample=1.0 will be ignored. Current value: bagging_fraction=0.4\n",
      "[LightGBM] [Warning] feature_fraction is set=0.5, colsample_bytree=1.0 will be ignored. Current value: feature_fraction=0.5\n",
      "[LightGBM] [Warning] bagging_fraction is set=0.4, subsample=1.0 will be ignored. Current value: bagging_fraction=0.4\n",
      "[LightGBM] [Warning] feature_fraction is set=0.7000000000000001, colsample_bytree=1.0 will be ignored. Current value: feature_fraction=0.7000000000000001\n",
      "[LightGBM] [Warning] bagging_fraction is set=0.4, subsample=1.0 will be ignored. Current value: bagging_fraction=0.4\n",
      "[LightGBM] [Warning] feature_fraction is set=0.7000000000000001, colsample_bytree=1.0 will be ignored. Current value: feature_fraction=0.7000000000000001\n",
      "[LightGBM] [Warning] bagging_fraction is set=0.5, subsample=1.0 will be ignored. Current value: bagging_fraction=0.5\n",
      "[LightGBM] [Warning] feature_fraction is set=0.1, colsample_bytree=1.0 will be ignored. Current value: feature_fraction=0.1\n",
      "[LightGBM] [Warning] bagging_fraction is set=0.5, subsample=1.0 will be ignored. Current value: bagging_fraction=0.5\n",
      "[LightGBM] [Warning] feature_fraction is set=0.1, colsample_bytree=1.0 will be ignored. Current value: feature_fraction=0.1\n",
      "[LightGBM] [Warning] bagging_fraction is set=0.5, subsample=1.0 will be ignored. Current value: bagging_fraction=0.5\n",
      "[LightGBM] [Warning] feature_fraction is set=0.1, colsample_bytree=1.0 will be ignored. Current value: feature_fraction=0.1\n",
      "[LightGBM] [Warning] bagging_fraction is set=0.5, subsample=1.0 will be ignored. Current value: bagging_fraction=0.5\n",
      "[LightGBM] [Warning] feature_fraction is set=0.2, colsample_bytree=1.0 will be ignored. Current value: feature_fraction=0.2\n",
      "[LightGBM] [Warning] bagging_fraction is set=0.5, subsample=1.0 will be ignored. Current value: bagging_fraction=0.5\n",
      "[LightGBM] [Warning] feature_fraction is set=0.4, colsample_bytree=1.0 will be ignored. Current value: feature_fraction=0.4\n",
      "[LightGBM] [Warning] bagging_fraction is set=0.5, subsample=1.0 will be ignored. Current value: bagging_fraction=0.5\n",
      "[LightGBM] [Warning] feature_fraction is set=0.4, colsample_bytree=1.0 will be ignored. Current value: feature_fraction=0.4\n",
      "[LightGBM] [Warning] bagging_fraction is set=0.5, subsample=1.0 will be ignored. Current value: bagging_fraction=0.5\n",
      "[LightGBM] [Warning] feature_fraction is set=0.7000000000000001, colsample_bytree=1.0 will be ignored. Current value: feature_fraction=0.7000000000000001\n",
      "[LightGBM] [Warning] bagging_fraction is set=0.5, subsample=1.0 will be ignored. Current value: bagging_fraction=0.5\n",
      "[LightGBM] [Warning] feature_fraction is set=0.7000000000000001, colsample_bytree=1.0 will be ignored. Current value: feature_fraction=0.7000000000000001\n",
      "[LightGBM] [Warning] bagging_fraction is set=0.5, subsample=1.0 will be ignored. Current value: bagging_fraction=0.5\n",
      "[LightGBM] [Warning] feature_fraction is set=0.9, colsample_bytree=1.0 will be ignored. Current value: feature_fraction=0.9\n",
      "[LightGBM] [Warning] bagging_fraction is set=0.6, subsample=1.0 will be ignored. Current value: bagging_fraction=0.6\n",
      "[LightGBM] [Warning] feature_fraction is set=0.1, colsample_bytree=1.0 will be ignored. Current value: feature_fraction=0.1\n",
      "[LightGBM] [Warning] bagging_fraction is set=0.6, subsample=1.0 will be ignored. Current value: bagging_fraction=0.6\n",
      "[LightGBM] [Warning] feature_fraction is set=0.30000000000000004, colsample_bytree=1.0 will be ignored. Current value: feature_fraction=0.30000000000000004\n",
      "[LightGBM] [Warning] bagging_fraction is set=0.6, subsample=1.0 will be ignored. Current value: bagging_fraction=0.6\n",
      "[LightGBM] [Warning] feature_fraction is set=0.30000000000000004, colsample_bytree=1.0 will be ignored. Current value: feature_fraction=0.30000000000000004\n",
      "[LightGBM] [Warning] bagging_fraction is set=0.6, subsample=1.0 will be ignored. Current value: bagging_fraction=0.6\n",
      "[LightGBM] [Warning] feature_fraction is set=0.6, colsample_bytree=1.0 will be ignored. Current value: feature_fraction=0.6\n",
      "[LightGBM] [Warning] bagging_fraction is set=0.6, subsample=1.0 will be ignored. Current value: bagging_fraction=0.6\n",
      "[LightGBM] [Warning] feature_fraction is set=0.6, colsample_bytree=1.0 will be ignored. Current value: feature_fraction=0.6\n",
      "[LightGBM] [Warning] bagging_fraction is set=0.6, subsample=1.0 will be ignored. Current value: bagging_fraction=0.6\n",
      "[LightGBM] [Warning] feature_fraction is set=0.8, colsample_bytree=1.0 will be ignored. Current value: feature_fraction=0.8\n",
      "[LightGBM] [Warning] bagging_fraction is set=0.6, subsample=1.0 will be ignored. Current value: bagging_fraction=0.6\n",
      "[LightGBM] [Warning] feature_fraction is set=0.9, colsample_bytree=1.0 will be ignored. Current value: feature_fraction=0.9\n",
      "[LightGBM] [Warning] bagging_fraction is set=0.7000000000000001, subsample=1.0 will be ignored. Current value: bagging_fraction=0.7000000000000001\n",
      "[LightGBM] [Warning] feature_fraction is set=0.30000000000000004, colsample_bytree=1.0 will be ignored. Current value: feature_fraction=0.30000000000000004\n",
      "[LightGBM] [Warning] bagging_fraction is set=0.7000000000000001, subsample=1.0 will be ignored. Current value: bagging_fraction=0.7000000000000001\n",
      "[LightGBM] [Warning] feature_fraction is set=0.30000000000000004, colsample_bytree=1.0 will be ignored. Current value: feature_fraction=0.30000000000000004\n",
      "[LightGBM] [Warning] bagging_fraction is set=0.7000000000000001, subsample=1.0 will be ignored. Current value: bagging_fraction=0.7000000000000001\n",
      "[LightGBM] [Warning] feature_fraction is set=0.5, colsample_bytree=1.0 will be ignored. Current value: feature_fraction=0.5\n",
      "[LightGBM] [Warning] bagging_fraction is set=0.7000000000000001, subsample=1.0 will be ignored. Current value: bagging_fraction=0.7000000000000001\n",
      "[LightGBM] [Warning] feature_fraction is set=0.6, colsample_bytree=1.0 will be ignored. Current value: feature_fraction=0.6\n",
      "[LightGBM] [Warning] bagging_fraction is set=0.7000000000000001, subsample=1.0 will be ignored. Current value: bagging_fraction=0.7000000000000001\n",
      "[LightGBM] [Warning] bagging_fraction is set=0.4, subsample=1.0 will be ignored. Current value: bagging_fraction=0.4\n",
      "[LightGBM] [Warning] feature_fraction is set=0.1, colsample_bytree=1.0 will be ignored. Current value: feature_fraction=0.1\n",
      "[LightGBM] [Warning] bagging_fraction is set=0.4, subsample=1.0 will be ignored. Current value: bagging_fraction=0.4\n",
      "[LightGBM] [Warning] feature_fraction is set=0.2, colsample_bytree=1.0 will be ignored. Current value: feature_fraction=0.2\n",
      "[LightGBM] [Warning] bagging_fraction is set=0.4, subsample=1.0 will be ignored. Current value: bagging_fraction=0.4\n",
      "[LightGBM] [Warning] feature_fraction is set=0.30000000000000004, colsample_bytree=1.0 will be ignored. Current value: feature_fraction=0.30000000000000004\n",
      "[LightGBM] [Warning] bagging_fraction is set=0.4, subsample=1.0 will be ignored. Current value: bagging_fraction=0.4\n",
      "[LightGBM] [Warning] feature_fraction is set=0.5, colsample_bytree=1.0 will be ignored. Current value: feature_fraction=0.5\n",
      "[LightGBM] [Warning] bagging_fraction is set=0.4, subsample=1.0 will be ignored. Current value: bagging_fraction=0.4\n",
      "[LightGBM] [Warning] feature_fraction is set=0.5, colsample_bytree=1.0 will be ignored. Current value: feature_fraction=0.5\n",
      "[LightGBM] [Warning] bagging_fraction is set=0.4, subsample=1.0 will be ignored. Current value: bagging_fraction=0.4\n",
      "[LightGBM] [Warning] feature_fraction is set=0.8, colsample_bytree=1.0 will be ignored. Current value: feature_fraction=0.8\n",
      "[LightGBM] [Warning] bagging_fraction is set=0.4, subsample=1.0 will be ignored. Current value: bagging_fraction=0.4\n",
      "[LightGBM] [Warning] feature_fraction is set=0.8, colsample_bytree=1.0 will be ignored. Current value: feature_fraction=0.8\n",
      "[LightGBM] [Warning] bagging_fraction is set=0.5, subsample=1.0 will be ignored. Current value: bagging_fraction=0.5\n",
      "[LightGBM] [Warning] feature_fraction is set=0.2, colsample_bytree=1.0 will be ignored. Current value: feature_fraction=0.2\n",
      "[LightGBM] [Warning] bagging_fraction is set=0.5, subsample=1.0 will be ignored. Current value: bagging_fraction=0.5\n",
      "[LightGBM] [Warning] feature_fraction is set=0.2, colsample_bytree=1.0 will be ignored. Current value: feature_fraction=0.2\n",
      "[LightGBM] [Warning] bagging_fraction is set=0.5, subsample=1.0 will be ignored. Current value: bagging_fraction=0.5\n",
      "[LightGBM] [Warning] feature_fraction is set=0.5, colsample_bytree=1.0 will be ignored. Current value: feature_fraction=0.5\n",
      "[LightGBM] [Warning] bagging_fraction is set=0.5, subsample=1.0 will be ignored. Current value: bagging_fraction=0.5\n",
      "[LightGBM] [Warning] feature_fraction is set=0.5, colsample_bytree=1.0 will be ignored. Current value: feature_fraction=0.5\n",
      "[LightGBM] [Warning] bagging_fraction is set=0.5, subsample=1.0 will be ignored. Current value: bagging_fraction=0.5\n",
      "[LightGBM] [Warning] feature_fraction is set=0.7000000000000001, colsample_bytree=1.0 will be ignored. Current value: feature_fraction=0.7000000000000001\n",
      "[LightGBM] [Warning] bagging_fraction is set=0.5, subsample=1.0 will be ignored. Current value: bagging_fraction=0.5\n",
      "[LightGBM] [Warning] feature_fraction is set=0.8, colsample_bytree=1.0 will be ignored. Current value: feature_fraction=0.8\n",
      "[LightGBM] [Warning] bagging_fraction is set=0.6, subsample=1.0 will be ignored. Current value: bagging_fraction=0.6\n",
      "[LightGBM] [Warning] feature_fraction is set=0.1, colsample_bytree=1.0 will be ignored. Current value: feature_fraction=0.1\n",
      "[LightGBM] [Warning] bagging_fraction is set=0.6, subsample=1.0 will be ignored. Current value: bagging_fraction=0.6\n",
      "[LightGBM] [Warning] feature_fraction is set=0.1, colsample_bytree=1.0 will be ignored. Current value: feature_fraction=0.1\n",
      "[LightGBM] [Warning] bagging_fraction is set=0.6, subsample=1.0 will be ignored. Current value: bagging_fraction=0.6\n",
      "[LightGBM] [Warning] feature_fraction is set=0.2, colsample_bytree=1.0 will be ignored. Current value: feature_fraction=0.2\n",
      "[LightGBM] [Warning] bagging_fraction is set=0.6, subsample=1.0 will be ignored. Current value: bagging_fraction=0.6\n",
      "[LightGBM] [Warning] feature_fraction is set=0.30000000000000004, colsample_bytree=1.0 will be ignored. Current value: feature_fraction=0.30000000000000004\n",
      "[LightGBM] [Warning] bagging_fraction is set=0.6, subsample=1.0 will be ignored. Current value: bagging_fraction=0.6\n",
      "[LightGBM] [Warning] feature_fraction is set=0.5, colsample_bytree=1.0 will be ignored. Current value: feature_fraction=0.5\n",
      "[LightGBM] [Warning] bagging_fraction is set=0.6, subsample=1.0 will be ignored. Current value: bagging_fraction=0.6\n",
      "[LightGBM] [Warning] feature_fraction is set=0.5, colsample_bytree=1.0 will be ignored. Current value: feature_fraction=0.5\n",
      "[LightGBM] [Warning] bagging_fraction is set=0.6, subsample=1.0 will be ignored. Current value: bagging_fraction=0.6\n",
      "[LightGBM] [Warning] feature_fraction is set=0.8, colsample_bytree=1.0 will be ignored. Current value: feature_fraction=0.8\n",
      "[LightGBM] [Warning] bagging_fraction is set=0.6, subsample=1.0 will be ignored. Current value: bagging_fraction=0.6\n",
      "[LightGBM] [Warning] feature_fraction is set=0.8, colsample_bytree=1.0 will be ignored. Current value: feature_fraction=0.8\n",
      "[LightGBM] [Warning] bagging_fraction is set=0.7000000000000001, subsample=1.0 will be ignored. Current value: bagging_fraction=0.7000000000000001\n",
      "[LightGBM] [Warning] feature_fraction is set=0.2, colsample_bytree=1.0 will be ignored. Current value: feature_fraction=0.2\n",
      "[LightGBM] [Warning] bagging_fraction is set=0.7000000000000001, subsample=1.0 will be ignored. Current value: bagging_fraction=0.7000000000000001\n",
      "[LightGBM] [Warning] feature_fraction is set=0.2, colsample_bytree=1.0 will be ignored. Current value: feature_fraction=0.2\n",
      "[LightGBM] [Warning] bagging_fraction is set=0.7000000000000001, subsample=1.0 will be ignored. Current value: bagging_fraction=0.7000000000000001\n",
      "[LightGBM] [Warning] feature_fraction is set=0.4, colsample_bytree=1.0 will be ignored. Current value: feature_fraction=0.4\n",
      "[LightGBM] [Warning] bagging_fraction is set=0.7000000000000001, subsample=1.0 will be ignored. Current value: bagging_fraction=0.7000000000000001\n",
      "[LightGBM] [Warning] feature_fraction is set=0.4, colsample_bytree=1.0 will be ignored. Current value: feature_fraction=0.4\n",
      "[LightGBM] [Warning] bagging_fraction is set=0.7000000000000001, subsample=1.0 will be ignored. Current value: bagging_fraction=0.7000000000000001\n",
      "[LightGBM] [Warning] feature_fraction is set=0.7000000000000001, colsample_bytree=1.0 will be ignored. Current value: feature_fraction=0.7000000000000001\n",
      "[LightGBM] [Warning] bagging_fraction is set=0.7000000000000001, subsample=1.0 will be ignored. Current value: bagging_fraction=0.7000000000000001\n",
      "[LightGBM] [Warning] feature_fraction is set=0.7000000000000001, colsample_bytree=1.0 will be ignored. Current value: feature_fraction=0.7000000000000001\n",
      "[LightGBM] [Warning] bagging_fraction is set=0.7000000000000001, subsample=1.0 will be ignored. Current value: bagging_fraction=0.7000000000000001\n",
      "[LightGBM] [Warning] feature_fraction is set=0.9, colsample_bytree=1.0 will be ignored. Current value: feature_fraction=0.9\n",
      "[LightGBM] [Warning] bagging_fraction is set=0.8, subsample=1.0 will be ignored. Current value: bagging_fraction=0.8\n",
      "[LightGBM] [Warning] feature_fraction is set=0.1, colsample_bytree=1.0 will be ignored. Current value: feature_fraction=0.1\n",
      "[LightGBM] [Warning] bagging_fraction is set=0.8, subsample=1.0 will be ignored. Current value: bagging_fraction=0.8\n",
      "[LightGBM] [Warning] feature_fraction is set=0.30000000000000004, colsample_bytree=1.0 will be ignored. Current value: feature_fraction=0.30000000000000004\n",
      "[LightGBM] [Warning] bagging_fraction is set=0.8, subsample=1.0 will be ignored. Current value: bagging_fraction=0.8\n",
      "[LightGBM] [Warning] feature_fraction is set=0.30000000000000004, colsample_bytree=1.0 will be ignored. Current value: feature_fraction=0.30000000000000004\n",
      "[LightGBM] [Warning] bagging_fraction is set=0.8, subsample=1.0 will be ignored. Current value: bagging_fraction=0.8\n",
      "[LightGBM] [Warning] feature_fraction is set=0.6, colsample_bytree=1.0 will be ignored. Current value: feature_fraction=0.6\n"
     ]
    },
    {
     "data": {
      "text/html": [
       "<style>#sk-container-id-3 {color: black;background-color: white;}#sk-container-id-3 pre{padding: 0;}#sk-container-id-3 div.sk-toggleable {background-color: white;}#sk-container-id-3 label.sk-toggleable__label {cursor: pointer;display: block;width: 100%;margin-bottom: 0;padding: 0.3em;box-sizing: border-box;text-align: center;}#sk-container-id-3 label.sk-toggleable__label-arrow:before {content: \"▸\";float: left;margin-right: 0.25em;color: #696969;}#sk-container-id-3 label.sk-toggleable__label-arrow:hover:before {color: black;}#sk-container-id-3 div.sk-estimator:hover label.sk-toggleable__label-arrow:before {color: black;}#sk-container-id-3 div.sk-toggleable__content {max-height: 0;max-width: 0;overflow: hidden;text-align: left;background-color: #f0f8ff;}#sk-container-id-3 div.sk-toggleable__content pre {margin: 0.2em;color: black;border-radius: 0.25em;background-color: #f0f8ff;}#sk-container-id-3 input.sk-toggleable__control:checked~div.sk-toggleable__content {max-height: 200px;max-width: 100%;overflow: auto;}#sk-container-id-3 input.sk-toggleable__control:checked~label.sk-toggleable__label-arrow:before {content: \"▾\";}#sk-container-id-3 div.sk-estimator input.sk-toggleable__control:checked~label.sk-toggleable__label {background-color: #d4ebff;}#sk-container-id-3 div.sk-label input.sk-toggleable__control:checked~label.sk-toggleable__label {background-color: #d4ebff;}#sk-container-id-3 input.sk-hidden--visually {border: 0;clip: rect(1px 1px 1px 1px);clip: rect(1px, 1px, 1px, 1px);height: 1px;margin: -1px;overflow: hidden;padding: 0;position: absolute;width: 1px;}#sk-container-id-3 div.sk-estimator {font-family: monospace;background-color: #f0f8ff;border: 1px dotted black;border-radius: 0.25em;box-sizing: border-box;margin-bottom: 0.5em;}#sk-container-id-3 div.sk-estimator:hover {background-color: #d4ebff;}#sk-container-id-3 div.sk-parallel-item::after {content: \"\";width: 100%;border-bottom: 1px solid gray;flex-grow: 1;}#sk-container-id-3 div.sk-label:hover label.sk-toggleable__label {background-color: #d4ebff;}#sk-container-id-3 div.sk-serial::before {content: \"\";position: absolute;border-left: 1px solid gray;box-sizing: border-box;top: 0;bottom: 0;left: 50%;z-index: 0;}#sk-container-id-3 div.sk-serial {display: flex;flex-direction: column;align-items: center;background-color: white;padding-right: 0.2em;padding-left: 0.2em;position: relative;}#sk-container-id-3 div.sk-item {position: relative;z-index: 1;}#sk-container-id-3 div.sk-parallel {display: flex;align-items: stretch;justify-content: center;background-color: white;position: relative;}#sk-container-id-3 div.sk-item::before, #sk-container-id-3 div.sk-parallel-item::before {content: \"\";position: absolute;border-left: 1px solid gray;box-sizing: border-box;top: 0;bottom: 0;left: 50%;z-index: -1;}#sk-container-id-3 div.sk-parallel-item {display: flex;flex-direction: column;z-index: 1;position: relative;background-color: white;}#sk-container-id-3 div.sk-parallel-item:first-child::after {align-self: flex-end;width: 50%;}#sk-container-id-3 div.sk-parallel-item:last-child::after {align-self: flex-start;width: 50%;}#sk-container-id-3 div.sk-parallel-item:only-child::after {width: 0;}#sk-container-id-3 div.sk-dashed-wrapped {border: 1px dashed gray;margin: 0 0.4em 0.5em 0.4em;box-sizing: border-box;padding-bottom: 0.4em;background-color: white;}#sk-container-id-3 div.sk-label label {font-family: monospace;font-weight: bold;display: inline-block;line-height: 1.2em;}#sk-container-id-3 div.sk-label-container {text-align: center;}#sk-container-id-3 div.sk-container {/* jupyter's `normalize.less` sets `[hidden] { display: none; }` but bootstrap.min.css set `[hidden] { display: none !important; }` so we also need the `!important` here to be able to override the default hidden behavior on the sphinx rendered scikit-learn.org. See: https://github.com/scikit-learn/scikit-learn/issues/21755 */display: inline-block !important;position: relative;}#sk-container-id-3 div.sk-text-repr-fallback {display: none;}</style><div id=\"sk-container-id-3\" class=\"sk-top-container\"><div class=\"sk-text-repr-fallback\"><pre>GridSearchCV(cv=3,\n",
       "             estimator=LGBMRegressor(max_depth=4, num_leaves=6,\n",
       "                                     objective=&#x27;regression&#x27;, random_state=28),\n",
       "             n_jobs=-1,\n",
       "             param_grid={&#x27;bagging_fraction&#x27;: array([0.1, 0.2, 0.3, 0.4, 0.5, 0.6, 0.7, 0.8, 0.9]),\n",
       "                         &#x27;feature_fraction&#x27;: array([0.1, 0.2, 0.3, 0.4, 0.5, 0.6, 0.7, 0.8, 0.9])},\n",
       "             scoring=&#x27;r2&#x27;)</pre><b>In a Jupyter environment, please rerun this cell to show the HTML representation or trust the notebook. <br />On GitHub, the HTML representation is unable to render, please try loading this page with nbviewer.org.</b></div><div class=\"sk-container\" hidden><div class=\"sk-item sk-dashed-wrapped\"><div class=\"sk-label-container\"><div class=\"sk-label sk-toggleable\"><input class=\"sk-toggleable__control sk-hidden--visually\" id=\"sk-estimator-id-7\" type=\"checkbox\" ><label for=\"sk-estimator-id-7\" class=\"sk-toggleable__label sk-toggleable__label-arrow\">GridSearchCV</label><div class=\"sk-toggleable__content\"><pre>GridSearchCV(cv=3,\n",
       "             estimator=LGBMRegressor(max_depth=4, num_leaves=6,\n",
       "                                     objective=&#x27;regression&#x27;, random_state=28),\n",
       "             n_jobs=-1,\n",
       "             param_grid={&#x27;bagging_fraction&#x27;: array([0.1, 0.2, 0.3, 0.4, 0.5, 0.6, 0.7, 0.8, 0.9]),\n",
       "                         &#x27;feature_fraction&#x27;: array([0.1, 0.2, 0.3, 0.4, 0.5, 0.6, 0.7, 0.8, 0.9])},\n",
       "             scoring=&#x27;r2&#x27;)</pre></div></div></div><div class=\"sk-parallel\"><div class=\"sk-parallel-item\"><div class=\"sk-item\"><div class=\"sk-label-container\"><div class=\"sk-label sk-toggleable\"><input class=\"sk-toggleable__control sk-hidden--visually\" id=\"sk-estimator-id-8\" type=\"checkbox\" ><label for=\"sk-estimator-id-8\" class=\"sk-toggleable__label sk-toggleable__label-arrow\">estimator: LGBMRegressor</label><div class=\"sk-toggleable__content\"><pre>LGBMRegressor(max_depth=4, num_leaves=6, objective=&#x27;regression&#x27;,\n",
       "              random_state=28)</pre></div></div></div><div class=\"sk-serial\"><div class=\"sk-item\"><div class=\"sk-estimator sk-toggleable\"><input class=\"sk-toggleable__control sk-hidden--visually\" id=\"sk-estimator-id-9\" type=\"checkbox\" ><label for=\"sk-estimator-id-9\" class=\"sk-toggleable__label sk-toggleable__label-arrow\">LGBMRegressor</label><div class=\"sk-toggleable__content\"><pre>LGBMRegressor(max_depth=4, num_leaves=6, objective=&#x27;regression&#x27;,\n",
       "              random_state=28)</pre></div></div></div></div></div></div></div></div></div></div>"
      ],
      "text/plain": [
       "GridSearchCV(cv=3,\n",
       "             estimator=LGBMRegressor(max_depth=4, num_leaves=6,\n",
       "                                     objective='regression', random_state=28),\n",
       "             n_jobs=-1,\n",
       "             param_grid={'bagging_fraction': array([0.1, 0.2, 0.3, 0.4, 0.5, 0.6, 0.7, 0.8, 0.9]),\n",
       "                         'feature_fraction': array([0.1, 0.2, 0.3, 0.4, 0.5, 0.6, 0.7, 0.8, 0.9])},\n",
       "             scoring='r2')"
      ]
     },
     "execution_count": 94,
     "metadata": {},
     "output_type": "execute_result"
    }
   ],
   "source": [
    "model_lgb3 = lgb.LGBMRegressor(**params, n_estimators=100, \n",
    "                               max_depth=4, num_leaves=6,\n",
    "                               min_child_samples=20, min_child_weight=0.001,\n",
    "                               n_jobs=-1)\n",
    "search3 = GridSearchCV(model_lgb3, param3, scoring='r2',\n",
    "                       n_jobs=-1, cv=3)\n",
    "search3.fit(X_train, y_train)"
   ]
  },
  {
   "cell_type": "code",
   "execution_count": 96,
   "id": "5c36d271-ffb1-44b0-a647-fc2ee7c66698",
   "metadata": {},
   "outputs": [
    {
     "name": "stdout",
     "output_type": "stream",
     "text": [
      "best_params: {'bagging_fraction': 0.1, 'feature_fraction': 0.4}\n",
      "best_score: 0.6233993422200201\n"
     ]
    }
   ],
   "source": [
    "print('best_params:',search3.best_params_)\n",
    "print('best_score:', search3.best_score_)"
   ]
  },
  {
   "cell_type": "markdown",
   "id": "518c0f68-be50-4ccb-86ef-caad853f909f",
   "metadata": {},
   "source": [
    "Tune `learning rate`"
   ]
  },
  {
   "cell_type": "code",
   "execution_count": 139,
   "id": "a0eab9fc-4e2c-4db1-9584-bfbe29a29b2c",
   "metadata": {},
   "outputs": [],
   "source": [
    "params_best = {'learning_rate': 0.03,\n",
    "               'boosting_type': 'gbdt',\n",
    "               'objective': 'regression',\n",
    "               'random_state': 28,\n",
    "               'max_depth': 4,\n",
    "               'num_leaves':6,\n",
    "               'min_child_samples': 20,\n",
    "               'min_child_weight': 0.001,\n",
    "               'bagging_fraction': 0.1,\n",
    "               'feature_fraction': 0.4\n",
    "               }"
   ]
  },
  {
   "cell_type": "code",
   "execution_count": 140,
   "id": "c9465a19-bdce-423b-bbdb-3e987264f29c",
   "metadata": {},
   "outputs": [
    {
     "name": "stdout",
     "output_type": "stream",
     "text": [
      "[LightGBM] [Warning] Auto-choosing col-wise multi-threading, the overhead of testing was 0.002211 seconds.\n",
      "You can set `force_col_wise=true` to remove the overhead.\n",
      "[LightGBM] [Info] Total Bins 22700\n",
      "[LightGBM] [Info] Number of data points in the train set: 370, number of used features: 262\n",
      "[LightGBM] [Warning] Auto-choosing col-wise multi-threading, the overhead of testing was 0.001989 seconds.\n",
      "You can set `force_col_wise=true` to remove the overhead.\n",
      "[LightGBM] [Info] Total Bins 22700\n",
      "[LightGBM] [Info] Number of data points in the train set: 370, number of used features: 262\n",
      "[LightGBM] [Warning] Auto-choosing col-wise multi-threading, the overhead of testing was 0.001741 seconds.\n",
      "You can set `force_col_wise=true` to remove the overhead.\n",
      "[LightGBM] [Info] Total Bins 22700\n",
      "[LightGBM] [Info] Number of data points in the train set: 370, number of used features: 262\n",
      "[LightGBM] [Info] Start training from score 6623.621622\n",
      "[LightGBM] [Info] Start training from score 6639.891892\n",
      "[LightGBM] [Info] Start training from score 6629.675676\n"
     ]
    }
   ],
   "source": [
    "cv_results = lgb.cv(params_best, data_train, nfold=3,\n",
    "                    stratified=False, metrics='rmse',\n",
    "                   )"
   ]
  },
  {
   "cell_type": "code",
   "execution_count": 141,
   "id": "bbc5052e-d2a9-4eb4-99fb-f26cdcfeb81d",
   "metadata": {},
   "outputs": [
    {
     "name": "stdout",
     "output_type": "stream",
     "text": [
      "best n_estimators: 100\n",
      "best cv score: 465.3901342491037\n"
     ]
    }
   ],
   "source": [
    "print('best n_estimators:', len(cv_results['rmse-mean']))\n",
    "print('best cv score:', cv_results['rmse-mean'][-1])"
   ]
  },
  {
   "cell_type": "code",
   "execution_count": 142,
   "id": "5eba21eb-27ff-4ebc-9712-18c482eed026",
   "metadata": {},
   "outputs": [],
   "source": [
    "model_lgb_best = lgb.LGBMRegressor(**params_best,n_estimators=100,n_jobs=-1)"
   ]
  },
  {
   "cell_type": "markdown",
   "id": "9f5eecb4-3b8a-4413-8d3c-eb8f03571e46",
   "metadata": {
    "tags": []
   },
   "source": [
    "## Random Forest"
   ]
  },
  {
   "cell_type": "code",
   "execution_count": 15,
   "id": "15f6a55f-e328-4900-b3f4-f3684ddb8c87",
   "metadata": {},
   "outputs": [],
   "source": [
    "rf0 = RandomForestRegressor(n_jobs=-1, random_state=28)"
   ]
  },
  {
   "cell_type": "code",
   "execution_count": 34,
   "id": "2f7f6bde-322f-473c-97a7-625b76b9b620",
   "metadata": {},
   "outputs": [
    {
     "data": {
      "text/plain": [
       "0.638929873449547"
      ]
     },
     "execution_count": 34,
     "metadata": {},
     "output_type": "execute_result"
    }
   ],
   "source": [
    "cv_score0 = cross_val_score(rf0,\n",
    "                            X_train_4vi, y_train,\n",
    "                            scoring='r2',\n",
    "                            cv=3,\n",
    "                            n_jobs=-1).mean()\n",
    "cv_score0"
   ]
  },
  {
   "cell_type": "code",
   "execution_count": 14,
   "id": "4145e44d-3fbc-48c7-a31d-7ac91c71b5df",
   "metadata": {},
   "outputs": [
    {
     "data": {
      "text/plain": [
       "0.6437044599748681"
      ]
     },
     "execution_count": 14,
     "metadata": {},
     "output_type": "execute_result"
    }
   ],
   "source": [
    "rf0_8vi = RandomForestRegressor(n_jobs=-1, random_state=28)\n",
    "cv_score0_8vi = cross_val_score(rf0_8vi,\n",
    "                                X_train_8vi, y_train,\n",
    "                                scoring='r2',\n",
    "                                cv=3,\n",
    "                                n_jobs=-1).mean()\n",
    "cv_score0_8vi"
   ]
  },
  {
   "cell_type": "code",
   "execution_count": 23,
   "id": "52d3dcae-af90-4df5-804d-0e48a7ddb6c3",
   "metadata": {},
   "outputs": [
    {
     "data": {
      "text/plain": [
       "0.638551016464456"
      ]
     },
     "execution_count": 23,
     "metadata": {},
     "output_type": "execute_result"
    }
   ],
   "source": [
    "cv0_4vi_acf_pe = cross_val_score(rf0,\n",
    "                                 X_train_4vi_acf_pe, y_train,\n",
    "                                 scoring='r2',\n",
    "                                 cv=3, n_jobs=-1).mean()\n",
    "cv0_4vi_acf_pe"
   ]
  },
  {
   "cell_type": "markdown",
   "id": "ad3c0862-76f0-4a0d-a43b-179d0bcdbb96",
   "metadata": {
    "jp-MarkdownHeadingCollapsed": true,
    "tags": []
   },
   "source": [
    "### Delete the features whose importance are 0"
   ]
  },
  {
   "cell_type": "code",
   "execution_count": 17,
   "id": "2845819a-8694-4e34-b839-9190572f386a",
   "metadata": {},
   "outputs": [
    {
     "data": {
      "text/html": [
       "<style>#sk-container-id-1 {color: black;background-color: white;}#sk-container-id-1 pre{padding: 0;}#sk-container-id-1 div.sk-toggleable {background-color: white;}#sk-container-id-1 label.sk-toggleable__label {cursor: pointer;display: block;width: 100%;margin-bottom: 0;padding: 0.3em;box-sizing: border-box;text-align: center;}#sk-container-id-1 label.sk-toggleable__label-arrow:before {content: \"▸\";float: left;margin-right: 0.25em;color: #696969;}#sk-container-id-1 label.sk-toggleable__label-arrow:hover:before {color: black;}#sk-container-id-1 div.sk-estimator:hover label.sk-toggleable__label-arrow:before {color: black;}#sk-container-id-1 div.sk-toggleable__content {max-height: 0;max-width: 0;overflow: hidden;text-align: left;background-color: #f0f8ff;}#sk-container-id-1 div.sk-toggleable__content pre {margin: 0.2em;color: black;border-radius: 0.25em;background-color: #f0f8ff;}#sk-container-id-1 input.sk-toggleable__control:checked~div.sk-toggleable__content {max-height: 200px;max-width: 100%;overflow: auto;}#sk-container-id-1 input.sk-toggleable__control:checked~label.sk-toggleable__label-arrow:before {content: \"▾\";}#sk-container-id-1 div.sk-estimator input.sk-toggleable__control:checked~label.sk-toggleable__label {background-color: #d4ebff;}#sk-container-id-1 div.sk-label input.sk-toggleable__control:checked~label.sk-toggleable__label {background-color: #d4ebff;}#sk-container-id-1 input.sk-hidden--visually {border: 0;clip: rect(1px 1px 1px 1px);clip: rect(1px, 1px, 1px, 1px);height: 1px;margin: -1px;overflow: hidden;padding: 0;position: absolute;width: 1px;}#sk-container-id-1 div.sk-estimator {font-family: monospace;background-color: #f0f8ff;border: 1px dotted black;border-radius: 0.25em;box-sizing: border-box;margin-bottom: 0.5em;}#sk-container-id-1 div.sk-estimator:hover {background-color: #d4ebff;}#sk-container-id-1 div.sk-parallel-item::after {content: \"\";width: 100%;border-bottom: 1px solid gray;flex-grow: 1;}#sk-container-id-1 div.sk-label:hover label.sk-toggleable__label {background-color: #d4ebff;}#sk-container-id-1 div.sk-serial::before {content: \"\";position: absolute;border-left: 1px solid gray;box-sizing: border-box;top: 0;bottom: 0;left: 50%;z-index: 0;}#sk-container-id-1 div.sk-serial {display: flex;flex-direction: column;align-items: center;background-color: white;padding-right: 0.2em;padding-left: 0.2em;position: relative;}#sk-container-id-1 div.sk-item {position: relative;z-index: 1;}#sk-container-id-1 div.sk-parallel {display: flex;align-items: stretch;justify-content: center;background-color: white;position: relative;}#sk-container-id-1 div.sk-item::before, #sk-container-id-1 div.sk-parallel-item::before {content: \"\";position: absolute;border-left: 1px solid gray;box-sizing: border-box;top: 0;bottom: 0;left: 50%;z-index: -1;}#sk-container-id-1 div.sk-parallel-item {display: flex;flex-direction: column;z-index: 1;position: relative;background-color: white;}#sk-container-id-1 div.sk-parallel-item:first-child::after {align-self: flex-end;width: 50%;}#sk-container-id-1 div.sk-parallel-item:last-child::after {align-self: flex-start;width: 50%;}#sk-container-id-1 div.sk-parallel-item:only-child::after {width: 0;}#sk-container-id-1 div.sk-dashed-wrapped {border: 1px dashed gray;margin: 0 0.4em 0.5em 0.4em;box-sizing: border-box;padding-bottom: 0.4em;background-color: white;}#sk-container-id-1 div.sk-label label {font-family: monospace;font-weight: bold;display: inline-block;line-height: 1.2em;}#sk-container-id-1 div.sk-label-container {text-align: center;}#sk-container-id-1 div.sk-container {/* jupyter's `normalize.less` sets `[hidden] { display: none; }` but bootstrap.min.css set `[hidden] { display: none !important; }` so we also need the `!important` here to be able to override the default hidden behavior on the sphinx rendered scikit-learn.org. See: https://github.com/scikit-learn/scikit-learn/issues/21755 */display: inline-block !important;position: relative;}#sk-container-id-1 div.sk-text-repr-fallback {display: none;}</style><div id=\"sk-container-id-1\" class=\"sk-top-container\"><div class=\"sk-text-repr-fallback\"><pre>RandomForestRegressor(n_jobs=-1, random_state=28)</pre><b>In a Jupyter environment, please rerun this cell to show the HTML representation or trust the notebook. <br />On GitHub, the HTML representation is unable to render, please try loading this page with nbviewer.org.</b></div><div class=\"sk-container\" hidden><div class=\"sk-item\"><div class=\"sk-estimator sk-toggleable\"><input class=\"sk-toggleable__control sk-hidden--visually\" id=\"sk-estimator-id-1\" type=\"checkbox\" checked><label for=\"sk-estimator-id-1\" class=\"sk-toggleable__label sk-toggleable__label-arrow\">RandomForestRegressor</label><div class=\"sk-toggleable__content\"><pre>RandomForestRegressor(n_jobs=-1, random_state=28)</pre></div></div></div></div></div>"
      ],
      "text/plain": [
       "RandomForestRegressor(n_jobs=-1, random_state=28)"
      ]
     },
     "execution_count": 17,
     "metadata": {},
     "output_type": "execute_result"
    }
   ],
   "source": [
    "rf0.fit(X_train_4vi, y_train)"
   ]
  },
  {
   "cell_type": "code",
   "execution_count": 18,
   "id": "9daea3c1-66b1-4058-af6b-16c9ee0234b7",
   "metadata": {},
   "outputs": [
    {
     "name": "stdout",
     "output_type": "stream",
     "text": [
      "7\n"
     ]
    }
   ],
   "source": [
    "importances = rf0.feature_importances_\n",
    "## Convert the indices of features with importance of 0 into a list\n",
    "indices = sum(np.argwhere(importances==0).tolist(),[])\n",
    "print(len(indices))"
   ]
  },
  {
   "cell_type": "code",
   "execution_count": 28,
   "id": "3b5722eb-bb4c-4a88-bfb6-597494641cc2",
   "metadata": {},
   "outputs": [
    {
     "data": {
      "text/plain": [
       "(557, 343)"
      ]
     },
     "execution_count": 28,
     "metadata": {},
     "output_type": "execute_result"
    }
   ],
   "source": [
    "X_train_n8_filtered = np.delete(X_train_n8, indices, axis=1)\n",
    "X_train_n8_filtered.shape"
   ]
  },
  {
   "cell_type": "code",
   "execution_count": 29,
   "id": "b65e3717-4b65-47f6-bdd9-01185972e0ff",
   "metadata": {},
   "outputs": [
    {
     "data": {
      "text/plain": [
       "0.6379239668359673"
      ]
     },
     "execution_count": 29,
     "metadata": {},
     "output_type": "execute_result"
    }
   ],
   "source": [
    "rf0_8vi_filtered = RandomForestRegressor(n_jobs=-1, random_state=28)\n",
    "cv_score0_8vi_filtered = cross_val_score(rf0_8vi_filtered,\n",
    "                                         X_train_n8_filtered, y_train,\n",
    "                                         scoring='r2',\n",
    "                                         cv=3,\n",
    "                                         n_jobs=-1).mean()\n",
    "cv_score0_8vi_filtered"
   ]
  },
  {
   "cell_type": "markdown",
   "id": "bba03d29-e9ed-4a27-8370-1a74e9b81252",
   "metadata": {
    "jp-MarkdownHeadingCollapsed": true,
    "tags": []
   },
   "source": [
    "### Try ExtraTreesRegressor"
   ]
  },
  {
   "cell_type": "code",
   "execution_count": 30,
   "id": "fa72ed69-fe2f-4470-abb2-41601ed53ccb",
   "metadata": {},
   "outputs": [],
   "source": [
    "from sklearn.ensemble import ExtraTreesRegressor"
   ]
  },
  {
   "cell_type": "code",
   "execution_count": 31,
   "id": "deab80a7-8a99-468e-a63b-61a9c38e7ef9",
   "metadata": {},
   "outputs": [
    {
     "data": {
      "text/plain": [
       "0.6226819464185686"
      ]
     },
     "execution_count": 31,
     "metadata": {},
     "output_type": "execute_result"
    }
   ],
   "source": [
    "et0 = ExtraTreesRegressor(n_jobs=-1, random_state=28)\n",
    "cv_score_et0 = cross_val_score(et0,\n",
    "                               X_train_n8, y_train,\n",
    "                               scoring='r2',\n",
    "                               cv=3,\n",
    "                               n_jobs=-1).mean()\n",
    "cv_score_et0"
   ]
  },
  {
   "cell_type": "markdown",
   "id": "1f2f862c-32e4-40d9-8795-b850bdc6435d",
   "metadata": {},
   "source": [
    "### Tune the hyperparameters"
   ]
  },
  {
   "cell_type": "markdown",
   "id": "536c7593-e9d0-4a8d-be92-b4178583fe7a",
   "metadata": {
    "tags": []
   },
   "source": [
    "#### 4 VIs"
   ]
  },
  {
   "cell_type": "code",
   "execution_count": 35,
   "id": "1f8ffd79-8c84-4520-bbdc-c57a1d3a3e9d",
   "metadata": {},
   "outputs": [
    {
     "name": "stdout",
     "output_type": "stream",
     "text": [
      "0.641703673630726 200\n"
     ]
    }
   ],
   "source": [
    "cv_score_list = []\n",
    "for i in range(50,250,10):\n",
    "    rf = RandomForestRegressor(n_estimators=i,\n",
    "                               n_jobs=-1, random_state=28)\n",
    "    cv_score = cross_val_score(rf, X_train_4vi, y_train,\n",
    "                               scoring='r2',\n",
    "                               cv=3,\n",
    "                               n_jobs=-1).mean()\n",
    "    cv_score_list.append(cv_score)\n",
    "print(max(cv_score_list),([*range(50,250,10)][cv_score_list.index(max(cv_score_list))]))"
   ]
  },
  {
   "cell_type": "code",
   "execution_count": 36,
   "id": "6cfcbbbb-9b38-4e02-aaa9-cbbcca114893",
   "metadata": {},
   "outputs": [
    {
     "data": {
      "image/png": "[encoded data removed]",
      "text/plain": [
       "<Figure size 2000x500 with 1 Axes>"
      ]
     },
     "metadata": {},
     "output_type": "display_data"
    }
   ],
   "source": [
    "plt.figure(figsize=[20,5])\n",
    "plt.plot(range(50,250,10),cv_score_list)\n",
    "plt.show()"
   ]
  },
  {
   "cell_type": "code",
   "execution_count": 37,
   "id": "a6e2571b-1e8a-45c5-a5ee-2000f1569431",
   "metadata": {},
   "outputs": [
    {
     "name": "stdout",
     "output_type": "stream",
     "text": [
      "0.6419265010143422 205\n"
     ]
    }
   ],
   "source": [
    "cv_score_list = []\n",
    "for i in range(191,210):\n",
    "    rf = RandomForestRegressor(n_estimators=i,\n",
    "                               n_jobs=-1, random_state=28)\n",
    "    cv_score = cross_val_score(rf, X_train_4vi, y_train,\n",
    "                               scoring='r2',\n",
    "                               cv=3,\n",
    "                               n_jobs=-1).mean()\n",
    "    cv_score_list.append(cv_score)\n",
    "print(max(cv_score_list),([*range(191,210)][cv_score_list.index(max(cv_score_list))]))"
   ]
  },
  {
   "cell_type": "code",
   "execution_count": 38,
   "id": "24b91669-f19e-43be-b24b-fdb57c142f81",
   "metadata": {},
   "outputs": [
    {
     "name": "stdout",
     "output_type": "stream",
     "text": [
      "0.6514297725058905 1\n"
     ]
    }
   ],
   "source": [
    "# max_depth\n",
    "cv_score_list=[]\n",
    "for i in range(1,11):\n",
    "    rf = RandomForestRegressor(n_estimators=205,\n",
    "                               max_depth=i,\n",
    "                               n_jobs=-1, random_state=28)\n",
    "    cv_score = cross_val_score(rf, X_train_4vi, y_train,\n",
    "                               scoring='r2',\n",
    "                               cv=3,\n",
    "                               n_jobs=-1).mean()\n",
    "    cv_score_list.append(cv_score)\n",
    "print(max(cv_score_list),([*range(1,11)][cv_score_list.index(max(cv_score_list))]))"
   ]
  },
  {
   "cell_type": "code",
   "execution_count": 39,
   "id": "495715bf-e24a-4815-a154-a07596ffd8ae",
   "metadata": {},
   "outputs": [
    {
     "name": "stdout",
     "output_type": "stream",
     "text": [
      "0.6607645787415257 6\n"
     ]
    }
   ],
   "source": [
    "# max_features\n",
    "cv_score_list=[]\n",
    "for i in range(1,11):\n",
    "    rf = RandomForestRegressor(n_estimators=205,\n",
    "                               max_depth=1,\n",
    "                               max_features=i,\n",
    "                               n_jobs=-1, random_state=28)\n",
    "    cv_score = cross_val_score(rf, X_train_4vi, y_train,\n",
    "                               scoring='r2',\n",
    "                               cv=3,\n",
    "                               n_jobs=-1).mean()\n",
    "    cv_score_list.append(cv_score)\n",
    "print(max(cv_score_list),([*range(1,11)][cv_score_list.index(max(cv_score_list))]))"
   ]
  },
  {
   "cell_type": "code",
   "execution_count": 40,
   "id": "7096a39b-2ee6-4965-a174-1012a28a093a",
   "metadata": {},
   "outputs": [
    {
     "name": "stdout",
     "output_type": "stream",
     "text": [
      "0.6607645787415259 6\n"
     ]
    }
   ],
   "source": [
    "# min_samples_split\n",
    "cv_score_list=[]\n",
    "for i in range(2,12):\n",
    "    rf = RandomForestRegressor(n_estimators=205,\n",
    "                               max_depth=1,\n",
    "                               max_features=6,\n",
    "                               min_samples_split=i,\n",
    "                               n_jobs=-1, random_state=28)\n",
    "    cv_score = cross_val_score(rf, X_train_4vi, y_train,\n",
    "                               scoring='r2',\n",
    "                               cv=3,\n",
    "                               n_jobs=-1).mean()\n",
    "    cv_score_list.append(cv_score)\n",
    "print(max(cv_score_list),([*range(2,12)][cv_score_list.index(max(cv_score_list))]))"
   ]
  },
  {
   "cell_type": "code",
   "execution_count": 41,
   "id": "090a7dff-2d27-460e-950c-7a7c037da309",
   "metadata": {},
   "outputs": [
    {
     "name": "stdout",
     "output_type": "stream",
     "text": [
      "0.660764578741526 5\n"
     ]
    }
   ],
   "source": [
    "# min_samples_leaf\n",
    "cv_score_list=[]\n",
    "for i in range(1,11):\n",
    "    rf = RandomForestRegressor(n_estimators=205,\n",
    "                               max_depth=1,\n",
    "                               max_features=6,\n",
    "                               min_samples_split=6,\n",
    "                               min_samples_leaf=i,\n",
    "                               n_jobs=-1, random_state=28)\n",
    "    cv_score = cross_val_score(rf, X_train_4vi, y_train,\n",
    "                               scoring='r2',\n",
    "                               cv=3,\n",
    "                               n_jobs=-1).mean()\n",
    "    cv_score_list.append(cv_score)\n",
    "print(max(cv_score_list),([*range(1,11)][cv_score_list.index(max(cv_score_list))]))"
   ]
  },
  {
   "cell_type": "code",
   "execution_count": 44,
   "id": "39f94ebe-10ad-43a4-8f64-41861e29e09f",
   "metadata": {},
   "outputs": [],
   "source": [
    "params = {'max_depth':range(1,3),\n",
    "          'max_features':range(5,8),\n",
    "          'min_samples_split':range(6,11),\n",
    "          'min_samples_leaf':range(1,6)}"
   ]
  },
  {
   "cell_type": "code",
   "execution_count": null,
   "id": "0d77c7a5-fd1a-4ec1-ac11-b3425c5668ec",
   "metadata": {},
   "outputs": [
    {
     "name": "stdout",
     "output_type": "stream",
     "text": [
      "best_params: {'max_depth': 1, 'max_features': 6, 'min_samples_leaf': 1, 'min_samples_split': 10}\n",
      "best_score: 0.660764578741526\n"
     ]
    }
   ],
   "source": [
    "rf = RandomForestRegressor(n_jobs=-1, random_state=28,\n",
    "                            n_estimators=205)\n",
    "rfsearch = GridSearchCV(rf, params,\n",
    "                         scoring='r2',\n",
    "                         cv=3, n_jobs=-1\n",
    "                         )\n",
    "rfsearch.fit(X_train_4vi, y_train)\n",
    "print('best_params:',rfsearch.best_params_)\n",
    "print('best_score:', rfsearch.best_score_)"
   ]
  },
  {
   "cell_type": "code",
   "execution_count": 48,
   "id": "a2b6d85b-6b94-450e-81d6-b223312d3aa9",
   "metadata": {},
   "outputs": [],
   "source": [
    "params2 = {'min_samples_split':range(2,12),\n",
    "           'min_samples_leaf':range(1,6)}"
   ]
  },
  {
   "cell_type": "code",
   "execution_count": 49,
   "id": "6e4ba4c2-c75b-4560-9231-0afb7ca2985f",
   "metadata": {},
   "outputs": [
    {
     "name": "stdout",
     "output_type": "stream",
     "text": [
      "best_params: {'min_samples_leaf': 1, 'min_samples_split': 7}\n",
      "best_score: 0.660764578741526\n"
     ]
    }
   ],
   "source": [
    "rf = RandomForestRegressor(n_jobs=-1, random_state=28,\n",
    "                            n_estimators=205,\n",
    "                            max_depth=1,\n",
    "                            max_features=6)\n",
    "rfsearch = GridSearchCV(rf, params2,\n",
    "                         scoring='r2',\n",
    "                         cv=3, n_jobs=-1\n",
    "                         )\n",
    "rfsearch.fit(X_train_4vi, y_train)\n",
    "print('best_params:',rfsearch.best_params_)\n",
    "print('best_score:', rfsearch.best_score_)"
   ]
  },
  {
   "cell_type": "code",
   "execution_count": 50,
   "id": "b28e505b-af1d-4dc9-9145-64705a3fd146",
   "metadata": {},
   "outputs": [
    {
     "name": "stdout",
     "output_type": "stream",
     "text": [
      "0.6621739093190373 128\n"
     ]
    }
   ],
   "source": [
    "cv_score_list=[]\n",
    "for i in range(200):\n",
    "    rf = RandomForestRegressor(n_estimators=205,\n",
    "                               max_depth=1,\n",
    "                               max_features=6,\n",
    "                               min_samples_split=7,\n",
    "                               min_samples_leaf=1,\n",
    "                               n_jobs=-1,\n",
    "                               random_state=i)\n",
    "    cv_score = cross_val_score(rf, X_train_4vi, y_train,\n",
    "                               scoring='r2',\n",
    "                               cv=3,\n",
    "                               n_jobs=-1).mean()\n",
    "    cv_score_list.append(cv_score)\n",
    "print(max(cv_score_list),([*range(200)][cv_score_list.index(max(cv_score_list))]))"
   ]
  },
  {
   "cell_type": "code",
   "execution_count": 51,
   "id": "0dca059a-1f61-4675-b1a4-43c3ebee1bf0",
   "metadata": {},
   "outputs": [
    {
     "data": {
      "text/html": [
       "<style>#sk-container-id-2 {color: black;background-color: white;}#sk-container-id-2 pre{padding: 0;}#sk-container-id-2 div.sk-toggleable {background-color: white;}#sk-container-id-2 label.sk-toggleable__label {cursor: pointer;display: block;width: 100%;margin-bottom: 0;padding: 0.3em;box-sizing: border-box;text-align: center;}#sk-container-id-2 label.sk-toggleable__label-arrow:before {content: \"▸\";float: left;margin-right: 0.25em;color: #696969;}#sk-container-id-2 label.sk-toggleable__label-arrow:hover:before {color: black;}#sk-container-id-2 div.sk-estimator:hover label.sk-toggleable__label-arrow:before {color: black;}#sk-container-id-2 div.sk-toggleable__content {max-height: 0;max-width: 0;overflow: hidden;text-align: left;background-color: #f0f8ff;}#sk-container-id-2 div.sk-toggleable__content pre {margin: 0.2em;color: black;border-radius: 0.25em;background-color: #f0f8ff;}#sk-container-id-2 input.sk-toggleable__control:checked~div.sk-toggleable__content {max-height: 200px;max-width: 100%;overflow: auto;}#sk-container-id-2 input.sk-toggleable__control:checked~label.sk-toggleable__label-arrow:before {content: \"▾\";}#sk-container-id-2 div.sk-estimator input.sk-toggleable__control:checked~label.sk-toggleable__label {background-color: #d4ebff;}#sk-container-id-2 div.sk-label input.sk-toggleable__control:checked~label.sk-toggleable__label {background-color: #d4ebff;}#sk-container-id-2 input.sk-hidden--visually {border: 0;clip: rect(1px 1px 1px 1px);clip: rect(1px, 1px, 1px, 1px);height: 1px;margin: -1px;overflow: hidden;padding: 0;position: absolute;width: 1px;}#sk-container-id-2 div.sk-estimator {font-family: monospace;background-color: #f0f8ff;border: 1px dotted black;border-radius: 0.25em;box-sizing: border-box;margin-bottom: 0.5em;}#sk-container-id-2 div.sk-estimator:hover {background-color: #d4ebff;}#sk-container-id-2 div.sk-parallel-item::after {content: \"\";width: 100%;border-bottom: 1px solid gray;flex-grow: 1;}#sk-container-id-2 div.sk-label:hover label.sk-toggleable__label {background-color: #d4ebff;}#sk-container-id-2 div.sk-serial::before {content: \"\";position: absolute;border-left: 1px solid gray;box-sizing: border-box;top: 0;bottom: 0;left: 50%;z-index: 0;}#sk-container-id-2 div.sk-serial {display: flex;flex-direction: column;align-items: center;background-color: white;padding-right: 0.2em;padding-left: 0.2em;position: relative;}#sk-container-id-2 div.sk-item {position: relative;z-index: 1;}#sk-container-id-2 div.sk-parallel {display: flex;align-items: stretch;justify-content: center;background-color: white;position: relative;}#sk-container-id-2 div.sk-item::before, #sk-container-id-2 div.sk-parallel-item::before {content: \"\";position: absolute;border-left: 1px solid gray;box-sizing: border-box;top: 0;bottom: 0;left: 50%;z-index: -1;}#sk-container-id-2 div.sk-parallel-item {display: flex;flex-direction: column;z-index: 1;position: relative;background-color: white;}#sk-container-id-2 div.sk-parallel-item:first-child::after {align-self: flex-end;width: 50%;}#sk-container-id-2 div.sk-parallel-item:last-child::after {align-self: flex-start;width: 50%;}#sk-container-id-2 div.sk-parallel-item:only-child::after {width: 0;}#sk-container-id-2 div.sk-dashed-wrapped {border: 1px dashed gray;margin: 0 0.4em 0.5em 0.4em;box-sizing: border-box;padding-bottom: 0.4em;background-color: white;}#sk-container-id-2 div.sk-label label {font-family: monospace;font-weight: bold;display: inline-block;line-height: 1.2em;}#sk-container-id-2 div.sk-label-container {text-align: center;}#sk-container-id-2 div.sk-container {/* jupyter's `normalize.less` sets `[hidden] { display: none; }` but bootstrap.min.css set `[hidden] { display: none !important; }` so we also need the `!important` here to be able to override the default hidden behavior on the sphinx rendered scikit-learn.org. See: https://github.com/scikit-learn/scikit-learn/issues/21755 */display: inline-block !important;position: relative;}#sk-container-id-2 div.sk-text-repr-fallback {display: none;}</style><div id=\"sk-container-id-2\" class=\"sk-top-container\"><div class=\"sk-text-repr-fallback\"><pre>RandomForestRegressor(max_depth=1, max_features=6, min_samples_split=7,\n",
       "                      n_estimators=205, n_jobs=-1, random_state=128)</pre><b>In a Jupyter environment, please rerun this cell to show the HTML representation or trust the notebook. <br />On GitHub, the HTML representation is unable to render, please try loading this page with nbviewer.org.</b></div><div class=\"sk-container\" hidden><div class=\"sk-item\"><div class=\"sk-estimator sk-toggleable\"><input class=\"sk-toggleable__control sk-hidden--visually\" id=\"sk-estimator-id-2\" type=\"checkbox\" checked><label for=\"sk-estimator-id-2\" class=\"sk-toggleable__label sk-toggleable__label-arrow\">RandomForestRegressor</label><div class=\"sk-toggleable__content\"><pre>RandomForestRegressor(max_depth=1, max_features=6, min_samples_split=7,\n",
       "                      n_estimators=205, n_jobs=-1, random_state=128)</pre></div></div></div></div></div>"
      ],
      "text/plain": [
       "RandomForestRegressor(max_depth=1, max_features=6, min_samples_split=7,\n",
       "                      n_estimators=205, n_jobs=-1, random_state=128)"
      ]
     },
     "execution_count": 51,
     "metadata": {},
     "output_type": "execute_result"
    }
   ],
   "source": [
    "rf_best = RandomForestRegressor(n_estimators=205,\n",
    "                                max_depth=1,\n",
    "                                max_features=6,\n",
    "                                min_samples_leaf=1,\n",
    "                                min_samples_split=7,\n",
    "                                n_jobs=-1,\n",
    "                                random_state=128)\n",
    "rf_best.fit(X_train_4vi, y_train)"
   ]
  },
  {
   "cell_type": "markdown",
   "id": "572e19ae-1c55-49fb-9fb5-2f16ecc2d187",
   "metadata": {
    "jp-MarkdownHeadingCollapsed": true,
    "tags": []
   },
   "source": [
    "#### 8 VIs"
   ]
  },
  {
   "cell_type": "code",
   "execution_count": 31,
   "id": "5780f3f7-e89f-4c3c-ba66-1cc3ff1696a7",
   "metadata": {},
   "outputs": [
    {
     "name": "stdout",
     "output_type": "stream",
     "text": [
      "0.6442689495749536 130\n"
     ]
    }
   ],
   "source": [
    "cv_score_list = []\n",
    "for i in range(50,250,10):\n",
    "    rf = RandomForestRegressor(n_estimators=i,\n",
    "                               n_jobs=-1, random_state=28)\n",
    "    cv_score = cross_val_score(rf, X_train_8vi, y_train,\n",
    "                               scoring='r2',\n",
    "                               cv=3,\n",
    "                               n_jobs=-1).mean()\n",
    "    cv_score_list.append(cv_score)\n",
    "print(max(cv_score_list),([*range(50,250,10)][cv_score_list.index(max(cv_score_list))]))"
   ]
  },
  {
   "cell_type": "code",
   "execution_count": 32,
   "id": "bb77fe65-14d7-4ee9-9ebc-0bfe11f936d8",
   "metadata": {},
   "outputs": [
    {
     "data": {
      "image/png": "[encoded data removed]",
      "text/plain": [
       "<Figure size 2000x500 with 1 Axes>"
      ]
     },
     "metadata": {},
     "output_type": "display_data"
    }
   ],
   "source": [
    "plt.figure(figsize=[20,5])\n",
    "plt.plot(range(50,250,10),cv_score_list)\n",
    "plt.show()"
   ]
  },
  {
   "cell_type": "code",
   "execution_count": 33,
   "id": "bacc953a-8bf3-4c7c-8e3e-51a23db2cee6",
   "metadata": {},
   "outputs": [
    {
     "name": "stdout",
     "output_type": "stream",
     "text": [
      "0.6445727360906403 135\n"
     ]
    }
   ],
   "source": [
    "cv_score_list=[]\n",
    "for i in range(121,140):\n",
    "    rf = RandomForestRegressor(n_estimators=i,\n",
    "                               n_jobs=-1, random_state=28)\n",
    "    cv_score = cross_val_score(rf, X_train_8vi, y_train,\n",
    "                               scoring='r2',\n",
    "                               cv=3,\n",
    "                               n_jobs=-1).mean()\n",
    "    cv_score_list.append(cv_score)\n",
    "print(max(cv_score_list),([*range(121,140)][cv_score_list.index(max(cv_score_list))]))"
   ]
  },
  {
   "cell_type": "code",
   "execution_count": 26,
   "id": "087705f6-af27-4460-846d-e2a66faef25d",
   "metadata": {},
   "outputs": [
    {
     "name": "stdout",
     "output_type": "stream",
     "text": [
      "0.6513266557247689 1\n"
     ]
    }
   ],
   "source": [
    "# max_depth\n",
    "cv_score_list=[]\n",
    "for i in range(1,11):\n",
    "    rf = RandomForestRegressor(n_estimators=135,\n",
    "                               max_depth=i,\n",
    "                               n_jobs=-1, random_state=28)\n",
    "    cv_score = cross_val_score(rf, X_train_8vi, y_train,\n",
    "                               scoring='r2',\n",
    "                               cv=3,\n",
    "                               n_jobs=-1).mean()\n",
    "    cv_score_list.append(cv_score)\n",
    "print(max(cv_score_list),([*range(1,11)][cv_score_list.index(max(cv_score_list))]))"
   ]
  },
  {
   "cell_type": "code",
   "execution_count": 28,
   "id": "8f5d8c6c-f713-42a2-90ce-a78c7fa95011",
   "metadata": {},
   "outputs": [
    {
     "name": "stdout",
     "output_type": "stream",
     "text": [
      "0.6591879276994047 8\n"
     ]
    }
   ],
   "source": [
    "# max_features\n",
    "cv_score_list=[]\n",
    "for i in range(1,11):\n",
    "    rf = RandomForestRegressor(n_estimators=135,\n",
    "                               max_depth=1,\n",
    "                               max_features=i,\n",
    "                               n_jobs=-1, random_state=28)\n",
    "    cv_score = cross_val_score(rf, X_train_8vi, y_train,\n",
    "                               scoring='r2',\n",
    "                               cv=3,\n",
    "                               n_jobs=-1).mean()\n",
    "    cv_score_list.append(cv_score)\n",
    "print(max(cv_score_list),([*range(1,11)][cv_score_list.index(max(cv_score_list))]))"
   ]
  },
  {
   "cell_type": "code",
   "execution_count": 29,
   "id": "0d9fdb77-d2b5-4391-85ad-9e67f5799495",
   "metadata": {},
   "outputs": [
    {
     "name": "stdout",
     "output_type": "stream",
     "text": [
      "0.6591879276994049 4\n"
     ]
    }
   ],
   "source": [
    "# min_samples_split\n",
    "cv_score_list=[]\n",
    "for i in range(2,12):\n",
    "    rf = RandomForestRegressor(n_estimators=135,\n",
    "                               max_depth=1,\n",
    "                               max_features=8,\n",
    "                               min_samples_split=i,\n",
    "                               n_jobs=-1, random_state=28)\n",
    "    cv_score = cross_val_score(rf, X_train_8vi, y_train,\n",
    "                               scoring='r2',\n",
    "                               cv=3,\n",
    "                               n_jobs=-1).mean()\n",
    "    cv_score_list.append(cv_score)\n",
    "print(max(cv_score_list),([*range(2,12)][cv_score_list.index(max(cv_score_list))]))"
   ]
  },
  {
   "cell_type": "code",
   "execution_count": 30,
   "id": "3fdbc9ac-90a7-40f6-b4b6-10b5fa467b3b",
   "metadata": {},
   "outputs": [
    {
     "name": "stdout",
     "output_type": "stream",
     "text": [
      "0.659187927699405 6\n"
     ]
    }
   ],
   "source": [
    "# min_samples_leaf\n",
    "cv_score_list=[]\n",
    "for i in range(1,11):\n",
    "    rf = RandomForestRegressor(n_estimators=135,\n",
    "                               max_depth=1,\n",
    "                               max_features=8,\n",
    "                               min_samples_split=4,\n",
    "                               min_samples_leaf=i,\n",
    "                               n_jobs=-1, random_state=28)\n",
    "    cv_score = cross_val_score(rf, X_train_8vi, y_train,\n",
    "                               scoring='r2',\n",
    "                               cv=3,\n",
    "                               n_jobs=-1).mean()\n",
    "    cv_score_list.append(cv_score)\n",
    "print(max(cv_score_list),([*range(1,11)][cv_score_list.index(max(cv_score_list))]))"
   ]
  },
  {
   "cell_type": "markdown",
   "id": "23cff637-9b7e-40da-b246-b1a06632902e",
   "metadata": {
    "jp-MarkdownHeadingCollapsed": true,
    "tags": []
   },
   "source": [
    "#### 4 VIs + ACF + Permutation Entropy"
   ]
  },
  {
   "cell_type": "code",
   "execution_count": 25,
   "id": "544c947f-58af-41ba-8392-8d2f82dddd0f",
   "metadata": {},
   "outputs": [
    {
     "name": "stdout",
     "output_type": "stream",
     "text": [
      "0.6420040514218558 160\n"
     ]
    }
   ],
   "source": [
    "cv_score_list = []\n",
    "for i in range(50,250,10):\n",
    "    rf = RandomForestRegressor(n_estimators=i,\n",
    "                               n_jobs=-1, random_state=28)\n",
    "    cv_score = cross_val_score(rf, X_train_4vi_acf_pe, y_train,\n",
    "                               scoring='r2',\n",
    "                               cv=3,\n",
    "                               n_jobs=-1).mean()\n",
    "    cv_score_list.append(cv_score)\n",
    "print(max(cv_score_list),([*range(50,250,10)][cv_score_list.index(max(cv_score_list))]))"
   ]
  },
  {
   "cell_type": "code",
   "execution_count": 26,
   "id": "7aadb820-9802-4920-b612-5e8e8b724e78",
   "metadata": {},
   "outputs": [
    {
     "data": {
      "image/png": "[encoded data removed]",
      "text/plain": [
       "<Figure size 2000x500 with 1 Axes>"
      ]
     },
     "metadata": {},
     "output_type": "display_data"
    }
   ],
   "source": [
    "plt.figure(figsize=[20,5])\n",
    "plt.plot(range(50,250,10),cv_score_list)\n",
    "plt.show()"
   ]
  },
  {
   "cell_type": "code",
   "execution_count": 27,
   "id": "4eb39ace-8404-4245-b8a5-ac8551c0a147",
   "metadata": {},
   "outputs": [
    {
     "name": "stdout",
     "output_type": "stream",
     "text": [
      "0.642656829536625 127\n"
     ]
    }
   ],
   "source": [
    "cv_score_list=[]\n",
    "for i in range(151,170):\n",
    "    rf = RandomForestRegressor(n_estimators=i,\n",
    "                               n_jobs=-1, random_state=28)\n",
    "    cv_score = cross_val_score(rf, X_train_4vi_acf_pe, y_train,\n",
    "                               scoring='r2',\n",
    "                               cv=3,\n",
    "                               n_jobs=-1).mean()\n",
    "    cv_score_list.append(cv_score)"
   ]
  },
  {
   "cell_type": "code",
   "execution_count": 28,
   "id": "21cbf210-914f-40d6-a17e-eea5543cdabf",
   "metadata": {},
   "outputs": [
    {
     "name": "stdout",
     "output_type": "stream",
     "text": [
      "0.642656829536625 157\n"
     ]
    }
   ],
   "source": [
    "print(max(cv_score_list),([*range(151,170)][cv_score_list.index(max(cv_score_list))]))"
   ]
  },
  {
   "cell_type": "code",
   "execution_count": 29,
   "id": "2b9d87ca-afd0-4c7d-bede-8d12894ca6a7",
   "metadata": {},
   "outputs": [
    {
     "name": "stdout",
     "output_type": "stream",
     "text": [
      "0.6510724847461192 3\n"
     ]
    }
   ],
   "source": [
    "# 4 VIs + ACF + Permutation Entropy：max_depth\n",
    "cv_score_list=[]\n",
    "for i in range(1,11):\n",
    "    rf = RandomForestRegressor(n_estimators=157,\n",
    "                               max_depth=i,\n",
    "                               n_jobs=-1, random_state=28)\n",
    "    cv_score = cross_val_score(rf, X_train_4vi_acf_pe, y_train,\n",
    "                               scoring='r2',\n",
    "                               cv=3,\n",
    "                               n_jobs=-1).mean()\n",
    "    cv_score_list.append(cv_score)\n",
    "print(max(cv_score_list),([*range(1,11)][cv_score_list.index(max(cv_score_list))]))"
   ]
  },
  {
   "cell_type": "code",
   "execution_count": 30,
   "id": "75ee81af-3f4b-49f7-a596-96aefcd95229",
   "metadata": {},
   "outputs": [
    {
     "name": "stdout",
     "output_type": "stream",
     "text": [
      "0.6572388994566841 3\n"
     ]
    }
   ],
   "source": [
    "# 4 VIs + ACF + Permutation Entropy：max_features\n",
    "cv_score_list=[]\n",
    "for i in range(1,11):\n",
    "    rf = RandomForestRegressor(n_estimators=157,\n",
    "                               max_depth=3,\n",
    "                               max_features=i,\n",
    "                               n_jobs=-1, random_state=28)\n",
    "    cv_score = cross_val_score(rf, X_train_4vi_acf_pe, y_train,\n",
    "                               scoring='r2',\n",
    "                               cv=3,\n",
    "                               n_jobs=-1).mean()\n",
    "    cv_score_list.append(cv_score)\n",
    "print(max(cv_score_list),([*range(1,11)][cv_score_list.index(max(cv_score_list))]))"
   ]
  },
  {
   "cell_type": "code",
   "execution_count": 31,
   "id": "1cb93645-9063-4441-9c7c-fed89dc93643",
   "metadata": {},
   "outputs": [
    {
     "name": "stdout",
     "output_type": "stream",
     "text": [
      "0.6580971450235007 6\n"
     ]
    }
   ],
   "source": [
    "# 4 VIs + ACF + Permutation Entropy：min_samples_split\n",
    "cv_score_list=[]\n",
    "for i in range(2,12):\n",
    "    rf = RandomForestRegressor(n_estimators=157,\n",
    "                               max_depth=3,\n",
    "                               max_features=3,\n",
    "                               min_samples_split=i,\n",
    "                               n_jobs=-1, random_state=28)\n",
    "    cv_score = cross_val_score(rf, X_train_4vi_acf_pe, y_train,\n",
    "                               scoring='r2',\n",
    "                               cv=3,\n",
    "                               n_jobs=-1).mean()\n",
    "    cv_score_list.append(cv_score)\n",
    "print(max(cv_score_list),([*range(2,12)][cv_score_list.index(max(cv_score_list))]))"
   ]
  },
  {
   "cell_type": "code",
   "execution_count": 33,
   "id": "0146cc04-98c9-4a8b-9b43-e96b6f3919d2",
   "metadata": {},
   "outputs": [
    {
     "name": "stdout",
     "output_type": "stream",
     "text": [
      "0.6580971450235008 1\n"
     ]
    }
   ],
   "source": [
    "# 4 VIs + ACF + Permutation Entropy：min_samples_leaf\n",
    "cv_score_list=[]\n",
    "for i in range(1,11):\n",
    "    rf = RandomForestRegressor(n_estimators=157,\n",
    "                               max_depth=3,\n",
    "                               max_features=3,\n",
    "                               min_samples_split=6,\n",
    "                               min_samples_leaf=i,\n",
    "                               n_jobs=-1, random_state=28)\n",
    "    cv_score = cross_val_score(rf, X_train_4vi_acf_pe, y_train,\n",
    "                               scoring='r2',\n",
    "                               cv=3,\n",
    "                               n_jobs=-1).mean()\n",
    "    cv_score_list.append(cv_score)\n",
    "print(max(cv_score_list),([*range(1,11)][cv_score_list.index(max(cv_score_list))]))"
   ]
  },
  {
   "cell_type": "markdown",
   "id": "d9b876c7-e24b-4254-9486-2fa39ce44028",
   "metadata": {},
   "source": [
    "# Output the predictions"
   ]
  },
  {
   "cell_type": "code",
   "execution_count": 52,
   "id": "8e86a1f6-1ea5-49fd-9208-b86053583bb8",
   "metadata": {},
   "outputs": [],
   "source": [
    "sub_weather = np.load('submission_weather_staged.npy')\n",
    "sub_vi = np.load('submission_vi_filtered.npz')\n",
    "sub_freq = np.load('submission_vi_freq.npy')"
   ]
  },
  {
   "cell_type": "code",
   "execution_count": 53,
   "id": "5e689ca2-2033-48f9-aa4f-98d5ff5395b5",
   "metadata": {},
   "outputs": [
    {
     "data": {
      "text/plain": [
       "(100, 180)"
      ]
     },
     "execution_count": 53,
     "metadata": {},
     "output_type": "execute_result"
    }
   ],
   "source": [
    "sub_weather_2D = np.reshape(sub_weather,(100,sub_weather.shape[1]*sub_weather.shape[2]))\n",
    "sub_weather_2D.shape"
   ]
  },
  {
   "cell_type": "code",
   "execution_count": 54,
   "id": "a3b37218-4ab8-449a-ba38-cfaf53afe46c",
   "metadata": {},
   "outputs": [
    {
     "data": {
      "text/plain": [
       "(100, 80)"
      ]
     },
     "execution_count": 54,
     "metadata": {},
     "output_type": "execute_result"
    }
   ],
   "source": [
    "sub_vi_data = sub_vi['arr_0']\n",
    "sub_vi_2D = np.reshape(sub_vi_data,(100,sub_vi_data.shape[1]*sub_vi_data.shape[2]*sub_vi_data.shape[3]))\n",
    "sub_vi_2D.shape"
   ]
  },
  {
   "cell_type": "code",
   "execution_count": 55,
   "id": "eb559f87-2f53-40b4-b877-d65c83819130",
   "metadata": {},
   "outputs": [
    {
     "data": {
      "text/html": [
       "<div>\n",
       "<style scoped>\n",
       "    .dataframe tbody tr th:only-of-type {\n",
       "        vertical-align: middle;\n",
       "    }\n",
       "\n",
       "    .dataframe tbody tr th {\n",
       "        vertical-align: top;\n",
       "    }\n",
       "\n",
       "    .dataframe thead th {\n",
       "        text-align: right;\n",
       "    }\n",
       "</style>\n",
       "<table border=\"1\" class=\"dataframe\">\n",
       "  <thead>\n",
       "    <tr style=\"text-align: right;\">\n",
       "      <th></th>\n",
       "      <th>ID No</th>\n",
       "      <th>District</th>\n",
       "      <th>Latitude</th>\n",
       "      <th>Longitude</th>\n",
       "      <th>Season(SA = Summer Autumn, WS = Winter Spring)</th>\n",
       "      <th>Rice Crop Intensity(D=Double, T=Triple)</th>\n",
       "      <th>Date of Harvest</th>\n",
       "      <th>Field size (ha)</th>\n",
       "      <th>Predicted Rice Yield (kg/ha)</th>\n",
       "    </tr>\n",
       "  </thead>\n",
       "  <tbody>\n",
       "    <tr>\n",
       "      <th>0</th>\n",
       "      <td>1</td>\n",
       "      <td>Chau_Phu</td>\n",
       "      <td>10.542192</td>\n",
       "      <td>105.187920</td>\n",
       "      <td>WS</td>\n",
       "      <td>T</td>\n",
       "      <td>10-04-2022</td>\n",
       "      <td>1.40</td>\n",
       "      <td>NaN</td>\n",
       "    </tr>\n",
       "    <tr>\n",
       "      <th>1</th>\n",
       "      <td>2</td>\n",
       "      <td>Chau_Thanh</td>\n",
       "      <td>10.400189</td>\n",
       "      <td>105.331053</td>\n",
       "      <td>SA</td>\n",
       "      <td>T</td>\n",
       "      <td>15-07-2022</td>\n",
       "      <td>1.32</td>\n",
       "      <td>NaN</td>\n",
       "    </tr>\n",
       "    <tr>\n",
       "      <th>2</th>\n",
       "      <td>3</td>\n",
       "      <td>Chau_Phu</td>\n",
       "      <td>10.505489</td>\n",
       "      <td>105.203926</td>\n",
       "      <td>SA</td>\n",
       "      <td>D</td>\n",
       "      <td>14-07-2022</td>\n",
       "      <td>1.40</td>\n",
       "      <td>NaN</td>\n",
       "    </tr>\n",
       "    <tr>\n",
       "      <th>3</th>\n",
       "      <td>4</td>\n",
       "      <td>Chau_Phu</td>\n",
       "      <td>10.523520</td>\n",
       "      <td>105.138274</td>\n",
       "      <td>WS</td>\n",
       "      <td>D</td>\n",
       "      <td>10-04-2022</td>\n",
       "      <td>1.80</td>\n",
       "      <td>NaN</td>\n",
       "    </tr>\n",
       "    <tr>\n",
       "      <th>4</th>\n",
       "      <td>5</td>\n",
       "      <td>Thoai_Son</td>\n",
       "      <td>10.294660</td>\n",
       "      <td>105.248528</td>\n",
       "      <td>SA</td>\n",
       "      <td>T</td>\n",
       "      <td>20-07-2022</td>\n",
       "      <td>2.20</td>\n",
       "      <td>NaN</td>\n",
       "    </tr>\n",
       "    <tr>\n",
       "      <th>...</th>\n",
       "      <td>...</td>\n",
       "      <td>...</td>\n",
       "      <td>...</td>\n",
       "      <td>...</td>\n",
       "      <td>...</td>\n",
       "      <td>...</td>\n",
       "      <td>...</td>\n",
       "      <td>...</td>\n",
       "      <td>...</td>\n",
       "    </tr>\n",
       "    <tr>\n",
       "      <th>95</th>\n",
       "      <td>96</td>\n",
       "      <td>Chau_Thanh</td>\n",
       "      <td>10.435839</td>\n",
       "      <td>105.132981</td>\n",
       "      <td>SA</td>\n",
       "      <td>D</td>\n",
       "      <td>26-07-2022</td>\n",
       "      <td>1.21</td>\n",
       "      <td>NaN</td>\n",
       "    </tr>\n",
       "    <tr>\n",
       "      <th>96</th>\n",
       "      <td>97</td>\n",
       "      <td>Chau_Phu</td>\n",
       "      <td>10.529357</td>\n",
       "      <td>105.147388</td>\n",
       "      <td>WS</td>\n",
       "      <td>T</td>\n",
       "      <td>10-04-2022</td>\n",
       "      <td>2.00</td>\n",
       "      <td>NaN</td>\n",
       "    </tr>\n",
       "    <tr>\n",
       "      <th>97</th>\n",
       "      <td>98</td>\n",
       "      <td>Chau_Thanh</td>\n",
       "      <td>10.452537</td>\n",
       "      <td>105.205118</td>\n",
       "      <td>SA</td>\n",
       "      <td>T</td>\n",
       "      <td>20-07-2022</td>\n",
       "      <td>5.50</td>\n",
       "      <td>NaN</td>\n",
       "    </tr>\n",
       "    <tr>\n",
       "      <th>98</th>\n",
       "      <td>99</td>\n",
       "      <td>Chau_Thanh</td>\n",
       "      <td>10.394341</td>\n",
       "      <td>105.126836</td>\n",
       "      <td>SA</td>\n",
       "      <td>T</td>\n",
       "      <td>14-07-2022</td>\n",
       "      <td>4.40</td>\n",
       "      <td>NaN</td>\n",
       "    </tr>\n",
       "    <tr>\n",
       "      <th>99</th>\n",
       "      <td>100</td>\n",
       "      <td>Chau_Phu</td>\n",
       "      <td>10.480650</td>\n",
       "      <td>105.130089</td>\n",
       "      <td>WS</td>\n",
       "      <td>T</td>\n",
       "      <td>10-04-2022</td>\n",
       "      <td>2.00</td>\n",
       "      <td>NaN</td>\n",
       "    </tr>\n",
       "  </tbody>\n",
       "</table>\n",
       "<p>100 rows × 9 columns</p>\n",
       "</div>"
      ],
      "text/plain": [
       "    ID No    District   Latitude   Longitude  \\\n",
       "0       1    Chau_Phu  10.542192  105.187920   \n",
       "1       2  Chau_Thanh  10.400189  105.331053   \n",
       "2       3    Chau_Phu  10.505489  105.203926   \n",
       "3       4    Chau_Phu  10.523520  105.138274   \n",
       "4       5   Thoai_Son  10.294660  105.248528   \n",
       "..    ...         ...        ...         ...   \n",
       "95     96  Chau_Thanh  10.435839  105.132981   \n",
       "96     97    Chau_Phu  10.529357  105.147388   \n",
       "97     98  Chau_Thanh  10.452537  105.205118   \n",
       "98     99  Chau_Thanh  10.394341  105.126836   \n",
       "99    100    Chau_Phu  10.480650  105.130089   \n",
       "\n",
       "   Season(SA = Summer Autumn, WS = Winter Spring)  \\\n",
       "0                                              WS   \n",
       "1                                              SA   \n",
       "2                                              SA   \n",
       "3                                              WS   \n",
       "4                                              SA   \n",
       "..                                            ...   \n",
       "95                                             SA   \n",
       "96                                             WS   \n",
       "97                                             SA   \n",
       "98                                             SA   \n",
       "99                                             WS   \n",
       "\n",
       "   Rice Crop Intensity(D=Double, T=Triple) Date of Harvest  Field size (ha)  \\\n",
       "0                                        T      10-04-2022             1.40   \n",
       "1                                        T      15-07-2022             1.32   \n",
       "2                                        D      14-07-2022             1.40   \n",
       "3                                        D      10-04-2022             1.80   \n",
       "4                                        T      20-07-2022             2.20   \n",
       "..                                     ...             ...              ...   \n",
       "95                                       D      26-07-2022             1.21   \n",
       "96                                       T      10-04-2022             2.00   \n",
       "97                                       T      20-07-2022             5.50   \n",
       "98                                       T      14-07-2022             4.40   \n",
       "99                                       T      10-04-2022             2.00   \n",
       "\n",
       "    Predicted Rice Yield (kg/ha)  \n",
       "0                            NaN  \n",
       "1                            NaN  \n",
       "2                            NaN  \n",
       "3                            NaN  \n",
       "4                            NaN  \n",
       "..                           ...  \n",
       "95                           NaN  \n",
       "96                           NaN  \n",
       "97                           NaN  \n",
       "98                           NaN  \n",
       "99                           NaN  \n",
       "\n",
       "[100 rows x 9 columns]"
      ]
     },
     "execution_count": 55,
     "metadata": {},
     "output_type": "execute_result"
    }
   ],
   "source": [
    "index_sub = pd.read_csv('Challenge_2_submission_template.csv')\n",
    "index_sub"
   ]
  },
  {
   "cell_type": "code",
   "execution_count": 56,
   "id": "9d5e0dea-4786-41c1-a960-e16ec38f0174",
   "metadata": {},
   "outputs": [],
   "source": [
    "sub_n_cycle = pd.get_dummies(index_sub['Rice Crop Intensity(D=Double, T=Triple)'])  #生成D、T两列\n",
    "sub_n_cycle = np.reshape(np.array(sub_n_cycle['D']),(-1,1))   #以D=1，T=1，(-1,1)指转化为一列\n",
    "sub_field_size = np.reshape(np.array(index_sub['Field size (ha)']),(-1,1))"
   ]
  },
  {
   "cell_type": "code",
   "execution_count": 58,
   "id": "6729a8fc-a3f1-4edf-a366-053d1f76375f",
   "metadata": {},
   "outputs": [
    {
     "data": {
      "text/plain": [
       "(100, 266)"
      ]
     },
     "execution_count": 58,
     "metadata": {},
     "output_type": "execute_result"
    }
   ],
   "source": [
    "X_test = np.concatenate((sub_weather_2D,sub_vi_2D,sub_freq,sub_n_cycle,sub_field_size),axis=1)\n",
    "X_test.shape"
   ]
  },
  {
   "cell_type": "code",
   "execution_count": 59,
   "id": "1586aac5-32a6-4e73-ba04-46dcac62a303",
   "metadata": {},
   "outputs": [],
   "source": [
    "y_pred = rf_best.predict(X_test)"
   ]
  },
  {
   "cell_type": "code",
   "execution_count": 191,
   "id": "fa7f7ff3-afa9-4fd3-9d03-04f9d519d54e",
   "metadata": {},
   "outputs": [],
   "source": [
    "model_lgb_best.fit(X_train, y_train)\n",
    "y_pred_lgb = model_lgb_best.predict(X_test)"
   ]
  },
  {
   "cell_type": "code",
   "execution_count": 192,
   "id": "fb6b6c63-5c31-488d-8777-11e1bb66c8b4",
   "metadata": {},
   "outputs": [],
   "source": [
    "rf_best.fit(X_train, y_train)\n",
    "y_pred_rf = rf_best.predict(X_test)"
   ]
  },
  {
   "cell_type": "code",
   "execution_count": 201,
   "id": "fd4a54c8-2311-48ed-acf5-5aaf2cab600f",
   "metadata": {},
   "outputs": [],
   "source": [
    "rf_best.fit(X_filtered, y_filtered)\n",
    "y_pred_rf2 = rf_best.predict(X_test_filtered)"
   ]
  },
  {
   "cell_type": "code",
   "execution_count": 194,
   "id": "d4067f20-a9d6-4753-8ff3-2d5c3b9c1d6f",
   "metadata": {},
   "outputs": [],
   "source": [
    "y_pred_lgb_rf = 0.15*y_pred_lgb + 0.85*y_pred_rf"
   ]
  },
  {
   "cell_type": "code",
   "execution_count": 60,
   "id": "25b643b1-90b4-4143-a667-2a34bf8b89dd",
   "metadata": {},
   "outputs": [
    {
     "data": {
      "text/html": [
       "<div>\n",
       "<style scoped>\n",
       "    .dataframe tbody tr th:only-of-type {\n",
       "        vertical-align: middle;\n",
       "    }\n",
       "\n",
       "    .dataframe tbody tr th {\n",
       "        vertical-align: top;\n",
       "    }\n",
       "\n",
       "    .dataframe thead th {\n",
       "        text-align: right;\n",
       "    }\n",
       "</style>\n",
       "<table border=\"1\" class=\"dataframe\">\n",
       "  <thead>\n",
       "    <tr style=\"text-align: right;\">\n",
       "      <th></th>\n",
       "      <th>ID No</th>\n",
       "      <th>District</th>\n",
       "      <th>Latitude</th>\n",
       "      <th>Longitude</th>\n",
       "      <th>Season(SA = Summer Autumn, WS = Winter Spring)</th>\n",
       "      <th>Rice Crop Intensity(D=Double, T=Triple)</th>\n",
       "      <th>Date of Harvest</th>\n",
       "      <th>Field size (ha)</th>\n",
       "      <th>Predicted Rice Yield (kg/ha)</th>\n",
       "    </tr>\n",
       "  </thead>\n",
       "  <tbody>\n",
       "    <tr>\n",
       "      <th>0</th>\n",
       "      <td>1</td>\n",
       "      <td>Chau_Phu</td>\n",
       "      <td>10.542192</td>\n",
       "      <td>105.187920</td>\n",
       "      <td>WS</td>\n",
       "      <td>T</td>\n",
       "      <td>10-04-2022</td>\n",
       "      <td>1.40</td>\n",
       "      <td>7229.738958</td>\n",
       "    </tr>\n",
       "    <tr>\n",
       "      <th>1</th>\n",
       "      <td>2</td>\n",
       "      <td>Chau_Thanh</td>\n",
       "      <td>10.400189</td>\n",
       "      <td>105.331053</td>\n",
       "      <td>SA</td>\n",
       "      <td>T</td>\n",
       "      <td>15-07-2022</td>\n",
       "      <td>1.32</td>\n",
       "      <td>5929.969196</td>\n",
       "    </tr>\n",
       "    <tr>\n",
       "      <th>2</th>\n",
       "      <td>3</td>\n",
       "      <td>Chau_Phu</td>\n",
       "      <td>10.505489</td>\n",
       "      <td>105.203926</td>\n",
       "      <td>SA</td>\n",
       "      <td>D</td>\n",
       "      <td>14-07-2022</td>\n",
       "      <td>1.40</td>\n",
       "      <td>5935.138103</td>\n",
       "    </tr>\n",
       "    <tr>\n",
       "      <th>3</th>\n",
       "      <td>4</td>\n",
       "      <td>Chau_Phu</td>\n",
       "      <td>10.523520</td>\n",
       "      <td>105.138274</td>\n",
       "      <td>WS</td>\n",
       "      <td>D</td>\n",
       "      <td>10-04-2022</td>\n",
       "      <td>1.80</td>\n",
       "      <td>7229.738958</td>\n",
       "    </tr>\n",
       "    <tr>\n",
       "      <th>4</th>\n",
       "      <td>5</td>\n",
       "      <td>Thoai_Son</td>\n",
       "      <td>10.294660</td>\n",
       "      <td>105.248528</td>\n",
       "      <td>SA</td>\n",
       "      <td>T</td>\n",
       "      <td>20-07-2022</td>\n",
       "      <td>2.20</td>\n",
       "      <td>5946.181519</td>\n",
       "    </tr>\n",
       "    <tr>\n",
       "      <th>...</th>\n",
       "      <td>...</td>\n",
       "      <td>...</td>\n",
       "      <td>...</td>\n",
       "      <td>...</td>\n",
       "      <td>...</td>\n",
       "      <td>...</td>\n",
       "      <td>...</td>\n",
       "      <td>...</td>\n",
       "      <td>...</td>\n",
       "    </tr>\n",
       "    <tr>\n",
       "      <th>95</th>\n",
       "      <td>96</td>\n",
       "      <td>Chau_Thanh</td>\n",
       "      <td>10.435839</td>\n",
       "      <td>105.132981</td>\n",
       "      <td>SA</td>\n",
       "      <td>D</td>\n",
       "      <td>26-07-2022</td>\n",
       "      <td>1.21</td>\n",
       "      <td>5929.969196</td>\n",
       "    </tr>\n",
       "    <tr>\n",
       "      <th>96</th>\n",
       "      <td>97</td>\n",
       "      <td>Chau_Phu</td>\n",
       "      <td>10.529357</td>\n",
       "      <td>105.147388</td>\n",
       "      <td>WS</td>\n",
       "      <td>T</td>\n",
       "      <td>10-04-2022</td>\n",
       "      <td>2.00</td>\n",
       "      <td>7229.738958</td>\n",
       "    </tr>\n",
       "    <tr>\n",
       "      <th>97</th>\n",
       "      <td>98</td>\n",
       "      <td>Chau_Thanh</td>\n",
       "      <td>10.452537</td>\n",
       "      <td>105.205118</td>\n",
       "      <td>SA</td>\n",
       "      <td>T</td>\n",
       "      <td>20-07-2022</td>\n",
       "      <td>5.50</td>\n",
       "      <td>5935.978774</td>\n",
       "    </tr>\n",
       "    <tr>\n",
       "      <th>98</th>\n",
       "      <td>99</td>\n",
       "      <td>Chau_Thanh</td>\n",
       "      <td>10.394341</td>\n",
       "      <td>105.126836</td>\n",
       "      <td>SA</td>\n",
       "      <td>T</td>\n",
       "      <td>14-07-2022</td>\n",
       "      <td>4.40</td>\n",
       "      <td>5935.138103</td>\n",
       "    </tr>\n",
       "    <tr>\n",
       "      <th>99</th>\n",
       "      <td>100</td>\n",
       "      <td>Chau_Phu</td>\n",
       "      <td>10.480650</td>\n",
       "      <td>105.130089</td>\n",
       "      <td>WS</td>\n",
       "      <td>T</td>\n",
       "      <td>10-04-2022</td>\n",
       "      <td>2.00</td>\n",
       "      <td>7229.738958</td>\n",
       "    </tr>\n",
       "  </tbody>\n",
       "</table>\n",
       "<p>100 rows × 9 columns</p>\n",
       "</div>"
      ],
      "text/plain": [
       "    ID No    District   Latitude   Longitude  \\\n",
       "0       1    Chau_Phu  10.542192  105.187920   \n",
       "1       2  Chau_Thanh  10.400189  105.331053   \n",
       "2       3    Chau_Phu  10.505489  105.203926   \n",
       "3       4    Chau_Phu  10.523520  105.138274   \n",
       "4       5   Thoai_Son  10.294660  105.248528   \n",
       "..    ...         ...        ...         ...   \n",
       "95     96  Chau_Thanh  10.435839  105.132981   \n",
       "96     97    Chau_Phu  10.529357  105.147388   \n",
       "97     98  Chau_Thanh  10.452537  105.205118   \n",
       "98     99  Chau_Thanh  10.394341  105.126836   \n",
       "99    100    Chau_Phu  10.480650  105.130089   \n",
       "\n",
       "   Season(SA = Summer Autumn, WS = Winter Spring)  \\\n",
       "0                                              WS   \n",
       "1                                              SA   \n",
       "2                                              SA   \n",
       "3                                              WS   \n",
       "4                                              SA   \n",
       "..                                            ...   \n",
       "95                                             SA   \n",
       "96                                             WS   \n",
       "97                                             SA   \n",
       "98                                             SA   \n",
       "99                                             WS   \n",
       "\n",
       "   Rice Crop Intensity(D=Double, T=Triple) Date of Harvest  Field size (ha)  \\\n",
       "0                                        T      10-04-2022             1.40   \n",
       "1                                        T      15-07-2022             1.32   \n",
       "2                                        D      14-07-2022             1.40   \n",
       "3                                        D      10-04-2022             1.80   \n",
       "4                                        T      20-07-2022             2.20   \n",
       "..                                     ...             ...              ...   \n",
       "95                                       D      26-07-2022             1.21   \n",
       "96                                       T      10-04-2022             2.00   \n",
       "97                                       T      20-07-2022             5.50   \n",
       "98                                       T      14-07-2022             4.40   \n",
       "99                                       T      10-04-2022             2.00   \n",
       "\n",
       "    Predicted Rice Yield (kg/ha)  \n",
       "0                    7229.738958  \n",
       "1                    5929.969196  \n",
       "2                    5935.138103  \n",
       "3                    7229.738958  \n",
       "4                    5946.181519  \n",
       "..                           ...  \n",
       "95                   5929.969196  \n",
       "96                   7229.738958  \n",
       "97                   5935.978774  \n",
       "98                   5935.138103  \n",
       "99                   7229.738958  \n",
       "\n",
       "[100 rows x 9 columns]"
      ]
     },
     "execution_count": 60,
     "metadata": {},
     "output_type": "execute_result"
    }
   ],
   "source": [
    "df1 = index_sub.drop(columns=['Predicted Rice Yield (kg/ha)'])\n",
    "df2 = pd.DataFrame(y_pred)\n",
    "df2.columns=['Predicted Rice Yield (kg/ha)']\n",
    "submission = pd.concat([df1,df2],axis=1)\n",
    "submission"
   ]
  },
  {
   "cell_type": "code",
   "execution_count": 61,
   "id": "cd4568b4-e6c9-43b4-bcd0-05ca5868ca12",
   "metadata": {},
   "outputs": [],
   "source": [
    "submission.to_csv('submission_rf3.csv')"
   ]
  }
 ],
 "metadata": {
  "kernelspec": {
   "display_name": "Python 3 (ipykernel)",
   "language": "python",
   "name": "python3"
  },
  "language_info": {
   "codemirror_mode": {
    "name": "ipython",
    "version": 3
   },
   "file_extension": ".py",
   "mimetype": "text/x-python",
   "name": "python",
   "nbconvert_exporter": "python",
   "pygments_lexer": "ipython3",
   "version": "3.10.6"
  }
 },
 "nbformat": 4,
 "nbformat_minor": 5
}
